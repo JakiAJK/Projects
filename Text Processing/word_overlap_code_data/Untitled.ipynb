{
 "cells": [
  {
   "cell_type": "code",
   "execution_count": 4,
   "id": "7d14e842-8e6e-4fce-ad59-247231d008d5",
   "metadata": {},
   "outputs": [
    {
     "data": {
      "text/plain": [
       "_io.TextIOWrapper"
      ]
     },
     "execution_count": 4,
     "metadata": {},
     "output_type": "execute_result"
    }
   ],
   "source": [
    "file=open('stop_list.txt', \"r\")\n",
    "files=file.read()\n",
    "words=files.split()\n",
    "words\n"
   ]
  },
  {
   "cell_type": "code",
   "execution_count": 39,
   "id": "50c3ad59-f2c0-4a1e-b17b-4cf1617827c0",
   "metadata": {},
   "outputs": [],
   "source": [
    "def count_words(filename):\n",
    "    counts = {}\n",
    "    file=open(filename, \"r\")\n",
    "    f=file.read()\n",
    "    words=f.split()\n",
    "\t# for w in words:\n",
    "\t# \tif w in stops:\n",
    "\t# \t\ta=1\n",
    "\t# \telse:\n",
    "\t# \t\treturn words\n",
    "    for i in range(len(words)):\n",
    "        z=words[i]\n",
    "        count=0\n",
    "        for j in words:\n",
    "            if j==z:\n",
    "                count=count+1\n",
    "            counts[j]=count\n",
    "    return counts"
   ]
  },
  {
   "cell_type": "code",
   "execution_count": 42,
   "id": "57f272b1-d752-4a97-b340-23d15fc941e1",
   "metadata": {},
   "outputs": [
    {
     "data": {
      "text/plain": [
       "{'the': 3, ',if': 0, 'if': 5, 'the.': 4}"
      ]
     },
     "execution_count": 42,
     "metadata": {},
     "output_type": "execute_result"
    }
   ],
   "source": [
    "count_words('NEWS/untitled.txt')"
   ]
  },
  {
   "cell_type": "code",
   "execution_count": null,
   "id": "f8a1ddd0-f347-443b-9d61-2f64c50e8e52",
   "metadata": {},
   "outputs": [],
   "source": []
  }
 ],
 "metadata": {
  "kernelspec": {
   "display_name": "Python 3 (ipykernel)",
   "language": "python",
   "name": "python3"
  },
  "language_info": {
   "codemirror_mode": {
    "name": "ipython",
    "version": 3
   },
   "file_extension": ".py",
   "mimetype": "text/x-python",
   "name": "python",
   "nbconvert_exporter": "python",
   "pygments_lexer": "ipython3",
   "version": "3.8.12"
  }
 },
 "nbformat": 4,
 "nbformat_minor": 5
}
