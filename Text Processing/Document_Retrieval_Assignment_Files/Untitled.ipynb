{
 "cells": [
  {
   "cell_type": "code",
   "execution_count": 94,
   "id": "e05e8efb-81ad-4376-829c-6a0054dc8fd3",
   "metadata": {},
   "outputs": [
    {
     "name": "stdout",
     "output_type": "stream",
     "text": [
      "a 1\n",
      "a 2\n",
      "a 3\n",
      "a 5\n",
      "b 1\n",
      "b 2\n",
      "b 3\n",
      "b 5\n",
      "c 1\n",
      "c 2\n",
      "c 3\n",
      "c 5\n"
     ]
    },
    {
     "data": {
      "text/plain": [
       "{'a': {}, 'b': {}, 'c': {}}"
      ]
     },
     "execution_count": 94,
     "metadata": {},
     "output_type": "execute_result"
    }
   ],
   "source": [
    "import math\n",
    "a=['a','b','c']#terms\n",
    "b=[1,2,3,5]#document number the term is present in\n",
    "c=dict()#idf values\n",
    "for i in a:\n",
    "    c[i]={}\n",
    "    for j in b:\n",
    "        print(i,j)\n",
    "        #c[i][j]=math.log(j*10)\n",
    "c"
   ]
  },
  {
   "cell_type": "code",
   "execution_count": 37,
   "id": "6e5aec2a-ddbc-4ffb-9222-19d347304e46",
   "metadata": {},
   "outputs": [
    {
     "data": {
      "text/plain": [
       "{1: 2.302585092994046,\n",
       " 2: 2.995732273553991,\n",
       " 3: 3.4011973816621555,\n",
       " 5: 3.912023005428146}"
      ]
     },
     "execution_count": 37,
     "metadata": {},
     "output_type": "execute_result"
    }
   ],
   "source": [
    "term=[]\n",
    "ind=[]\n",
    "for k in c:\n",
    "    term.append(k)\n",
    "c['a']"
   ]
  },
  {
   "cell_type": "code",
   "execution_count": 40,
   "id": "879a8338-f200-47bf-9c04-843d3d9d23a0",
   "metadata": {},
   "outputs": [
    {
     "name": "stdout",
     "output_type": "stream",
     "text": [
      "a 1 2.302585092994046\n",
      "a 2 2.995732273553991\n",
      "a 3 3.4011973816621555\n",
      "a 5 3.912023005428146\n",
      "b 1 2.302585092994046\n",
      "b 2 2.995732273553991\n",
      "b 3 3.4011973816621555\n",
      "b 5 3.912023005428146\n",
      "c 1 2.302585092994046\n",
      "c 2 2.995732273553991\n",
      "c 3 3.4011973816621555\n",
      "c 5 3.912023005428146\n"
     ]
    }
   ],
   "source": [
    "for i in term:\n",
    "    for j in c[i]:\n",
    "        print(i,j,c[i][j])"
   ]
  },
  {
   "cell_type": "code",
   "execution_count": null,
   "id": "40d3c700-b601-453d-9524-62f91b27e49a",
   "metadata": {},
   "outputs": [],
   "source": [
    "TFidf=dict()\n",
    "for term in self.index:\n",
    "    TFidf[term]={}\n",
    "    for j in self.index[term]:\n",
    "        TFidf[term][j]=((self.index[term][j])*math.log(N/len(self.index[term].keys())))\n",
    "        \n",
    "tf=dict()\n",
    "for term in self.index:\n",
    "    tf[term]={}\n",
    "    for j in self.index:\n",
    "        tf[term][j]=self.index[term][j]"
   ]
  },
  {
   "cell_type": "code",
   "execution_count": null,
   "id": "340edb43-f668-4efc-901a-50e0a3faefed",
   "metadata": {},
   "outputs": [],
   "source": [
    "self.doc_ids=set()\n",
    "for term in self.index:\n",
    "    self.doc_ids.update(self.index[term])\n",
    "    return self.doc_ids"
   ]
  },
  {
   "cell_type": "code",
   "execution_count": null,
   "id": "67e8cd14-12ed-4a6d-96b7-6435a55c8170",
   "metadata": {},
   "outputs": [],
   "source": [
    "self.all_docs=dict()\n",
    "for term in self.index:\n",
    "    for doc_id in self.index[term]:\n",
    "        if doc_id not in self.all_docs:\n",
    "            self.all_docs[doc_id]={}\n",
    "            self.all_docs[doc_id]=(term,)*int(self.index[term][doc_id])\n",
    "        else:\n",
    "            self.all_docs[doc_id]+=(term,)*int(self.index[term][doc_id])"
   ]
  },
  {
   "cell_type": "code",
   "execution_count": 136,
   "id": "2ab0b8fc-80b0-46db-a6d3-12b2cc26347e",
   "metadata": {},
   "outputs": [
    {
     "name": "stdout",
     "output_type": "stream",
     "text": [
      "{'doc_1': ('wordA', 'wordA'), 'doc_3': ('wordA', 'wordA', 'wordA', 'wordB', 'wordC'), 'doc_2': ('wordB', 'wordB', 'wordB', 'wordB', 'wordB', 'wordC', 'wordC', 'wordC', 'wordC', 'wordC'), 'doc_5': ('wordC',)}\n"
     ]
    }
   ],
   "source": [
    "ind = { 'wordA': {'doc_1': '2','doc_3':'3'},'wordB': {'doc_2': '5','doc_3':'1'},'wordC': {'doc_2': '5','doc_3':'1','doc_5':'1'}}\n",
    "d=dict()\n",
    "for i in ind:\n",
    "    for j in ind[i]:\n",
    "        if j not in d:\n",
    "            d[j]={}\n",
    "            d[j]=(i,)*int(ind[i][j])\n",
    "        else:\n",
    "            d[j]+=(i,)*int(ind[i][j])\n",
    "print(d)"
   ]
  },
  {
   "cell_type": "code",
   "execution_count": 139,
   "id": "f8eeeb61-78c7-49d7-a9f5-52215f905a2f",
   "metadata": {},
   "outputs": [
    {
     "data": {
      "text/plain": [
       "{'doc_2', 'doc_3', 'doc_5'}"
      ]
     },
     "execution_count": 139,
     "metadata": {},
     "output_type": "execute_result"
    }
   ],
   "source": [
    "matching_docs=set()\n",
    "query_terms={'wordB':'2','wordC':'1'}\n",
    "for term in query_terms:\n",
    "    #matching_docs=[]\n",
    "    #temp_dict[term]={}\n",
    "    if term in ind.keys():\n",
    "        matching_docs.update(ind[term])\n",
    "matching_docs"
   ]
  },
  {
   "cell_type": "code",
   "execution_count": 130,
   "id": "28f25e1c-fa44-46b1-83d4-f343d0946401",
   "metadata": {},
   "outputs": [
    {
     "ename": "IndentationError",
     "evalue": "unexpected indent (Temp/ipykernel_2524/125108218.py, line 2)",
     "output_type": "error",
     "traceback": [
      "\u001b[1;36m  File \u001b[1;32m\"C:\\Users\\jagat\\AppData\\Local\\Temp/ipykernel_2524/125108218.py\"\u001b[1;36m, line \u001b[1;32m2\u001b[0m\n\u001b[1;33m    for term in config.index:\u001b[0m\n\u001b[1;37m    ^\u001b[0m\n\u001b[1;31mIndentationError\u001b[0m\u001b[1;31m:\u001b[0m unexpected indent\n"
     ]
    }
   ],
   "source": [
    "p=0\n",
    "    for term in config.index:\n",
    "        if p<5:\n",
    "            print(term,config.index[term])\n",
    "            print(len(config.index[term].keys))\n",
    "            p=p+1"
   ]
  },
  {
   "cell_type": "code",
   "execution_count": null,
   "id": "b624292a-c9f0-4830-8bb2-70a586e28adf",
   "metadata": {},
   "outputs": [],
   "source": [
    "        self.query=query\n",
    "        self.query_terms=dict()\n",
    "        for word in self.query:\n",
    "            if word in self.query_terms:\n",
    "                self.query_terms[word] += 1\n",
    "            else:\n",
    "                self.query_terms[word] = 1\n",
    "            return self.query_terms\n",
    "        #print(query_terms)"
   ]
  },
  {
   "cell_type": "code",
   "execution_count": 154,
   "id": "0a8e7a3f-1575-4e30-9d9f-c825b7922879",
   "metadata": {},
   "outputs": [
    {
     "name": "stdout",
     "output_type": "stream",
     "text": [
      "{'is': 2, 'that': 2, 'good': 1, 'or': 1, 'ok': 1}\n",
      "{'is': 2, 'that': 2, 'good': 1, 'or': 1, 'ok': 1}\n",
      "fruit is apple\n",
      "color is red\n",
      "10\n",
      "fruit is grapes\n",
      "color is green\n",
      "10\n"
     ]
    }
   ],
   "source": [
    "class food():\n",
    " \n",
    "    # init method or constructor\n",
    "    def __init__(self, fruit, color):\n",
    "        self.fruit = fruit\n",
    "        self.color = color\n",
    "        self.number=self.sks()\n",
    "        self.N=self.number\n",
    "        a=['is','that','good','or','is','that','ok']\n",
    "        #print(fruit,self.number,N)\n",
    "        tf=dict()\n",
    "        for i in a:\n",
    "            if i in tf:\n",
    "                tf[i]+=1\n",
    "            else:\n",
    "                tf[i]=1\n",
    "        print(tf)\n",
    "        \n",
    "    def show(self):\n",
    "        print(\"fruit is\", self.fruit)\n",
    "        print(\"color is\", self.color)\n",
    "        print(self.N)\n",
    "    \n",
    "    def sks(self):\n",
    "        return 10\n",
    "apple = food(\"apple\", \"red\")\n",
    "grapes = food(\"grapes\", \"green\")\n",
    " \n",
    "apple.show()\n",
    "grapes.show()"
   ]
  },
  {
   "cell_type": "code",
   "execution_count": 2,
   "id": "a01e3511-afca-4135-bc9a-cfe5b6673925",
   "metadata": {},
   "outputs": [
    {
     "name": "stdout",
     "output_type": "stream",
     "text": [
      "[1, 2] [0, -1] [3, 4, 5]\n"
     ]
    }
   ],
   "source": [
    "a=[1,2]\n",
    "b=[0,-1]\n",
    "c=[3,4,5]\n",
    "\n",
    "p=a\n",
    "q=b\n",
    "r=c\n",
    "i,j,k=a,b,c\n",
    "print(i,j,k)"
   ]
  },
  {
   "cell_type": "code",
   "execution_count": 3,
   "id": "f55088c4-70b5-4fa0-8bc1-8122758b990a",
   "metadata": {},
   "outputs": [
    {
     "name": "stdout",
     "output_type": "stream",
     "text": [
      "[1, 2] [0, -1] [3, 4, 5]\n"
     ]
    }
   ],
   "source": [
    "print(p,q,r)"
   ]
  },
  {
   "cell_type": "code",
   "execution_count": 9,
   "id": "313396b8-2567-4318-8642-4e7c2d7b4286",
   "metadata": {},
   "outputs": [
    {
     "data": {
      "text/plain": [
       "{'a': [1, 2], 'b': [0, -1], 'c': [3, 4, 5]}"
      ]
     },
     "execution_count": 9,
     "metadata": {},
     "output_type": "execute_result"
    }
   ],
   "source": [
    "dic=dict(a=a,b=b,c=c)\n",
    "dic"
   ]
  },
  {
   "cell_type": "code",
   "execution_count": null,
   "id": "d469c520-72e4-4dd0-85f2-0fe49000ead9",
   "metadata": {},
   "outputs": [],
   "source": [
    "if self.term_weighting=='tfidf':\n",
    "        \n",
    "            self.tfIDF_of_query=dict()\n",
    "            for term in self.terms_in_query:\n",
    "                if term in self.index:\n",
    "                    self.tfIDF_of_query[term]=(int(self.terms_in_query[term])*self.idf[term])\n",
    "        \n",
    "            self.tfIDF_of_match_docs=dict()\n",
    "            for doc_ID in self.doc_ID_matching_query:\n",
    "                self.tfIDF_of_match_docs[doc_ID]={}\n",
    "                for word in self.all_docs[doc_ID]:\n",
    "                    self.tfIDF_of_match_docs[doc_ID][word]=(int(self.index[word][doc_ID])*self.idf[word])\n",
    "            #for doc_ID in self.doc_ID_matching_query:\n",
    "            #    self.tfIDF_of_match_docs[doc_ID]={}\n",
    "            #    for word in self.index:\n",
    "            #        if doc_ID in self.index[word]:\n",
    "            #            self.tfIDF_of_match_docs[doc_ID][word]=(int(self.index[word][doc_ID])*self.idf[word])\n",
    "            \n",
    "            self.tfIDF_match_docs_normalised=self.normalise(self.tfIDF_of_match_docs)\n",
    "        \n",
    "            self.cosine_score=dict()\n",
    "            for doc_id in self.doc_ID_matching_query:\n",
    "                self.cosine_score[doc_id]=self.cosine_sim_score(self.tfIDF_of_query,self.tfIDF_match_docs_normalised[doc_id])\n",
    "        \n",
    "            sorted_dict=dict(sorted(self.cosine_score.items(), key=lambda item: item[1], reverse=True))\n",
    "        \n",
    "            return list(sorted_dict.keys())"
   ]
  },
  {
   "cell_type": "code",
   "execution_count": null,
   "id": "c2794bed-08fa-49a9-be26-e1d4c0ae28c8",
   "metadata": {},
   "outputs": [],
   "source": [
    "#for doc_ID in self.doc_ID_matching_query:\n",
    "            #    tfIDF_of_match_docs[doc_ID]={}\n",
    "            #    for word in self.index:\n",
    "            #        if doc_ID in self.index[word]:\n",
    "            #            tfIDF_of_match_docs[doc_ID][word]=(int(self.index[word][doc_ID])*self.idf[word])"
   ]
  },
  {
   "cell_type": "code",
   "execution_count": null,
   "id": "3dca649d-e6c6-4028-95ac-b288c1c76773",
   "metadata": {},
   "outputs": [],
   "source": [
    "#self.tf_of_match_docs=dict()             # a dict to store term frequency values\n",
    "            #for doc_num in self.doc_ID_matching_query:\n",
    "             #   self.tf_of_match_docs[doc_num]={}\n",
    "              #  for term in self.tf_of_query:\n",
    "               #     #if term in self.index\n",
    "                #    if doc_num in self.index[term]:\n",
    "                 #       self.tf_of_match_docs[doc_num][term]=int(self.index[term][doc_num])"
   ]
  },
  {
   "cell_type": "code",
   "execution_count": null,
   "id": "ff92b251-72d2-4a34-8309-ea9428abc004",
   "metadata": {},
   "outputs": [],
   "source": [
    "self.tfidf_sigma=self.calc_tfidf_sigma()\n",
    "        self.tf_sigma=self.calc_tf_sigma()\n",
    "        self.binary_sigma=self.calc_binary_sigma()"
   ]
  },
  {
   "cell_type": "code",
   "execution_count": null,
   "id": "5a270382-0463-4e50-9ea9-d7f00b8b7a08",
   "metadata": {},
   "outputs": [],
   "source": [
    "def calc_tfidf_sigma(self):\n",
    "        self.sigma_of_document=dict()\n",
    "        for doc_id in self.all_docs:\n",
    "            self.sq_of_values=[]\n",
    "            self.word_list=[]\n",
    "            for word in self.all_docs[doc_id]:\n",
    "                if word not in self.word_list:\n",
    "                    self.word_list.append(word)\n",
    "                    k=(int(self.index[word][doc_id])*self.idf[word])\n",
    "                    self.sq_of_values.append(k*k)   \n",
    "            self.sigma_of_document[doc_id]= math.sqrt(sum(self.sq_of_values))\n",
    "        return (self.sigma_of_document)\n",
    "    \n",
    "    def calc_tf_sigma(self):\n",
    "        self.sigma_of_document=dict()\n",
    "        for doc_id in self.all_docs:\n",
    "            self.sq_of_values=[]\n",
    "            self.word_list=[]\n",
    "            for word in self.all_docs[doc_id]:\n",
    "                if word not in self.word_list:\n",
    "                    self.word_list.append(word)\n",
    "                    k=(int(self.index[word][doc_id]))\n",
    "                    self.sq_of_values.append(k*k)   \n",
    "            self.sigma_of_document[doc_id]= math.sqrt(sum(self.sq_of_values))\n",
    "        return (self.sigma_of_document)\n",
    "    \n",
    "    def calc_binary_sigma(self):\n",
    "        self.sigma_of_document=dict()\n",
    "        for doc_id in self.all_docs:\n",
    "            self.sq_of_values=[]\n",
    "            self.word_list=[]\n",
    "            for word in self.all_docs[doc_id]:\n",
    "                if word not in self.word_list:\n",
    "                    self.word_list.append(word)\n",
    "                    k=1\n",
    "                    self.sq_of_values.append(k*k)   \n",
    "            self.sigma_of_document[doc_id]= math.sqrt(sum(self.sq_of_values))\n",
    "        return (self.sigma_of_document)"
   ]
  },
  {
   "cell_type": "code",
   "execution_count": 17,
   "id": "6b15083f-609a-4aa8-afe8-40b3cd4a7a4f",
   "metadata": {},
   "outputs": [
    {
     "data": {
      "text/plain": [
       "[['a', 'b', 'c'], ['b', 'c']]"
      ]
     },
     "execution_count": 17,
     "metadata": {},
     "output_type": "execute_result"
    }
   ],
   "source": [
    "d=dict()\n",
    "e=[]\n",
    "f=['a','b','c']\n",
    "g=['b','c']\n",
    "d['a']=1\n",
    "d['a']+=2\n",
    "d['a']=2/d['a']\n",
    "e.append(f)\n",
    "e.append(g)\n",
    "e"
   ]
  },
  {
   "cell_type": "code",
   "execution_count": 19,
   "id": "0dda14c6-6629-4a3f-a07f-db688f931778",
   "metadata": {},
   "outputs": [
    {
     "data": {
      "text/plain": [
       "{'a', 'b', 'c'}"
      ]
     },
     "execution_count": 19,
     "metadata": {},
     "output_type": "execute_result"
    }
   ],
   "source": [
    "a=['a','b','a','c']\n",
    "b=set(a)\n",
    "b"
   ]
  },
  {
   "cell_type": "code",
   "execution_count": null,
   "id": "e52085f3-0247-4fec-8fe3-e2872b951efb",
   "metadata": {},
   "outputs": [],
   "source": []
  }
 ],
 "metadata": {
  "kernelspec": {
   "display_name": "Python 3 (ipykernel)",
   "language": "python",
   "name": "python3"
  },
  "language_info": {
   "codemirror_mode": {
    "name": "ipython",
    "version": 3
   },
   "file_extension": ".py",
   "mimetype": "text/x-python",
   "name": "python",
   "nbconvert_exporter": "python",
   "pygments_lexer": "ipython3",
   "version": "3.8.12"
  }
 },
 "nbformat": 4,
 "nbformat_minor": 5
}
