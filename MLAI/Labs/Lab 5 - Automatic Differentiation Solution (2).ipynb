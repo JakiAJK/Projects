{
 "cells": [
  {
   "cell_type": "markdown",
   "metadata": {},
   "source": [
    "# Introduction to PyTorch\n",
    "\n",
    "### Modified by Thomas McDonald, 25th October 2021\n",
    "\n",
    "### 28th October 2020 by Juan-José Giraldo and Mauricio A Álvarez\n",
    "\n",
    "In this notebook, we will look at the PyTorch library in Python (also known by its import name, `torch`) which allows for automatic differentiation. PyTorch will also be used to implement different neural network models later on.\n",
    "\n",
    "### Tensors"
   ]
  },
  {
   "cell_type": "markdown",
   "metadata": {},
   "source": [
    "A tensor generalises the concept of vectors and matrices to an arbitrary number of dimensions. Another name for the same concept is a multidimensional array. The dimensionality of a tensor is the number of indexes required to refer to scalar values within the tensor. The cell below shows an example initialising a Tensor uniformly in 1D, 2D and 3D:"
   ]
  },
  {
   "cell_type": "code",
   "execution_count": 1,
   "metadata": {},
   "outputs": [
    {
     "name": "stdout",
     "output_type": "stream",
     "text": [
      "Tensor 1D presents one index with shape torch.Size([2]) :\n",
      " tensor([0.8152, 0.4301])\n",
      "\n",
      "Tensor 2D presents two indexes with shape torch.Size([2, 3]) :\n",
      " tensor([[0.9681, 0.8170, 0.0172],\n",
      "        [0.3840, 0.5122, 0.8202]])\n",
      "\n",
      "Tensor 3D presents three indexes with shape torch.Size([5, 2, 3]) :\n",
      " tensor([[[0.8578, 0.0543, 0.6809],\n",
      "         [0.4462, 0.8442, 0.5043]],\n",
      "\n",
      "        [[0.1969, 0.5469, 0.8446],\n",
      "         [0.4568, 0.8216, 0.7234]],\n",
      "\n",
      "        [[0.7251, 0.3551, 0.3625],\n",
      "         [0.4749, 0.2704, 0.1940]],\n",
      "\n",
      "        [[0.3561, 0.3122, 0.4120],\n",
      "         [0.5788, 0.1817, 0.9749]],\n",
      "\n",
      "        [[0.3795, 0.2134, 0.5733],\n",
      "         [0.1803, 0.2161, 0.6774]]])\n"
     ]
    }
   ],
   "source": [
    "# We first import the torch library that comes with the Anaconda distribution\n",
    "import torch\n",
    "\n",
    "# Tensor 1D presents 1 index\n",
    "y = torch.rand([2])\n",
    "print(\"Tensor 1D presents one index\", \"with shape\", y.shape, \":\\n\", y)  # get specific size with .shape\n",
    "\n",
    "# Tensor 2D presents 2 indexes\n",
    "y = torch.rand([2, 3])\n",
    "print(\"\\nTensor 2D presents two indexes\", \"with shape\", y.shape, \":\\n\", y)\n",
    "\n",
    "# Tensor 3D presents 3 indexes\n",
    "y = torch.rand([5, 2, 3])\n",
    "print(\"\\nTensor 3D presents three indexes\", \"with shape\", y.shape, \":\\n\", y)"
   ]
  },
  {
   "cell_type": "code",
   "execution_count": 2,
   "metadata": {},
   "outputs": [
    {
     "name": "stdout",
     "output_type": "stream",
     "text": [
      "tensor([ 8., 15.])\n"
     ]
    }
   ],
   "source": [
    "# Create a tensor with specific values\n",
    "x = torch.tensor([4.0, 5.0], dtype=torch.float32)\n",
    "y = torch.tensor([2.0, 3.0], dtype=torch.float32)\n",
    "\n",
    "# Tensor multiplication (point-wise multiplication)\n",
    "print(x * y)"
   ]
  },
  {
   "cell_type": "markdown",
   "metadata": {},
   "source": [
    "### Initialise a tensor with torch.zeros or torch.ones "
   ]
  },
  {
   "cell_type": "code",
   "execution_count": 3,
   "metadata": {},
   "outputs": [
    {
     "name": "stdout",
     "output_type": "stream",
     "text": [
      "x_zeros: tensor([[0., 0., 0., 0.],\n",
      "        [0., 0., 0., 0.],\n",
      "        [0., 0., 0., 0.]]) with shape torch.Size([3, 4]) \n",
      "\n",
      "x_ones: tensor([[1., 1., 1., 1., 1., 1.],\n",
      "        [1., 1., 1., 1., 1., 1.]]) with shape torch.Size([2, 6])\n"
     ]
    }
   ],
   "source": [
    "x_zeros = torch.zeros([3, 4])\n",
    "print(\"x_zeros:\", x_zeros, \"with shape\", x_zeros.shape, \"\\n\")\n",
    "\n",
    "x_ones = torch.ones([2, 6])\n",
    "print(\"x_ones:\", x_ones, \"with shape\", x_ones.shape)"
   ]
  },
  {
   "cell_type": "markdown",
   "metadata": {},
   "source": [
    "### Reshape a tensor using .view"
   ]
  },
  {
   "cell_type": "code",
   "execution_count": 4,
   "metadata": {},
   "outputs": [
    {
     "name": "stdout",
     "output_type": "stream",
     "text": [
      "tensor([[1.],\n",
      "        [1.],\n",
      "        [1.],\n",
      "        [1.],\n",
      "        [1.],\n",
      "        [1.]])\n"
     ]
    }
   ],
   "source": [
    "y = torch.ones([3, 2])\n",
    "y_reshaped = y.view(6, 1)  # in contrast to the common NumPy library, we use .view instead of .reshape\n",
    "print(y_reshaped)"
   ]
  },
  {
   "cell_type": "markdown",
   "metadata": {},
   "source": [
    "### Numpy interoperability \n",
    "\n",
    "PyTorch tensors can be converted efficiently to NumPy arrays and vice versa. By doing so, you can leverage the huge swathes of functionality in the wider Python ecosystem which has built up around the NumPy array type."
   ]
  },
  {
   "cell_type": "code",
   "execution_count": 5,
   "metadata": {},
   "outputs": [
    {
     "name": "stdout",
     "output_type": "stream",
     "text": [
      "Array in numpy form with shape (3, 4) :\n",
      " [[1. 1. 1. 1.]\n",
      " [1. 1. 1. 1.]\n",
      " [1. 1. 1. 1.]]\n",
      "\n",
      "Array from Numpy to Torch with shape torch.Size([5, 8]) :\n",
      " tensor([[-1.6013, -1.0218, -1.2912,  0.8110, -0.7336,  0.0421, -2.0424,  1.1263],\n",
      "        [ 0.8235, -0.4590, -0.7681, -0.9724, -0.6552, -0.4915,  0.6950,  0.6480],\n",
      "        [ 1.2440, -0.9016,  0.0891, -0.8635, -1.3515,  0.2524, -0.8019, -0.5409],\n",
      "        [-2.0137,  1.4414, -0.9489,  0.6487, -0.4727, -1.0247,  0.8116, -0.4644],\n",
      "        [-0.1463, -0.3564, -0.2213,  0.7856, -0.1937,  0.3885, -0.6482,  0.7994]],\n",
      "       dtype=torch.float64)\n"
     ]
    }
   ],
   "source": [
    "import numpy as np\n",
    "\n",
    "# tensor_torch to tensor numpy\n",
    "tensor_torch = torch.ones(3, 4)\n",
    "tensor_numpy = (tensor_torch.numpy())  # returns a NumPy multidim. array of the correct size, shape and numerical type.\n",
    "print(\"Array in numpy form with shape\", tensor_numpy.shape, \":\\n\", tensor_numpy)\n",
    "\n",
    "# tensor_numpy to tensor_torch\n",
    "tensor_np = np.random.randn(5, 8)\n",
    "tensor_numpy_to_torch = torch.from_numpy(tensor_np)\n",
    "print(\n",
    "    \"\\nArray from Numpy to Torch with shape\",\n",
    "    tensor_numpy_to_torch.shape,\n",
    "    \":\\n\",\n",
    "    tensor_numpy_to_torch,\n",
    ")"
   ]
  },
  {
   "cell_type": "markdown",
   "metadata": {},
   "source": [
    "## Automatic Differentiation\n",
    "\n",
    "PyTorch allows us to automatically obtain the gradients of a tensor with respect to a defined function. When creating the tensor, we have to indicate that it requires the gradient computation using the flag `requires_grad`  "
   ]
  },
  {
   "cell_type": "code",
   "execution_count": 6,
   "metadata": {},
   "outputs": [
    {
     "name": "stdout",
     "output_type": "stream",
     "text": [
      "tensor([0.6513, 0.2336, 0.9373], requires_grad=True)\n"
     ]
    }
   ],
   "source": [
    "x = torch.rand(3, requires_grad=True)\n",
    "print(x)"
   ]
  },
  {
   "cell_type": "markdown",
   "metadata": {},
   "source": [
    "Notice that now the tensor shows the flag `requires_grad` as True. We can also activate such a flag in a tensor which has already been created as follows:"
   ]
  },
  {
   "cell_type": "code",
   "execution_count": 7,
   "metadata": {},
   "outputs": [
    {
     "name": "stdout",
     "output_type": "stream",
     "text": [
      "tensor([1., 2., 3.], requires_grad=True)\n"
     ]
    }
   ],
   "source": [
    "x = torch.tensor([1.0, 2.0, 3.0])\n",
    "x.requires_grad_(True)\n",
    "print(x)"
   ]
  },
  {
   "cell_type": "markdown",
   "metadata": {},
   "source": [
    "Let us define a function $y=x^2+5$. The function $y$ will not only carry the result of evaluating $x$, but also the gradient function $\\frac{\\partial y}{\\partial x}$ called `grad_fn` in the new tensor $y$:"
   ]
  },
  {
   "cell_type": "code",
   "execution_count": 8,
   "metadata": {},
   "outputs": [
    {
     "name": "stdout",
     "output_type": "stream",
     "text": [
      "tensor([9.], grad_fn=<AddBackward0>)\n"
     ]
    }
   ],
   "source": [
    "x = torch.tensor([2.0])\n",
    "x.requires_grad_(True)  # indicate we will need the gradients with respect to to this variable\n",
    "y = x ** 2 + 5\n",
    "print(y)"
   ]
  },
  {
   "cell_type": "markdown",
   "metadata": {},
   "source": [
    "To evaluate the partial derivative $\\frac{\\partial y}{\\partial x}$, we use the `.backward()` function and the result of the gradient evaluation is stored in `x.grad` :"
   ]
  },
  {
   "cell_type": "code",
   "execution_count": 9,
   "metadata": {},
   "outputs": [
    {
     "name": "stdout",
     "output_type": "stream",
     "text": [
      "PyTorch gradient: tensor([4.])\n",
      "Analytical gradient: tensor([4.])\n"
     ]
    }
   ],
   "source": [
    "y.backward()  # dy/dx\n",
    "print(\"PyTorch gradient:\", x.grad)\n",
    "\n",
    "# Let us compare with the analytical gradient of y = x**2 + 5\n",
    "with torch.no_grad():  # this allows us to use only use the tensor value, without its gradient information\n",
    "    dy_dx = 2 * x  # analytical gradient\n",
    "print(\"Analytical gradient:\", dy_dx)"
   ]
  },
  {
   "cell_type": "markdown",
   "metadata": {},
   "source": [
    "If we evaluate a vector $\\mathbf{w}=[w_1, \\ldots, w_D]^{\\top}$, to compute another vector $\\mathbf{g}=[g_1, \\ldots, g_D]^{\\top}$ with elements $g_i=w_i^2+5$, then we obtain a vector $\\mathbf{g}$ that contains each evaluation of the function. If we want to obtain the gradient w.r.t $\\mathbf{w}$ by using \"g.backward()\", we have to pass a vector of size equal to w.shape to the function, i.e., \"g.backward(vect)\". "
   ]
  },
  {
   "cell_type": "code",
   "execution_count": 10,
   "metadata": {},
   "outputs": [
    {
     "name": "stdout",
     "output_type": "stream",
     "text": [
      "tensor([2., 4., 6.])\n"
     ]
    }
   ],
   "source": [
    "w = torch.tensor([1.0, 2.0, 3.0])\n",
    "w.requires_grad_(True)\n",
    "\n",
    "g = w ** 2 + 5\n",
    "\n",
    "# Below, the values [1.0, 1.0, 1.0] are multiplied by the gradient g.backward(vect);\n",
    "# of course using this vector of ones does not modify the value of the gradient\n",
    "vect = torch.tensor([1.0, 1.0, 1.0], dtype=torch.float32)\n",
    "g.backward(vect)\n",
    "print(w.grad)"
   ]
  },
  {
   "cell_type": "markdown",
   "metadata": {},
   "source": [
    "On the other hand, when accessing the gradients in a for loop, PyTorch acummulates the gradients at each\n",
    "iteration. In order to avoid this behaviour, we have to use the function .grad.zero_() also at each iteration. See in the example below what happens when commenting and uncommenting the line \"w.grad.zero_()\":"
   ]
  },
  {
   "cell_type": "code",
   "execution_count": 11,
   "metadata": {},
   "outputs": [
    {
     "name": "stdout",
     "output_type": "stream",
     "text": [
      "tensor([2., 4., 6.])\n",
      "tensor([2., 4., 6.])\n",
      "tensor([2., 4., 6.])\n"
     ]
    }
   ],
   "source": [
    "#Pytorch uses a cumulative process for the gradients\n",
    "w = torch.tensor([1.0,2.0,3.0])\n",
    "w.requires_grad_(True)\n",
    "\n",
    "for i in range(3):\n",
    "    g = w**2+5\n",
    "    g.backward(torch.ones_like(w))\n",
    "    print(w.grad)\n",
    "    w.grad.zero_()    #this line avoids the acummulation of the gradients uncomment it to see its effect"
   ]
  },
  {
   "cell_type": "markdown",
   "metadata": {},
   "source": [
    "###  Question 1\n",
    "\n",
    "Verify that the gradients provided by PyTorch are identical to the analytical gradients of the function $f = \\exp \\big(-x^2-2x- \\sin (x) \\big)$ w.r.t $x$."
   ]
  },
  {
   "cell_type": "code",
   "execution_count": 12,
   "metadata": {},
   "outputs": [
    {
     "name": "stdout",
     "output_type": "stream",
     "text": [
      "PyTorch gradient: tensor([-0.0008])\n",
      "Analytical gradient: tensor([-0.0008])\n"
     ]
    }
   ],
   "source": [
    "## ANSWER ##\n",
    "x = torch.tensor([2.0])\n",
    "x.requires_grad_(True)  # We will need the gradients with respect to this variable\n",
    "y = torch.exp(-(x ** 2) - 2 * x - torch.sin(x))\n",
    "\n",
    "# we can also write y as:\n",
    "# y= e(-x^2).e(-2x).e(-sin(x))\n",
    "# dy/dx= e(-2x)e(-sin(x))(-2xe(-x^2))+ e(-x^2)e(-sin(x))(-2e(-2x))+ e(-x^2).e(-2x)(-cos(x)e(-sin(x)))\n",
    "\n",
    "y.backward()  # dy/dx\n",
    "print(\"PyTorch gradient:\", x.grad)\n",
    "\n",
    "with torch.no_grad():\n",
    "    dy_dx = (\n",
    "        torch.exp(-2 * x) * torch.exp(-torch.sin(x)) * (-2 * x * torch.exp(-(x ** 2)))\n",
    "        + torch.exp(-(x ** 2)) * torch.exp(-torch.sin(x)) * (-2 * torch.exp(-2 * x))\n",
    "        + torch.exp(-(x ** 2))\n",
    "        * torch.exp(-2 * x)\n",
    "        * (-torch.cos(x) * torch.exp(-torch.sin(x)))\n",
    "    )  # Analytical gradient\n",
    "print(\"Analytical gradient:\", dy_dx)"
   ]
  },
  {
   "cell_type": "markdown",
   "metadata": {
    "tags": []
   },
   "source": [
    "## Linear Regression Basic Example\n",
    "\n",
    "We now provide a very simple example of linear regression with one input dimension, $y=wx+b$, and illustrate how we can use PyTorch to optimise the parameters of the model."
   ]
  },
  {
   "cell_type": "code",
   "execution_count": 13,
   "metadata": {},
   "outputs": [],
   "source": [
    "n_data = 100\n",
    "x = torch.rand(n_data)\n",
    "true_w = 1.5\n",
    "true_bias = 1.0\n",
    "\n",
    "# We generate the dataset from the actual model but with some added noise\n",
    "y = true_w * x + true_bias + 0.05 * torch.randn(n_data)\n",
    "\n",
    "# We make sure to set the requires_grad flag to True for both parameters\n",
    "w = torch.tensor(0.0, dtype=torch.float32, requires_grad=True)\n",
    "bias = torch.tensor(0.0, dtype=torch.float32, requires_grad=True)"
   ]
  },
  {
   "cell_type": "markdown",
   "metadata": {},
   "source": [
    "Firstly, we will define two useful functions, the prediction function and the objective function."
   ]
  },
  {
   "cell_type": "code",
   "execution_count": 14,
   "metadata": {},
   "outputs": [],
   "source": [
    "def model_prediction(x, w, bias):\n",
    "    return w * x + bias\n",
    "\n",
    "\n",
    "def loss_function(y, y_pred):\n",
    "    return ((y_pred - y) ** 2).mean()  # Mean Squared Error (MSE)"
   ]
  },
  {
   "cell_type": "markdown",
   "metadata": {},
   "source": [
    "Then, in order to estimate the parameters of the model, we will use a technique known as *coordinate descent*:\n",
    "\n",
    "\\begin{align*}\n",
    "    w_{k+1} = w_k - \\eta \\frac{dE}{dw}\\\\ \n",
    "    b_{k+1} = b_k - \\eta \\frac{dE}{db}\\\\ \n",
    "\\end{align*}\n",
    "\n",
    "We know that there is a closed form solution for $w$ and $b$ through the normal equation. The example is for illustrative purposes."
   ]
  },
  {
   "cell_type": "code",
   "execution_count": 15,
   "metadata": {},
   "outputs": [
    {
     "name": "stdout",
     "output_type": "stream",
     "text": [
      "Iteration = 1, Loss = 3.28208995, w = 0.206, bias = 0.351\n",
      "Iteration = 51, Loss = 0.01492775, w = 1.139, bias = 1.188\n",
      "Iteration = 101, Loss = 0.00566857, w = 1.322, bias = 1.087\n",
      "Iteration = 151, Loss = 0.00334468, w = 1.414, bias = 1.037\n",
      "Iteration = 201, Loss = 0.00276142, w = 1.460, bias = 1.012\n",
      "Iteration = 251, Loss = 0.00261503, w = 1.483, bias = 0.999\n",
      "Iteration = 301, Loss = 0.00257829, w = 1.495, bias = 0.993\n",
      "Iteration = 351, Loss = 0.00256907, w = 1.500, bias = 0.990\n",
      "Iteration = 401, Loss = 0.00256676, w = 1.503, bias = 0.988\n",
      "Iteration = 451, Loss = 0.00256618, w = 1.505, bias = 0.988\n",
      "Iteration = 500, Loss = 0.00256603, w = 1.505, bias = 0.987\n"
     ]
    }
   ],
   "source": [
    "max_n_iter = 500\n",
    "step_size = 0.1\n",
    "\n",
    "for n_iter in range(max_n_iter):\n",
    "    \n",
    "    # Evaluate the prediction and the loss\n",
    "    y_approx = model_prediction(x, w, bias)\n",
    "    my_loss = loss_function(y, y_approx)\n",
    "\n",
    "    # The function .backward() has to be called in order to load the grads in w.grad;\n",
    "    # notice that here it is not necessary to pass a vector since loss_function is a scalar function\n",
    "    my_loss.backward()\n",
    "\n",
    "    with torch.no_grad():  # this line avoids the gradient update while allowing to change the value of w\n",
    "        w -= (step_size * w.grad)  # it is necessary to avoid the grad update whilst modifying the variable\n",
    "        bias -= step_size * bias.grad\n",
    "\n",
    "    # Zero the gradients to avoid acummulation\n",
    "    w.grad.zero_()\n",
    "    bias.grad.zero_()\n",
    "\n",
    "    # We print the loss, and the parameters values every 50 iterations\n",
    "    if n_iter % 50 == 0:\n",
    "        print(\n",
    "            f\"Iteration = {n_iter+1}, Loss = {my_loss:.8f}, w = {w:.3f}, bias = {bias:.3f}\"\n",
    "        )\n",
    "\n",
    "print(f\"Iteration = {n_iter+1}, Loss = {my_loss:.8f}, w = {w:.3f}, bias = {bias:.3f}\")"
   ]
  },
  {
   "cell_type": "markdown",
   "metadata": {},
   "source": [
    "Finally, we will plot the result."
   ]
  },
  {
   "cell_type": "code",
   "execution_count": 16,
   "metadata": {},
   "outputs": [
    {
     "data": {
      "image/png": "[encoded data removed]",
      "text/plain": [
       "<Figure size 432x288 with 1 Axes>"
      ]
     },
     "metadata": {
      "needs_background": "light"
     },
     "output_type": "display_data"
    }
   ],
   "source": [
    "import matplotlib.pyplot as plt\n",
    "\n",
    "%matplotlib inline\n",
    "plt.plot(x, y, \"x\")\n",
    "x_test = torch.linspace(0, 1, 10)\n",
    "with torch.no_grad():\n",
    "    y_pred = model_prediction(x_test, w, bias)\n",
    "plt.plot(x_test, y_pred)\n",
    "plt.show()"
   ]
  },
  {
   "cell_type": "markdown",
   "metadata": {},
   "source": [
    "### Loading a .csv dataset\n",
    "\n",
    "We can take advantage of the interoperability between NumPy and PyTorch by loading a .csv data as a NumPy array and transforming it into a PyTorch Tensor using `torch.from_numpy(dataset_np)`. "
   ]
  },
  {
   "cell_type": "code",
   "execution_count": 17,
   "metadata": {},
   "outputs": [
    {
     "data": {
      "text/plain": [
       "('./winequality-red.csv', <http.client.HTTPMessage at 0x7f64413cf8d0>)"
      ]
     },
     "execution_count": 17,
     "metadata": {},
     "output_type": "execute_result"
    }
   ],
   "source": [
    "# This cell is simply to download the winequality-red.csv dataset from its root url\n",
    "import urllib.request\n",
    "\n",
    "urllib.request.urlretrieve(\n",
    "    \"https://archive.ics.uci.edu/ml/machine-learning-databases/wine-quality/winequality-red.csv\",\n",
    "    \"./winequality-red.csv\",\n",
    ")"
   ]
  },
  {
   "cell_type": "code",
   "execution_count": 18,
   "metadata": {},
   "outputs": [
    {
     "data": {
      "text/plain": [
       "tensor([[ 7.4000,  0.7000,  0.0000,  ...,  0.5600,  9.4000,  5.0000],\n",
       "        [ 7.8000,  0.8800,  0.0000,  ...,  0.6800,  9.8000,  5.0000],\n",
       "        [ 7.8000,  0.7600,  0.0400,  ...,  0.6500,  9.8000,  5.0000],\n",
       "        ...,\n",
       "        [ 6.3000,  0.5100,  0.1300,  ...,  0.7500, 11.0000,  6.0000],\n",
       "        [ 5.9000,  0.6450,  0.1200,  ...,  0.7100, 10.2000,  5.0000],\n",
       "        [ 6.0000,  0.3100,  0.4700,  ...,  0.6600, 11.0000,  6.0000]])"
      ]
     },
     "execution_count": 18,
     "metadata": {},
     "output_type": "execute_result"
    }
   ],
   "source": [
    "import numpy as np\n",
    "\n",
    "# In the line below we avoid the first row (skiprows=1) of .csv file that contains names;\n",
    "# the delimiter which separates data-points within this file is \";\"\n",
    "wine_np = np.loadtxt( \"./winequality-red.csv\", dtype=np.float32, delimiter=\";\", skiprows=1)\n",
    "wine_torch = torch.from_numpy(wine_np)  # We take advantage of the interoperability with NumPy\n",
    "wine_torch"
   ]
  },
  {
   "cell_type": "markdown",
   "metadata": {},
   "source": [
    "### Revisiting linear regression for the Rented Bike Dataset of lab notebook 2\n",
    "\n",
    "We will implement a linear regression model for the Rented Bike dataset previously used in Lab 2. We will employ the same data preparation process using `sklearn.preprocessing`: the OneHotEncoder() allows us to transform a categorical variable to a one-hot encoded representation, and StandardScaler() performs feature scaling by standardisation."
   ]
  },
  {
   "cell_type": "code",
   "execution_count": 19,
   "metadata": {},
   "outputs": [
    {
     "data": {
      "text/plain": [
       "('./SeoulBikeData.csv', <http.client.HTTPMessage at 0x7f6440ae11d0>)"
      ]
     },
     "execution_count": 19,
     "metadata": {},
     "output_type": "execute_result"
    }
   ],
   "source": [
    "import urllib.request\n",
    "\n",
    "urllib.request.urlretrieve(\n",
    "    \"https://archive.ics.uci.edu/ml/machine-learning-databases/00560/SeoulBikeData.csv\",\n",
    "    \"./SeoulBikeData.csv\",\n",
    ")"
   ]
  },
  {
   "cell_type": "markdown",
   "metadata": {},
   "source": [
    "The following code was borrowed from Lab Notebook 2. You can go back to that Notebook for details."
   ]
  },
  {
   "cell_type": "code",
   "execution_count": 20,
   "metadata": {},
   "outputs": [],
   "source": [
    "import pandas as pd\n",
    "from sklearn.model_selection import train_test_split\n",
    "from sklearn.preprocessing import OneHotEncoder\n",
    "from sklearn.preprocessing import StandardScaler\n",
    "from sklearn.compose import ColumnTransformer\n",
    "\n",
    "bike_sharing_data = pd.read_csv(\"SeoulBikeData.csv\", encoding=\"unicode_escape\")\n",
    "bike_sharing_data = bike_sharing_data.drop(\"Date\", axis=1)\n",
    "\n",
    "for col in [\"Rented Bike Count\", \"Hour\", \"Humidity(%)\", \"Visibility (10m)\"]:\n",
    "    bike_sharing_data[col] = bike_sharing_data[col].astype(\"float64\")\n",
    "\n",
    "attributes_cat = [\"Seasons\", \"Holiday\", \"Functioning Day\"]\n",
    "attributes_num = [\n",
    "    \"Hour\",\n",
    "    \"Temperature(°C)\",\n",
    "    \"Humidity(%)\",\n",
    "    \"Wind speed (m/s)\",\n",
    "    \"Visibility (10m)\",\n",
    "    \"Dew point temperature(°C)\",\n",
    "    \"Solar Radiation (MJ/m2)\",\n",
    "    \"Rainfall(mm)\",\n",
    "    \"Snowfall (cm)\",\n",
    "]\n",
    "\n",
    "# We split our dataset for training and testing\n",
    "bs_train_set, bs_test_set = train_test_split(\n",
    "    bike_sharing_data, test_size=0.15, random_state=42\n",
    ")\n",
    "\n",
    "full_transform = ColumnTransformer(\n",
    "    [\n",
    "        (\"num\", StandardScaler(), attributes_num),\n",
    "        (\"cat\", OneHotEncoder(), attributes_cat),\n",
    "    ]\n",
    ")\n",
    "\n",
    "# We separate the features from the labels\n",
    "bs_train_set_attributes = bs_train_set.drop(\"Rented Bike Count\", axis=1)\n",
    "bs_test_set_attributes = bs_test_set.drop(\"Rented Bike Count\", axis=1)\n",
    "bs_train_set_labels = bs_train_set[\"Rented Bike Count\"]\n",
    "bs_test_set_labels = bs_test_set[\"Rented Bike Count\"]"
   ]
  },
  {
   "cell_type": "markdown",
   "metadata": {},
   "source": [
    "We now use the function `torch.from_numpy()` to transform the data previously prepared, into a PyTorch tensor. We make sure to add a column of ones to the attributes (remember that $x_0=1$) both in the train and test sets."
   ]
  },
  {
   "cell_type": "code",
   "execution_count": 21,
   "metadata": {},
   "outputs": [],
   "source": [
    "# We apply the preprocessing transformation over the features of the training data\n",
    "bs_train_set_attributes_prepared = full_transform.fit_transform(bs_train_set_attributes)\n",
    "bs_test_set_attributes_prepared = full_transform.transform(bs_test_set_attributes)\n",
    "\n",
    "train_torch = torch.from_numpy(bs_train_set_attributes_prepared)\n",
    "\n",
    "# The line below adds a feature vector of ones in order to allow the bias weight\n",
    "# to be represented in a unique weight vector\n",
    "train_torch = torch.cat((torch.ones([train_torch.shape[0], 1], dtype=torch.float64), train_torch), 1)\n",
    "test_torch = torch.from_numpy(bs_test_set_attributes_prepared)\n",
    "\n",
    "# The line below adds a feature vector of ones in order to allow the bias weight\n",
    "# to be represented in a unique weight vector\n",
    "test_torch = torch.cat((torch.ones([test_torch.shape[0], 1], dtype=torch.float64), test_torch), 1)\n",
    "train_label_torch = torch.from_numpy(bs_train_set_labels.values)\n",
    "\n",
    "test_label_torch = torch.from_numpy(bs_test_set_labels.values)"
   ]
  },
  {
   "cell_type": "markdown",
   "metadata": {},
   "source": [
    "We create a vector of weights $\\mathbf{w}$ with the corresponding flag for the gradient and two functions, one for prediction and one for the loss function."
   ]
  },
  {
   "cell_type": "code",
   "execution_count": 22,
   "metadata": {},
   "outputs": [],
   "source": [
    "# We create the vector of weights to be optimised in the linear regression model\n",
    "dim = train_torch.shape[1]\n",
    "w = torch.randn([dim, 1], dtype=torch.float64)  # vector of weight w is a vector of shape (dim x 1)\n",
    "w.requires_grad_(True)\n",
    "\n",
    "# We create the model prediction which consists on an inner product X'w, where X is a design matrix of shape (N x dim)\n",
    "def model_prediction_lr(x, w):\n",
    "    return torch.matmul(x, w)\n",
    "\n",
    "\n",
    "def loss_function_lr(y, y_pred):\n",
    "    return ((y_pred - y) ** 2).mean()  # Mean Squared Error (MSE)"
   ]
  },
  {
   "cell_type": "markdown",
   "metadata": {},
   "source": [
    "We finally use gradient descent to find the optimal value for $\\mathbf{w}$:\n",
    "\n",
    "\\begin{align}\n",
    "\\mathbf{w}_{k+1} = \\mathbf{w}_k - \\eta \\frac{dE(\\mathbf{w})}{d\\mathbf{w}}\n",
    "\\end{align}"
   ]
  },
  {
   "cell_type": "code",
   "execution_count": 23,
   "metadata": {},
   "outputs": [
    {
     "name": "stdout",
     "output_type": "stream",
     "text": [
      "Iteration = 1, Loss = 915978.97776092\n",
      "Iteration = 21, Loss = 806349.66581845\n",
      "Iteration = 41, Loss = 720953.22943523\n",
      "Iteration = 50, Loss = 688956.67105593\n"
     ]
    }
   ],
   "source": [
    "# Training the model with gradient descent\n",
    "\n",
    "max_n_iter = 50  # If you have many iterations, this process can take some time\n",
    "step_size = 0.001\n",
    "for n_iter in range(max_n_iter):\n",
    "    y_approx = model_prediction_lr(train_torch, w)\n",
    "    my_loss = loss_function_lr(train_label_torch, y_approx)\n",
    "\n",
    "    # The function .backward() has to be called in order to load the grads in w.grad;\n",
    "    # notice that here it is not necessary to pass a vector since loss_function is a scalar function\n",
    "\n",
    "    my_loss.backward()\n",
    "\n",
    "    with torch.no_grad():  # This line avoids the gradient update whilst allowing us to change the value of w\n",
    "        w -= (step_size * w.grad)  # It is necessary to avoid the grad update whilst modifying the variable\n",
    "\n",
    "    # Zero the gradients to avoid acummulation\n",
    "    w.grad.zero_()\n",
    "\n",
    "    if n_iter % 20 == 0 or n_iter == max_n_iter - 1:\n",
    "        print(f\"Iteration = {n_iter+1}, Loss = {my_loss:.8f}\")"
   ]
  },
  {
   "cell_type": "markdown",
   "metadata": {},
   "source": [
    "We finally provide the root mean squared error (RMSE), evaluated on the test set:"
   ]
  },
  {
   "cell_type": "code",
   "execution_count": 24,
   "metadata": {},
   "outputs": [
    {
     "name": "stdout",
     "output_type": "stream",
     "text": [
      "The Root Mean Squared Error over the test set is: 820.4256041279748\n"
     ]
    }
   ],
   "source": [
    "# RMSE over the test set\n",
    "\n",
    "y_pred_test = model_prediction_lr(test_torch, w)\n",
    "MSE_test = loss_function_lr(test_label_torch, y_pred_test)\n",
    "print(\n",
    "    \"The Root Mean Squared Error over the test set is:\",\n",
    "    np.sqrt(MSE_test.detach().numpy()),\n",
    ")"
   ]
  },
  {
   "cell_type": "markdown",
   "metadata": {},
   "source": [
    "### Question 2\n",
    "\n",
    "Implement the prediction using an exponential transformation for model_prediction_lr, i.e., $y_{\\text{approx}} = \\exp(\\mathbf{w}^{\\top}\\mathbf{x})$. Since the labels are positive values, this transformation guarrantees that the predictions are always positive. Hint: Be careful initialising w and updating it with big step_sizes."
   ]
  },
  {
   "cell_type": "code",
   "execution_count": 25,
   "metadata": {},
   "outputs": [
    {
     "name": "stdout",
     "output_type": "stream",
     "text": [
      "Iteration = 1, Loss = 913361.08246038\n",
      "Iteration = 21, Loss = 913226.76417907\n",
      "Iteration = 41, Loss = 913064.00528737\n",
      "Iteration = 61, Loss = 912862.69877708\n",
      "Iteration = 81, Loss = 912607.30833449\n",
      "Iteration = 101, Loss = 912272.66140669\n",
      "Iteration = 121, Loss = 911815.11938133\n",
      "Iteration = 141, Loss = 911151.88219921\n",
      "Iteration = 161, Loss = 910104.51806454\n",
      "Iteration = 181, Loss = 908205.80859799\n",
      "Iteration = 201, Loss = 903729.04583934\n",
      "Iteration = 221, Loss = 881394.91981947\n",
      "Iteration = 241, Loss = 475479.28927356\n",
      "Iteration = 261, Loss = 482250.07505789\n",
      "Iteration = 281, Loss = 454625.36244886\n",
      "Iteration = 301, Loss = 537212.65849389\n",
      "Iteration = 321, Loss = 452165.99853304\n",
      "Iteration = 341, Loss = 444915.23396146\n",
      "Iteration = 361, Loss = 575515.96161309\n",
      "Iteration = 381, Loss = 435181.86642455\n",
      "Iteration = 401, Loss = 445454.70511127\n",
      "Iteration = 421, Loss = 500043.15644263\n",
      "Iteration = 441, Loss = 453725.40163459\n",
      "Iteration = 461, Loss = 444707.41466859\n",
      "Iteration = 481, Loss = 474824.50996222\n",
      "Iteration = 501, Loss = 452463.06892396\n",
      "Iteration = 521, Loss = 423922.38404838\n",
      "Iteration = 541, Loss = 533233.65969951\n",
      "Iteration = 561, Loss = 429167.04341130\n",
      "Iteration = 581, Loss = 441551.08792594\n",
      "Iteration = 601, Loss = 438006.81418989\n",
      "Iteration = 621, Loss = 455302.72578150\n",
      "Iteration = 641, Loss = 429912.33558666\n",
      "Iteration = 661, Loss = 498698.20942401\n",
      "Iteration = 681, Loss = 427834.41700281\n",
      "Iteration = 701, Loss = 425500.98531381\n",
      "Iteration = 721, Loss = 451123.45074248\n",
      "Iteration = 741, Loss = 460330.99577628\n",
      "Iteration = 761, Loss = 438095.99554149\n",
      "Iteration = 781, Loss = 467292.34966011\n",
      "Iteration = 801, Loss = 448232.15643267\n",
      "Iteration = 821, Loss = 422389.43597619\n",
      "Iteration = 841, Loss = 440474.75492525\n",
      "Iteration = 861, Loss = 498152.46086418\n",
      "Iteration = 881, Loss = 627308.79923894\n",
      "Iteration = 901, Loss = 464071.32301042\n",
      "Iteration = 921, Loss = 441316.32678438\n",
      "Iteration = 941, Loss = 446072.07378325\n",
      "Iteration = 961, Loss = 475654.58396054\n",
      "Iteration = 981, Loss = 467916.03581719\n",
      "Iteration = 1000, Loss = 421635.84402947\n"
     ]
    }
   ],
   "source": [
    "### ANSWER ###\n",
    "\n",
    "# Initialize w:\n",
    "dim = train_torch.shape[1]\n",
    "w = torch.zeros([dim, 1], dtype=torch.float64)  # vector of weight w is a vector (dim x 1)\n",
    "w.requires_grad_(True)\n",
    "\n",
    "\n",
    "def model_prediction_lr_exp_transf(x, w):\n",
    "    return torch.exp(torch.matmul(x, w))\n",
    "\n",
    "\n",
    "# Training the model with gradient descent\n",
    "\n",
    "max_n_iter = 1000  # If you have many iterations, this process can take some time\n",
    "step_size = 0.000001\n",
    "for n_iter in range(max_n_iter):\n",
    "    y_approx = model_prediction_lr_exp_transf(train_torch, w)\n",
    "    my_loss = loss_function_lr(train_label_torch, y_approx)\n",
    "\n",
    "    # The function .backward() has to be called in order to load the grads in w.grad;\n",
    "    # notice that here it is not necessary to pass a vector since loss_function is a scalar function\n",
    "\n",
    "    my_loss.backward()\n",
    "\n",
    "    with torch.no_grad():  # this line avoids the gradient update while allowing to change the value of w\n",
    "        w -= (step_size * w.grad)  # it is necessary to avoid the grad update while modifying the variable\n",
    "\n",
    "    # Zero gradients to avoid acummulation\n",
    "    w.grad.zero_()\n",
    "\n",
    "    if n_iter % 20 == 0 or n_iter == max_n_iter - 1:\n",
    "        print(f\"Iteration = {n_iter+1}, Loss = {my_loss:.8f}\")"
   ]
  },
  {
   "cell_type": "code",
   "execution_count": 26,
   "metadata": {},
   "outputs": [
    {
     "name": "stdout",
     "output_type": "stream",
     "text": [
      "The Root Mean Squared Error over the test set is: 651.831000107309\n"
     ]
    }
   ],
   "source": [
    "# RMSE over the test set\n",
    "\n",
    "y_pred_test = model_prediction_lr_exp_transf(test_torch, w)\n",
    "MSE_test = loss_function_lr(test_label_torch, y_pred_test)\n",
    "print(\n",
    "    \"The Root Mean Squared Error over the test set is:\",\n",
    "    np.sqrt(MSE_test.detach().numpy()),\n",
    ")"
   ]
  },
  {
   "cell_type": "code",
   "execution_count": null,
   "metadata": {},
   "outputs": [],
   "source": []
  }
 ],
 "metadata": {
  "kernelspec": {
   "display_name": "Python 3 (ipykernel)",
   "language": "python",
   "name": "python3"
  },
  "language_info": {
   "codemirror_mode": {
    "name": "ipython",
    "version": 3
   },
   "file_extension": ".py",
   "mimetype": "text/x-python",
   "name": "python",
   "nbconvert_exporter": "python",
   "pygments_lexer": "ipython3",
   "version": "3.8.12"
  }
 },
 "nbformat": 4,
 "nbformat_minor": 4
}
