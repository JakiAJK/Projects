{
 "cells": [
  {
   "cell_type": "code",
   "execution_count": 1,
   "id": "be4bcd9a-5e71-4ece-bc66-457d703653da",
   "metadata": {},
   "outputs": [],
   "source": [
    "import numpy as np"
   ]
  },
  {
   "cell_type": "code",
   "execution_count": 2,
   "id": "846a2198-427b-46da-8b68-f3d2690a011b",
   "metadata": {},
   "outputs": [],
   "source": [
    "phi=np.array([[1,-1.5,2.25],[1,-0.3,0.09],[1,2.5,6.25]])"
   ]
  },
  {
   "cell_type": "code",
   "execution_count": 3,
   "id": "16ab83ba-688d-4389-bbff-52ea7d724d6d",
   "metadata": {},
   "outputs": [
    {
     "data": {
      "text/plain": [
       "array([[ 1.  , -1.5 ,  2.25],\n",
       "       [ 1.  , -0.3 ,  0.09],\n",
       "       [ 1.  ,  2.5 ,  6.25]])"
      ]
     },
     "execution_count": 3,
     "metadata": {},
     "output_type": "execute_result"
    }
   ],
   "source": [
    "phi"
   ]
  },
  {
   "cell_type": "code",
   "execution_count": 4,
   "id": "84c12b5e-aaad-430e-a2ce-c168c872e97e",
   "metadata": {},
   "outputs": [],
   "source": [
    "r=np.array([[0.5,0,0],[0,2,0],[0,0,2]])"
   ]
  },
  {
   "cell_type": "code",
   "execution_count": 5,
   "id": "97e03dfe-22fc-4805-bb54-16b7c70cdba1",
   "metadata": {},
   "outputs": [
    {
     "data": {
      "text/plain": [
       "array([[0.5, 0. , 0. ],\n",
       "       [0. , 2. , 0. ],\n",
       "       [0. , 0. , 2. ]])"
      ]
     },
     "execution_count": 5,
     "metadata": {},
     "output_type": "execute_result"
    }
   ],
   "source": [
    "r"
   ]
  },
  {
   "cell_type": "code",
   "execution_count": 6,
   "id": "ea29d806-165a-440e-8054-e2d91be75e8d",
   "metadata": {},
   "outputs": [],
   "source": [
    "y=np.array([[5],[-3.4],[-1]])"
   ]
  },
  {
   "cell_type": "code",
   "execution_count": 7,
   "id": "39617594-653c-4b8d-84f3-3b5c7d3eef77",
   "metadata": {},
   "outputs": [
    {
     "data": {
      "text/plain": [
       "array([[ 5. ],\n",
       "       [-3.4],\n",
       "       [-1. ]])"
      ]
     },
     "execution_count": 7,
     "metadata": {},
     "output_type": "execute_result"
    }
   ],
   "source": [
    "y"
   ]
  },
  {
   "cell_type": "code",
   "execution_count": 22,
   "id": "c14ac1c5-16fa-45d3-bfd3-b915cd484585",
   "metadata": {},
   "outputs": [
    {
     "data": {
      "text/plain": [
       "array([[ 0.5  ,  2.   ,  2.   ],\n",
       "       [-0.75 , -0.6  ,  5.   ],\n",
       "       [ 1.125,  0.18 , 12.5  ]])"
      ]
     },
     "execution_count": 22,
     "metadata": {},
     "output_type": "execute_result"
    }
   ],
   "source": [
    "ddt=np.matmul(phi.T,r)\n",
    "ddt"
   ]
  },
  {
   "cell_type": "code",
   "execution_count": null,
   "id": "25930836-59cd-44b7-bf9b-8289588f9b2a",
   "metadata": {},
   "outputs": [],
   "source": []
  },
  {
   "cell_type": "code",
   "execution_count": 23,
   "id": "c728336f-a1c9-4f7b-a553-14abe34cb525",
   "metadata": {},
   "outputs": [
    {
     "name": "stdout",
     "output_type": "stream",
     "text": [
      "[[-4.61607143]\n",
      " [-3.46428571]\n",
      " [ 1.96428571]]\n"
     ]
    }
   ],
   "source": [
    "w = np.linalg.solve(np.dot(ddt, phi), np.dot(ddt, y))\n",
    "print(w)"
   ]
  },
  {
   "cell_type": "code",
   "execution_count": 24,
   "id": "ad117469-498e-493a-a988-9f9574df1405",
   "metadata": {},
   "outputs": [
    {
     "data": {
      "text/plain": [
       "array([-6.11607143])"
      ]
     },
     "execution_count": 24,
     "metadata": {},
     "output_type": "execute_result"
    }
   ],
   "source": [
    "sum(w)"
   ]
  },
  {
   "cell_type": "code",
   "execution_count": null,
   "id": "f2f54678-9004-4594-bc86-02a2891edbfd",
   "metadata": {},
   "outputs": [],
   "source": []
  }
 ],
 "metadata": {
  "kernelspec": {
   "display_name": "Python 3 (ipykernel)",
   "language": "python",
   "name": "python3"
  },
  "language_info": {
   "codemirror_mode": {
    "name": "ipython",
    "version": 3
   },
   "file_extension": ".py",
   "mimetype": "text/x-python",
   "name": "python",
   "nbconvert_exporter": "python",
   "pygments_lexer": "ipython3",
   "version": "3.8.12"
  }
 },
 "nbformat": 4,
 "nbformat_minor": 5
}
