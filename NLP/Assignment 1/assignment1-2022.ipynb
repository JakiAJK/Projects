{
 "cells": [
  {
   "cell_type": "markdown",
   "metadata": {},
   "source": [
    "# [COM6513] Assignment 1: Sentiment Analysis with Logistic Regression\n",
    "\n",
    "### Instructor: Nikos Aletras\n",
    "\n",
    "\n",
    "The goal of this assignment is to develop and test a **text classification** system for **sentiment analysis**, in particular to predict the sentiment of movie reviews, i.e. positive or negative (binary classification).\n",
    "\n",
    "\n",
    "\n",
    "For that purpose, you will implement:\n",
    "\n",
    "\n",
    "- Text processing methods for extracting Bag-Of-Word features, using \n",
    "    - n-grams (BOW), i.e. unigrams, bigrams and trigrams to obtain vector representations of documents where n=1,2,3 respectively. Two vector weighting schemes should be tested: (1) raw frequencies (**1 mark**); (2) tf.idf (**1 mark**). \n",
    "    - character n-grams (BOCN). A character n-gram is a contiguous sequence of characters given a word, e.g. for n=2, 'coffee' is split into {'co', 'of', 'ff', 'fe', 'ee'}. Two vector weighting schemes should be tested: (1) raw frequencies (**1 mark**); (2) tf.idf (**1 mark**). **Tip: Note the large vocabulary size!** \n",
    "    - a combination of the two vector spaces (n-grams and character n-grams) choosing your best performing wighting respectively (i.e. raw or tfidf). (**1 mark**) **Tip: you should merge the two representations**\n",
    "\n",
    "\n",
    "\n",
    "- Binary Logistic Regression (LR) classifiers that will be able to accurately classify movie reviews trained with: \n",
    "    - (1) BOW-count (raw frequencies) \n",
    "    - (2) BOW-tfidf (tf.idf weighted)\n",
    "    - (3) BOCN-count\n",
    "    - (4) BOCN-tfidf\n",
    "    - (5) BOW+BOCN (best performing weighting; raw or tfidf)\n",
    "\n",
    "\n",
    "\n",
    "- The Stochastic Gradient Descent (SGD) algorithm to estimate the parameters of your Logistic Regression models. Your SGD algorithm should:\n",
    "    - Minimise the Binary Cross-entropy loss function (**1 mark**)\n",
    "    - Use L2 regularisation (**1 mark**)\n",
    "    - Perform multiple passes (epochs) over the training data (**1 mark**)\n",
    "    - Randomise the order of training data after each pass (**1 mark**)\n",
    "    - Stop training if the difference between the current and previous development loss is smaller than a threshold (**1 mark**)\n",
    "    - After each epoch print the training and development loss (**1 mark**)\n",
    "\n",
    "\n",
    "\n",
    "- Discuss how did you choose hyperparameters (e.g. learning rate and regularisation strength) for each LR model? You should use a table showing model performance using different set of hyperparameter values. (**2 marks). **Tip: Instead of using all possible combinations, you could perform a random sampling of combinations.**\n",
    "\n",
    "\n",
    "- After training each LR model, plot the learning process (i.e. training and validation loss in each epoch) using a line plot. Does your model underfit, overfit or is it about right? Explain why. (**1 mark**). \n",
    "\n",
    "\n",
    "- Identify and show the most important features (model interpretability) for each class (i.e. top-10 most positive and top-10 negative weights). Give the top 10 for each class and comment on whether they make sense (if they don't you might have a bug!). If you were to apply the classifier into a different domain such laptop reviews or restaurant reviews, do you think these features would generalise well? Can you propose what features the classifier could pick up as important in the new domain? (**2 marks**)\n",
    "\n",
    "\n",
    "- Provide well documented and commented code describing all of your choices. In general, you are free to make decisions about text processing (e.g. punctuation, numbers, vocabulary size) and hyperparameter values. We expect to see justifications and discussion for all of your choices (**2 marks**). \n",
    "\n",
    "\n",
    "- Provide efficient solutions by using Numpy arrays when possible (you can find tips in Lab 1 sheet). Executing the whole notebook with your code should not take more than 5 minutes on a any standard computer (e.g. Intel Core i5 CPU, 8 or 16GB RAM) excluding hyperparameter tuning runs (**2 marks**). \n",
    "\n",
    "\n",
    "\n",
    "\n",
    "\n",
    "\n",
    "### Data \n",
    "\n",
    "The data you will use are taken from here: [http://www.cs.cornell.edu/people/pabo/movie-review-data/](http://www.cs.cornell.edu/people/pabo/movie-review-data/) and you can find it in the `./data_sentiment` folder in CSV format:\n",
    "\n",
    "- `data_sentiment/train.csv`: contains 1,400 reviews, 700 positive (label: 1) and 700 negative (label: 0) to be used for training.\n",
    "- `data_sentiment/dev.csv`: contains 200 reviews, 100 positive and 100 negative to be used for hyperparameter selection and monitoring the training process.\n",
    "- `data_sentiment/test.csv`: contains 400 reviews, 200 positive and 200 negative to be used for testing.\n",
    "\n",
    "\n",
    "\n",
    "\n",
    "### Submission Instructions\n",
    "\n",
    "You should submit a Jupyter Notebook file (assignment1.ipynb) and an exported PDF version (you can do it from Jupyter: `File->Download as->PDF via Latex` or you can print it as PDF using your browser).\n",
    "\n",
    "You are advised to follow the code structure given in this notebook by completing all given funtions. You can also write any auxilliary/helper functions (and arguments for the functions) that you might need but note that you can provide a full solution without any such functions. Similarly, you can just use only the packages imported below but you are free to use any functionality from the [Python Standard Library](https://docs.python.org/2/library/index.html), NumPy, SciPy (excluding built-in softmax funtcions) and Pandas. You are not allowed to use any third-party library such as Scikit-learn (apart from metric functions already provided), NLTK, Spacy, Keras etc.. \n",
    "\n",
    "There is no single correct answer on what your accuracy should be, but correct implementations usually achieve F1-scores around 80\\% or higher. The quality of the analysis of the results is as important as the accuracy itself. \n",
    "\n",
    "This assignment will be marked out of 20. It is worth 20\\% of your final grade in the module.\n",
    "\n",
    "The deadline for this assignment is **23:59 on Mon, 14 Mar 2022** and it needs to be submitted via Blackboard. Standard departmental penalties for lateness will be applied. We use a range of strategies to **detect [unfair means](https://www.sheffield.ac.uk/ssid/unfair-means/index)**, including Turnitin which helps detect plagiarism. Use of unfair means would result in getting a failing grade.\n",
    "\n"
   ]
  },
  {
   "cell_type": "code",
   "execution_count": 1,
   "metadata": {
    "ExecuteTime": {
     "end_time": "2020-03-27T13:41:17.642162Z",
     "start_time": "2020-03-27T13:41:16.891940Z"
    }
   },
   "outputs": [],
   "source": [
    "import pandas as pd\n",
    "import numpy as np\n",
    "from collections import Counter\n",
    "import re\n",
    "import matplotlib.pyplot as plt\n",
    "from sklearn.metrics import accuracy_score, precision_score, recall_score, f1_score\n",
    "import random\n",
    "\n",
    "\n",
    "import time\n",
    "\n",
    "start=time.time() # to find runtime\n",
    "\n",
    "import warnings\n",
    "\n",
    "#suppress warnings like RunTime error\n",
    "warnings.filterwarnings('ignore')\n",
    "\n",
    "# fixing random seed for reproducibility\n",
    "random.seed(210116270)\n",
    "np.random.seed(210116270)\n"
   ]
  },
  {
   "cell_type": "markdown",
   "metadata": {},
   "source": [
    "## Load Raw texts and labels into arrays\n",
    "\n",
    "First, you need to load the training, development and test sets from their corresponding CSV files (tip: you can use Pandas dataframes)."
   ]
  },
  {
   "cell_type": "code",
   "execution_count": 2,
   "metadata": {
    "ExecuteTime": {
     "end_time": "2020-02-15T14:17:28.145788Z",
     "start_time": "2020-02-15T14:17:28.066100Z"
    }
   },
   "outputs": [],
   "source": [
    "train_set = pd.read_csv(\"data_sentiment/train.csv\", header=None)\n",
    "test_set = pd.read_csv(\"data_sentiment/test.csv\", header=None)\n",
    "dev_set = pd.read_csv(\"data_sentiment/dev.csv\", header=None)"
   ]
  },
  {
   "cell_type": "markdown",
   "metadata": {},
   "source": [
    "If you use Pandas you can see a sample of the data."
   ]
  },
  {
   "cell_type": "code",
   "execution_count": 3,
   "metadata": {
    "ExecuteTime": {
     "end_time": "2020-02-15T14:17:28.900892Z",
     "start_time": "2020-02-15T14:17:28.891221Z"
    },
    "scrolled": true
   },
   "outputs": [
    {
     "data": {
      "text/plain": [
       "0    note : some may consider portions of the follo...\n",
       "1    note : some may consider portions of the follo...\n",
       "2    every once in a while you see a film that is s...\n",
       "3    when i was growing up in 1970s , boys in my sc...\n",
       "4    the muppet movie is the first , and the best m...\n",
       "5    do film critics have morals ?  are there any u...\n",
       "6    almost a full decade before steven spielberg's...\n",
       "7    the premise of wag the dog is so simple that i...\n",
       "8    if you're the type of person who goes on the s...\n",
       "9    plot : derek zoolander is a male model .  he i...\n",
       "Name: 0, dtype: object"
      ]
     },
     "execution_count": 3,
     "metadata": {},
     "output_type": "execute_result"
    }
   ],
   "source": [
    "train_set.iloc[0:10,0]"
   ]
  },
  {
   "cell_type": "markdown",
   "metadata": {},
   "source": [
    "The next step is to put the raw texts into Python lists and their corresponding labels into NumPy arrays:\n"
   ]
  },
  {
   "cell_type": "code",
   "execution_count": 4,
   "metadata": {
    "ExecuteTime": {
     "end_time": "2020-02-15T14:17:31.115577Z",
     "start_time": "2020-02-15T14:17:31.108038Z"
    }
   },
   "outputs": [],
   "source": [
    "train_set_list=list(train_set.iloc[:,0])\n",
    "test_set_list=list(test_set.iloc[:,0])\n",
    "dev_set_list=list(dev_set.iloc[:,0])\n",
    "\n",
    "train_labels=np.array(train_set.iloc[:,1])\n",
    "test_labels=np.array(test_set.iloc[:,1])\n",
    "dev_labels=np.array(dev_set.iloc[:,1])"
   ]
  },
  {
   "cell_type": "markdown",
   "metadata": {},
   "source": [
    "# Vector Representations of Text \n",
    "\n",
    "\n",
    "To train and test Logisitc Regression models, you first need to obtain vector representations for all documents given a vocabulary of features (unigrams, bigrams, trigrams).\n",
    "\n",
    "\n",
    "## Text Pre-Processing Pipeline\n",
    "\n",
    "To obtain a vocabulary of features, you should: \n",
    "- tokenise all texts into a list of unigrams (tip: using a regular expression) \n",
    "- remove stop words (using the one provided or one of your preference) \n",
    "- compute bigrams, trigrams given the remaining unigrams (or character ngrams from the unigrams)\n",
    "- remove ngrams appearing in less than K documents\n",
    "- use the remaining to create a vocabulary of unigrams, bigrams and trigrams (or character n-grams). You can keep top N if you encounter memory issues.\n"
   ]
  },
  {
   "cell_type": "code",
   "execution_count": 5,
   "metadata": {
    "ExecuteTime": {
     "end_time": "2020-02-15T14:17:31.860420Z",
     "start_time": "2020-02-15T14:17:31.855439Z"
    }
   },
   "outputs": [],
   "source": [
    "stop_words = ['a','in','on','at','and','or', \n",
    "              'to', 'the', 'of', 'an', 'by', \n",
    "              'as', 'is', 'was', 'were', 'been', 'be', \n",
    "              'are','for', 'this', 'that', 'these', 'those', 'you', 'i',\n",
    "             'it', 'he', 'she', 'we', 'they', 'will', 'have', 'has',\n",
    "              'do', 'did', 'can', 'could', 'who', 'which', 'what', \n",
    "             'his', 'her', 'they', 'them', 'from', 'with', 'its']"
   ]
  },
  {
   "cell_type": "markdown",
   "metadata": {},
   "source": [
    "### N-gram extraction from a document\n",
    "\n",
    "You first need to implement the `extract_ngrams` function. It takes as input:\n",
    "- `x_raw`: a string corresponding to the raw text of a document\n",
    "- `ngram_range`: a tuple of two integers denoting the type of ngrams you want to extract, e.g. (1,2) denotes extracting unigrams and bigrams.\n",
    "- `token_pattern`: a string to be used within a regular expression to extract all tokens. Note that data is already tokenised so you could opt for a simple white space tokenisation.\n",
    "- `stop_words`: a list of stop words\n",
    "- `vocab`: a given vocabulary. It should be used to extract specific features.\n",
    "- `char_ngrams`: boolean. If true the function extracts character n-grams\n",
    "\n",
    "and returns:\n",
    "\n",
    "- `x': a list of all extracted features.\n",
    "\n",
    "See the examples below to see how this function should work."
   ]
  },
  {
   "cell_type": "code",
   "execution_count": 6,
   "metadata": {
    "ExecuteTime": {
     "end_time": "2020-02-15T14:17:33.169090Z",
     "start_time": "2020-02-15T14:17:33.161268Z"
    },
    "scrolled": true
   },
   "outputs": [
    {
     "data": {
      "text/plain": [
       "['makes little',\n",
       " 'little mermaid',\n",
       " 'mermaid so',\n",
       " 'so affecting',\n",
       " 'affecting so',\n",
       " 'so emotionally',\n",
       " 'emotionally resonant',\n",
       " 'resonant richness',\n",
       " 'richness charm',\n",
       " 'charm characters',\n",
       " 'characters sheer',\n",
       " 'sheer clarity',\n",
       " 'clarity honest',\n",
       " 'honest simplicity',\n",
       " 'simplicity their',\n",
       " 'their emotions',\n",
       " 'emotions moment',\n",
       " 'moment mermaid',\n",
       " 'mermaid ariel',\n",
       " 'ariel lays',\n",
       " 'lays eyes',\n",
       " 'eyes prince',\n",
       " 'prince eric',\n",
       " 'eric resolutely',\n",
       " 'resolutely smitten',\n",
       " 'smitten such',\n",
       " 'such pure',\n",
       " 'pure endearing',\n",
       " 'endearing character',\n",
       " 'character one']"
      ]
     },
     "execution_count": 6,
     "metadata": {},
     "output_type": "execute_result"
    }
   ],
   "source": [
    "def extract_ngrams(x_raw, ngram_range=(1,2), token_pattern='[A-Za-z0-9\\']+(?:\\`[A-Za-z]+)?', \n",
    "                   stop_words=[], vocab=set(), char_ngrams=False):\n",
    "    x_raw=x_raw.lower()\n",
    "    x=[]\n",
    "    start= ngram_range[0]\n",
    "    end= ngram_range[1]\n",
    "    if char_ngrams==True:\n",
    "        split_text=(x_raw.split()) \n",
    "        filtered_text= [word for word in (split_text) if not word in stop_words]\n",
    "        sentence=list((' '.join(filtered_text)))\n",
    "        for n in range(start,end+1):\n",
    "            char_n_gram= [\"\".join(j) for j in zip(*[sentence[i:] for i in range(n)])]\n",
    "            x.append(char_n_gram)\n",
    "    else:   \n",
    "        split_text=re.findall(token_pattern,x_raw)  # finds all words and number and combination and excludes special signs\n",
    "        unigrams = [word for word in split_text if not word in stop_words]    # remove stopwords\n",
    "        \n",
    "        for n in range(start,end+1):  # calculate n grams\n",
    "            if n==1:\n",
    "                x.append(unigrams)\n",
    "            if n>1:    # depending on choice of n, ngrams are created\n",
    "                ngrams=[]\n",
    "                n_grams= [unigrams[i:i+n] for i in range(len(unigrams)-n+1)]   # picks sequence of words\n",
    "                for i in range(len(n_grams)): \n",
    "                    ngrams.append(' '.join(n_grams[i])) # joins into a sentence e.g. ['natural','language'] to ['natural language']\n",
    "                x.append(ngrams)   # add to main list with all ngrams\n",
    "    x = [item for sub_list in x for item in sub_list]    # unlist items and make a single list\n",
    "    return x\n",
    "(extract_ngrams(train_set_list[0], stop_words=stop_words, token_pattern= r'\\b[A-Za-z][A-Za-z]+\\b'))[1000:1030]"
   ]
  },
  {
   "cell_type": "markdown",
   "metadata": {},
   "source": [
    "Note that it is OK to represent n-grams using lists instead of tuples: e.g. `['great', ['great', 'movie']]`"
   ]
  },
  {
   "cell_type": "markdown",
   "metadata": {},
   "source": [
    "For extracting character n-grams the function should work as follows:"
   ]
  },
  {
   "cell_type": "code",
   "execution_count": 7,
   "metadata": {},
   "outputs": [
    {
     "data": {
      "text/plain": [
       "['mo', 'ov', 'vi', 'ie', 'mov', 'ovi', 'vie', 'movi', 'ovie']"
      ]
     },
     "execution_count": 7,
     "metadata": {},
     "output_type": "execute_result"
    }
   ],
   "source": [
    "extract_ngrams(\"movie\", \n",
    "               ngram_range=(2,4), \n",
    "               stop_words=stop_words,\n",
    "               char_ngrams=True)"
   ]
  },
  {
   "cell_type": "markdown",
   "metadata": {},
   "source": [
    "### Create a vocabulary \n",
    "\n",
    "The `get_vocab` function will be used to (1) create a vocabulary of ngrams; (2) count the document frequencies of ngrams; (3) their raw frequency. It takes as input:\n",
    "- `X_raw`: a list of strings each corresponding to the raw text of a document\n",
    "- `ngram_range`: a tuple of two integers denoting the type of ngrams you want to extract, e.g. (1,2) denotes extracting unigrams and bigrams.\n",
    "- `token_pattern`: a string to be used within a regular expression to extract all tokens. Note that data is already tokenised so you could opt for a simple white space tokenisation.\n",
    "- `stop_words`: a list of stop words\n",
    "- `min_df`: keep ngrams with a minimum document frequency.\n",
    "- `keep_topN`: keep top-N more frequent ngrams.\n",
    "\n",
    "and returns:\n",
    "\n",
    "- `vocab`: a set of the n-grams that will be used as features.\n",
    "- `df`: a Counter (or dict) that contains ngrams as keys and their corresponding document frequency as values.\n",
    "- `ngram_counts`: counts of each ngram in vocab\n",
    "\n",
    "Hint: it should make use of the `extract_ngrams` function."
   ]
  },
  {
   "cell_type": "code",
   "execution_count": 8,
   "metadata": {},
   "outputs": [],
   "source": [
    "def get_vocab(X_raw, ngram_range=(1,3), token_pattern=r'', \n",
    "              min_df=0, keep_topN=0, \n",
    "              stop_words=[],char_ngrams=False):\n",
    "    df=dict()\n",
    "    ngram_counts=dict()\n",
    "    for i in range(len(X_raw)):\n",
    "        if char_ngrams==True: \n",
    "            ngrams_list = extract_ngrams(X_raw[i], ngram_range=ngram_range, stop_words=stop_words, char_ngrams=True)\n",
    "        else:\n",
    "            ngrams_list = extract_ngrams(X_raw[i], ngram_range=ngram_range, stop_words=stop_words, token_pattern=token_pattern)\n",
    "        \n",
    "        # seperate all elements by \",\" so that we get individual elements to be Counted\n",
    "        ngram_freq_dict= dict(Counter(word for ngram in ngrams_list for word in ngram.split(\",\")))\n",
    "        \n",
    "        for word in ngram_freq_dict.keys():    # calculate ngram counts\n",
    "            if word not in ngram_counts: ngram_counts[word]=ngram_freq_dict[word]\n",
    "            else: ngram_counts[word]+=ngram_freq_dict[word]\n",
    "            \n",
    "        for word in set(ngrams_list):  # calculate document frequency of words\n",
    "            if word in df: df[word]+=1\n",
    "            else: df[word]=1\n",
    "            \n",
    "    for word in list(df.keys()):  # delete words which dont occur often in corpus\n",
    "        if df[word]<min_df:\n",
    "            del df[word]\n",
    "            \n",
    "    if keep_topN>0 and keep_topN<len(df.keys()): # if keep top N grams is required\n",
    "        sorted_df_dict=dict(sorted(df.items(), key=lambda item: item[1], reverse=True))\n",
    "        words_to_remove= list(sorted_df_dict)[keep_topN:]\n",
    "        for w in words_to_remove: del df[w]\n",
    "\n",
    "    # to remove words not in df but in ngram_counts\n",
    "    extra_words = [word for word in ngram_counts if not word in df.keys()] \n",
    "    for word in extra_words: del ngram_counts[word]\n",
    "    \n",
    "    vocab=sorted(list(ngram_counts.keys())) # we make our vocab sorted in alphabetical order\n",
    "    \n",
    "    return vocab, df, ngram_counts"
   ]
  },
  {
   "cell_type": "code",
   "execution_count": 9,
   "metadata": {},
   "outputs": [],
   "source": [
    "range_for_BOW=(1,3)\n",
    "range_for_BOCN=(2,5)\n",
    "tp_for_BOW= '[A-Za-z0-9\\']+(?:\\`[A-Za-z]+)?'"
   ]
  },
  {
   "cell_type": "markdown",
   "metadata": {},
   "source": [
    "Now you should use `get_vocab` to create your vocabulary and get document and raw frequencies of n-grams:"
   ]
  },
  {
   "cell_type": "code",
   "execution_count": 10,
   "metadata": {
    "ExecuteTime": {
     "end_time": "2020-02-15T14:17:39.319793Z",
     "start_time": "2020-02-15T14:17:36.836545Z"
    }
   },
   "outputs": [
    {
     "name": "stdout",
     "output_type": "stream",
     "text": [
      "Random 10 elements of BOW vocabulary are: {'devoted': 24, 'whom': 142, \"weren't\": 52, 'carries': 38, 'message': 126, 'support': 51, 'fellow': 70, 'unfortunately': 270, 'rest': 300, 'appealing': 64}\n",
      "Random 10 elements of BOCN vocabulary are: {'icat': 359, 'cati': 273, 'ston': 305, 'ompl': 856, 'yste': 379, 'm ( ': 195, ' ( b': 418, 'esid': 210, ' dou': 431, 'doub': 288}\n"
     ]
    }
   ],
   "source": [
    "s1=time.time()\n",
    "vocabulary, doc_freq, ngram_counts = get_vocab(train_set_list,min_df=20,stop_words=stop_words, \n",
    "                                              ngram_range=range_for_BOW, token_pattern=tp_for_BOW)\n",
    "vocab_char, df_char, ngram_count_char = get_vocab(train_set_list,min_df=140, char_ngrams=True, \n",
    "                                                 ngram_range=range_for_BOCN, stop_words=stop_words)\n",
    "s2=time.time()\n",
    "\n",
    "n=random.randint(0,len(vocabulary))\n",
    "m=random.randint(0,len(vocab_char))\n",
    "print(\"Random 10 elements of BOW vocabulary are:\",({k:v for (k,v) in [x for x in ngram_counts.items()][n:n+10]}))\n",
    "print(\"Random 10 elements of BOCN vocabulary are:\",({k:v for (k,v) in [x for x in ngram_count_char.items()][m:m+10]}))"
   ]
  },
  {
   "cell_type": "markdown",
   "metadata": {},
   "source": [
    "Then, you need to create 2 dictionaries: (1) vocabulary id -> word; and  (2) word -> vocabulary id so you can use them for reference:"
   ]
  },
  {
   "cell_type": "code",
   "execution_count": 11,
   "metadata": {
    "ExecuteTime": {
     "end_time": "2020-02-15T14:17:39.326811Z",
     "start_time": "2020-02-15T14:17:39.322256Z"
    }
   },
   "outputs": [
    {
     "name": "stdout",
     "output_type": "stream",
     "text": [
      "Time taken to get vocabulary= 24.363823890686035\n",
      "The lenght of BOW vocabulary is 4555 and BOCN vocabulary is 12538\n"
     ]
    }
   ],
   "source": [
    "print(\"Time taken to get vocabulary=\", s2-s1)\n",
    "print(\"The lenght of BOW vocabulary is {} and BOCN vocabulary is {}\".format(len(vocabulary), len(vocab_char)))\n",
    "id2word=enumerate(vocabulary+vocab_char)\n",
    "id_word_dict=dict(id2word)\n",
    "word_id_dict=dict((word,ID) for ID,word in id_word_dict.items())"
   ]
  },
  {
   "cell_type": "markdown",
   "metadata": {},
   "source": [
    "Now you should be able to extract n-grams for each text in the training, development and test sets:"
   ]
  },
  {
   "cell_type": "code",
   "execution_count": 12,
   "metadata": {
    "ExecuteTime": {
     "end_time": "2020-02-15T14:17:40.213253Z",
     "start_time": "2020-02-15T14:17:39.329147Z"
    }
   },
   "outputs": [],
   "source": [
    "train_ngram_doc=[None]*len(train_set_list) # Creating an empty list to store extracted ngrams\n",
    "train_char_doc=[None]*len(train_set_list)\n",
    "for i in range(len(train_set_list)): \n",
    "    train_ngram_doc[i]=extract_ngrams(train_set_list[i], stop_words=stop_words, \n",
    "                                      token_pattern=tp_for_BOW, ngram_range=range_for_BOW)\n",
    "    train_char_doc[i]=extract_ngrams(train_set_list[i], char_ngrams=True, stop_words=stop_words, \n",
    "                                     ngram_range=range_for_BOCN)"
   ]
  },
  {
   "cell_type": "code",
   "execution_count": 13,
   "metadata": {},
   "outputs": [],
   "source": [
    "test_ngram_doc=[None]*len(test_set_list)\n",
    "test_char_doc=[None]*len(test_set_list)\n",
    "for i in range(len(test_set_list)):\n",
    "    test_ngram_doc[i]=extract_ngrams(test_set_list[i], stop_words=stop_words, \n",
    "                                     token_pattern=tp_for_BOW, ngram_range=range_for_BOW)\n",
    "    test_char_doc[i]=extract_ngrams(test_set_list[i], char_ngrams=True, stop_words=stop_words, \n",
    "                                    ngram_range=range_for_BOCN)"
   ]
  },
  {
   "cell_type": "code",
   "execution_count": 14,
   "metadata": {},
   "outputs": [],
   "source": [
    "dev_ngram_doc=[None]*len(dev_set_list)\n",
    "dev_char_doc=[None]*len(dev_set_list)\n",
    "for i in range(len(dev_set_list)):\n",
    "    dev_ngram_doc[i]=extract_ngrams(dev_set_list[i], stop_words=stop_words, \n",
    "                                    token_pattern=tp_for_BOW, ngram_range=range_for_BOW)\n",
    "    dev_char_doc[i]=extract_ngrams(dev_set_list[i], char_ngrams=True, stop_words=stop_words, \n",
    "                                   ngram_range=range_for_BOCN)"
   ]
  },
  {
   "cell_type": "markdown",
   "metadata": {},
   "source": [
    "## Vectorise documents "
   ]
  },
  {
   "cell_type": "markdown",
   "metadata": {},
   "source": [
    "Next, write a function `vectoriser` to obtain Bag-of-ngram representations for a list of documents. The function should take as input:\n",
    "- `X_ngram`: a list of texts (documents), where each text is represented as list of n-grams in the `vocab`\n",
    "- `vocab`: a set of n-grams to be used for representing the documents\n",
    "\n",
    "and return:\n",
    "- `X_vec`: an array with dimensionality Nx|vocab| where N is the number of documents and |vocab| is the size of the vocabulary. Each element of the array should represent the frequency of a given n-gram in a document.\n"
   ]
  },
  {
   "cell_type": "code",
   "execution_count": 15,
   "metadata": {
    "ExecuteTime": {
     "end_time": "2020-02-15T14:17:40.219201Z",
     "start_time": "2020-02-15T14:17:40.215129Z"
    }
   },
   "outputs": [],
   "source": [
    "bias_control= False # if we want bias as a weight. Default False\n",
    "\n",
    "def vectorise(X_ngram, vocab, bias= bias_control):\n",
    "    \n",
    "    if bias==True:\n",
    "        X_vec=np.zeros(shape=(len(X_ngram), len(vocab)+1)) \n",
    "        X_vec[:,-1]=1   # A column with all 1's to manage bias\n",
    "        \n",
    "    else: X_vec=np.zeros(shape=(len(X_ngram), len(vocab)))\n",
    "    \n",
    "    for i in range(X_vec.shape[0]):\n",
    "        row_term_freq=Counter(X_ngram[i])\n",
    "        for j in range(len(vocab)):\n",
    "            word= vocab[j]\n",
    "            if word in row_term_freq: \n",
    "                X_vec[i,j] = row_term_freq[word]\n",
    "                \n",
    "    return X_vec"
   ]
  },
  {
   "cell_type": "markdown",
   "metadata": {},
   "source": [
    "Finally, use `vectorise` to obtain document vectors for each document in the train, development and test set. You should extract both count and tf.idf vectors respectively:"
   ]
  },
  {
   "cell_type": "markdown",
   "metadata": {},
   "source": [
    "#### Count vectors"
   ]
  },
  {
   "cell_type": "code",
   "execution_count": 16,
   "metadata": {
    "ExecuteTime": {
     "end_time": "2020-02-15T14:17:41.999574Z",
     "start_time": "2020-02-15T14:17:40.376534Z"
    }
   },
   "outputs": [
    {
     "name": "stdout",
     "output_type": "stream",
     "text": [
      "Time taken to vectorise all datasets= 14.667065858840942\n"
     ]
    }
   ],
   "source": [
    "s3=time.time()\n",
    "train_BOW_count=vectorise(train_ngram_doc,vocabulary)\n",
    "test_BOW_count=vectorise(test_ngram_doc,vocabulary)\n",
    "dev_BOW_count=vectorise(dev_ngram_doc,vocabulary)\n",
    "train_BOCN_count=vectorise(train_char_doc,vocab_char)\n",
    "test_BOCN_count=vectorise(test_char_doc,vocab_char)\n",
    "dev_BOCN_count=vectorise(dev_char_doc,vocab_char)\n",
    "print(\"Time taken to vectorise all datasets=\", time.time()-s3)"
   ]
  },
  {
   "cell_type": "markdown",
   "metadata": {},
   "source": [
    "#### TF.IDF vectors\n",
    "\n",
    "First compute `idfs` an array containing inverted document frequencies (Note: its elements should correspond to your `vocab`)"
   ]
  },
  {
   "cell_type": "code",
   "execution_count": 17,
   "metadata": {
    "ExecuteTime": {
     "end_time": "2020-02-15T14:17:42.022692Z",
     "start_time": "2020-02-15T14:17:42.012315Z"
    }
   },
   "outputs": [],
   "source": [
    "idfs_BOW=[None]*len(vocabulary)                             # List to store IDF values\n",
    "idfs_BOCN=[None]*len(vocab_char)\n",
    "\n",
    "for i in range(len(vocabulary)):\n",
    "    word=vocabulary[i]\n",
    "    idfs_BOW[i] = np.log10(len(train_set_list)/doc_freq[word])\n",
    "\n",
    "for i in range(len(vocab_char)):\n",
    "    word=vocab_char[i]\n",
    "    idfs_BOCN[i] = np.log10(len(train_set_list)/df_char[word])\n",
    "    \n",
    "def compute_tfidf_doc(count_vec,idfs, bias= bias_control):       # A function to create tfidf vectors from count vector\n",
    "    tfidf_vec=np.zeros_like(count_vec)\n",
    "    if bias==False: \n",
    "        for i in range(tfidf_vec.shape[1]):\n",
    "            tfidf_vec[:,i]=count_vec[:,i]*idfs[i]                # tfidf value = counts of words in column x IDF\n",
    "    else: \n",
    "        for i in range(tfidf_vec.shape[1]-1):\n",
    "            tfidf_vec[:,i]=count_vec[:,i]*idfs[i]\n",
    "        tfidf_vec[:,-1]=1                                        # manage bias\n",
    "    return tfidf_vec"
   ]
  },
  {
   "cell_type": "markdown",
   "metadata": {},
   "source": [
    "Then transform your count vectors to tf.idf vectors:"
   ]
  },
  {
   "cell_type": "code",
   "execution_count": 18,
   "metadata": {
    "ExecuteTime": {
     "end_time": "2020-02-15T14:17:42.802265Z",
     "start_time": "2020-02-15T14:17:42.752448Z"
    }
   },
   "outputs": [],
   "source": [
    "train_BOW_tfidf= compute_tfidf_doc(train_BOW_count,idfs_BOW)\n",
    "\n",
    "test_BOW_tfidf= compute_tfidf_doc(test_BOW_count,idfs_BOW)\n",
    "\n",
    "dev_BOW_tfidf= compute_tfidf_doc(dev_BOW_count,idfs_BOW)\n",
    "    \n",
    "train_BOCN_tfidf= compute_tfidf_doc(train_BOCN_count,idfs_BOCN)\n",
    "\n",
    "test_BOCN_tfidf= compute_tfidf_doc(test_BOCN_count,idfs_BOCN)\n",
    "\n",
    "dev_BOCN_tfidf= compute_tfidf_doc(dev_BOCN_count,idfs_BOCN)"
   ]
  },
  {
   "cell_type": "markdown",
   "metadata": {},
   "source": [
    "# Binary Logistic Regression\n",
    "\n",
    "After obtaining vector representations of the data, now you are ready to implement Binary Logistic Regression for classifying sentiment."
   ]
  },
  {
   "cell_type": "markdown",
   "metadata": {},
   "source": [
    "First, you need to implement the `sigmoid` function. It takes as input:\n",
    "\n",
    "- `z`: a real number or an array of real numbers \n",
    "\n",
    "and returns:\n",
    "\n",
    "- `sig`: the sigmoid of `z`"
   ]
  },
  {
   "cell_type": "code",
   "execution_count": 19,
   "metadata": {
    "ExecuteTime": {
     "end_time": "2020-02-15T14:17:44.160661Z",
     "start_time": "2020-02-15T14:17:44.157902Z"
    }
   },
   "outputs": [],
   "source": [
    "def sigmoid(z):\n",
    "    sig= 1 /(1+ np.exp(-z) )    # 1/(1+e^-z)\n",
    "    return sig"
   ]
  },
  {
   "cell_type": "markdown",
   "metadata": {},
   "source": [
    "Then, implement the `predict_proba` function to obtain prediction probabilities. It takes as input:\n",
    "\n",
    "- `X`: an array of inputs, i.e. documents represented by bag-of-ngram vectors ($N \\times |vocab|$)\n",
    "- `weights`: a 1-D array of the model's weights $(1, |vocab|)$\n",
    "\n",
    "and returns:\n",
    "\n",
    "- `preds_proba`: the prediction probabilities of X given the weights"
   ]
  },
  {
   "cell_type": "code",
   "execution_count": 20,
   "metadata": {
    "ExecuteTime": {
     "end_time": "2020-02-15T14:17:44.718566Z",
     "start_time": "2020-02-15T14:17:44.715017Z"
    }
   },
   "outputs": [],
   "source": [
    "def predict_proba(X, weights):\n",
    "    weights=weights.T                      # To allow matrix multiplication\n",
    "    preds_proba=sigmoid(np.dot(X,weights))\n",
    "    return preds_proba    # A value between 0 and 1"
   ]
  },
  {
   "cell_type": "markdown",
   "metadata": {},
   "source": [
    "Then, implement the `predict_class` function to obtain the most probable class for each vector in an array of input vectors. It takes as input:\n",
    "\n",
    "- `X`: an array of documents represented by bag-of-ngram vectors ($N \\times |vocab|$)\n",
    "- `weights`: a 1-D array of the model's weights $(1, |vocab|)$\n",
    "\n",
    "and returns:\n",
    "\n",
    "- `preds_class`: the predicted class for each x in X given the weights"
   ]
  },
  {
   "cell_type": "code",
   "execution_count": 21,
   "metadata": {
    "ExecuteTime": {
     "end_time": "2020-02-15T14:17:45.002125Z",
     "start_time": "2020-02-15T14:17:44.998668Z"
    }
   },
   "outputs": [],
   "source": [
    "def predict_class(X, weights):\n",
    "    probabilities=predict_proba(X, weights)\n",
    "    \n",
    "    preds_class = probabilities.copy()\n",
    "    for i in range(len(probabilities)):\n",
    "        prob=probabilities[i]\n",
    "        if prob>=0.5: preds_class[i]=1 \n",
    "        else: preds_class[i]=0\n",
    "    return preds_class"
   ]
  },
  {
   "cell_type": "markdown",
   "metadata": {},
   "source": [
    "To learn the weights from data, we need to minimise the binary cross-entropy loss. Implement `binary_loss` that takes as input:\n",
    "\n",
    "- `X`: input vectors\n",
    "- `Y`: labels\n",
    "- `weights`: model weights\n",
    "- `alpha`: regularisation strength\n",
    "\n",
    "and return:\n",
    "\n",
    "- `l`: the loss score"
   ]
  },
  {
   "cell_type": "code",
   "execution_count": 22,
   "metadata": {
    "ExecuteTime": {
     "end_time": "2020-02-15T14:17:45.455533Z",
     "start_time": "2020-02-15T14:17:45.451475Z"
    }
   },
   "outputs": [],
   "source": [
    "def binary_loss(X, Y, weights, alpha=0.00001):\n",
    "    '''\n",
    "    Binary Cross-entropy Loss\n",
    "\n",
    "    X:(len(X),len(vocab))\n",
    "    Y: array len(Y)\n",
    "    weights: array len(X)\n",
    "    '''\n",
    "    temp_loss=0\n",
    "    t=1e-08                          # to clip values\n",
    "    Y_pred=predict_proba(X,weights)\n",
    "    np.clip(Y_pred,t,1-t,out=Y_pred) # To prevent log(0), we make sure that the values lie between [0.00000001,0.99999999]\n",
    "    N=len(Y)\n",
    "    for i in range(N):\n",
    "        temp_loss= temp_loss - ( Y[i] * np.log(Y_pred[i]) + (1-Y[i]) * np.log(1-Y_pred[i]) )  # -(Y*log(P) + (1-Y)*log(1-P))/N\n",
    "    weights=np.array(weights)\n",
    "    weights=weights.flatten()                   # to allow list operation\n",
    "    l= (temp_loss/N) + alpha*(np.sum(w*w for w in weights))\n",
    "    \n",
    "    return l\n",
    "    "
   ]
  },
  {
   "cell_type": "markdown",
   "metadata": {},
   "source": [
    "Now, you can implement Stochastic Gradient Descent to learn the weights of your sentiment classifier. The `SGD` function takes as input:\n",
    "\n",
    "- `X_tr`: array of training data (vectors)\n",
    "- `Y_tr`: labels of `X_tr`\n",
    "- `X_dev`: array of development (i.e. validation) data (vectors)\n",
    "- `Y_dev`: labels of `X_dev`\n",
    "- `lr`: learning rate\n",
    "- `alpha`: regularisation strength\n",
    "- `epochs`: number of full passes over the training data\n",
    "- `tolerance`: stop training if the difference between the current and previous validation loss is smaller than a threshold\n",
    "- `print_progress`: flag for printing the training progress (train/validation loss)\n",
    "\n",
    "\n",
    "and returns:\n",
    "\n",
    "- `weights`: the weights learned\n",
    "- `training_loss_history`: an array with the average losses of the whole training set after each epoch\n",
    "- `validation_loss_history`: an array with the average losses of the whole development set after each epoch"
   ]
  },
  {
   "cell_type": "code",
   "execution_count": 23,
   "metadata": {
    "ExecuteTime": {
     "end_time": "2020-02-15T14:17:45.968510Z",
     "start_time": "2020-02-15T14:17:45.958185Z"
    }
   },
   "outputs": [
    {
     "name": "stdout",
     "output_type": "stream",
     "text": [
      "Time taken to run notebook excluding hyperparameter tuning: 55.521 seconds\n"
     ]
    }
   ],
   "source": [
    "def SGD(X_tr, Y_tr, X_dev=[], Y_dev=[], lr=1e-02, \n",
    "        alpha=1e-05, epochs=10, \n",
    "        tolerance=1e-06, print_progress=False, break_= True):\n",
    "    weights=np.zeros(shape=(1,X_tr.shape[1]))\n",
    "    training_loss_history, dev_loss_history=[],[]\n",
    "    \n",
    "    for epoch_num in range(epochs):\n",
    "        np.random.seed(210116270)              # for reproductivity\n",
    "        p = np.random.permutation(len(Y_tr))   # To shuffle both datasets in a same way\n",
    "        X=X_tr[p]   # X and Y are new randomised dataset\n",
    "        Y=Y_tr[p]\n",
    "        for i in range(len(Y)):                 # we update weight for every datapoint\n",
    "            X_row= X[i,:]                       # select row\n",
    "            Y_pred= predict_proba(X_row,weights)\n",
    "            error= Y_pred - Y[i]                # difference in predicted values\n",
    "            # w= w - lr * ( ( (y_P-y_i) * X_i ) + 2a*w )\n",
    "            weights= ((1-2*alpha*lr)*weights) - (lr*error*X_row)        # weight update\n",
    "            \n",
    "            # we didn't use matrix multiplication as this multiplication contains array with 1 element. \n",
    "            # If it were a bigger matrix, we would have used np.dot\n",
    "        training_loss_history.append (binary_loss(X_tr,Y_tr,weights,alpha=alpha))\n",
    "        dev_loss_history.append (binary_loss(X_dev,Y_dev,weights,alpha=alpha))\n",
    "        \n",
    "        # printing loss on each epoch\n",
    "        if print_progress==True:\n",
    "            print('After epoch {} Training loss is: {} and development loss is: {}'\n",
    "                  .format(epoch_num+1,training_loss_history[epoch_num],dev_loss_history[epoch_num]))\n",
    "            \n",
    "        # terminate run if reach tolerance\n",
    "        if epoch_num>1 and ((dev_loss_history[epoch_num-1] - dev_loss_history[epoch_num])\n",
    "                            < tolerance):\n",
    "            if print_progress==True: \n",
    "                print(\"--------------------------------------------------------------------\")\n",
    "                print(\"Loop break as threshold reached after {} epochs\".format(epoch_num+1))\n",
    "            if break_== True:      # Default True\n",
    "                break\n",
    "            \n",
    "    return weights, training_loss_history, dev_loss_history\n",
    "\n",
    "np.set_printoptions(precision=4)  # to print only 4 digits in binary loss\n",
    "end1=time.time()\n",
    "print(\"Time taken to run notebook excluding hyperparameter tuning: {:.3f} seconds\".format(end1-start))"
   ]
  },
  {
   "cell_type": "markdown",
   "metadata": {},
   "source": [
    "## Train and Evaluate Logistic Regression with Count vectors\n",
    "\n",
    "First train the model using SGD:"
   ]
  },
  {
   "cell_type": "code",
   "execution_count": 24,
   "metadata": {},
   "outputs": [
    {
     "name": "stdout",
     "output_type": "stream",
     "text": [
      "The best parameters for Binary Cross Entropy loss 0.374 computed over development data is, lr=0.0014677992676220691, rp=0.0001\n"
     ]
    }
   ],
   "source": [
    "lr_options=np.logspace(start=-3.5,stop=-2.5,num=4)\n",
    "l2_reg_strenght=np.logspace(start=-1,stop=-4,num=4)\n",
    "scores_matrix1= np.empty(shape=(len(lr_options)*len(l2_reg_strenght), 4)) # A matrix to store info for each option\n",
    "index=0 # index for above matrix\n",
    "for i in lr_options:\n",
    "    for j in l2_reg_strenght:\n",
    "        w,tl,dl= SGD(train_BOW_count,train_labels,dev_BOW_count,dev_labels, lr=i, alpha=j)\n",
    "        f1_measure= f1_score(dev_labels,predict_class(dev_BOW_count, w))\n",
    "        scores_matrix1[index,:]=dl[-1], f1_measure,i,j   # f1_measure\n",
    "        index+= 1\n",
    "        \n",
    "best_params=scores_matrix1[np.argmin(scores_matrix1,axis=0)[0]]    # lowest BCE loss score in all scores calculated\n",
    "least_BCEL1 = best_params[0]                                     #lowest BCE loss on development set\n",
    "best_lr1= best_params[2]                                    #best learning rate\n",
    "best_reg1= best_params[3]                                    #best regularization param\n",
    "\n",
    "print('The best parameters for Binary Cross Entropy loss {:.3f} computed over development data is, lr={}, rp={}'\n",
    "      .format(least_BCEL1,(best_lr1),best_reg1))"
   ]
  },
  {
   "cell_type": "code",
   "execution_count": 25,
   "metadata": {},
   "outputs": [
    {
     "name": "stdout",
     "output_type": "stream",
     "text": [
      "The matrix is-\n"
     ]
    },
    {
     "data": {
      "text/html": [
       "<div>\n",
       "<style scoped>\n",
       "    .dataframe tbody tr th:only-of-type {\n",
       "        vertical-align: middle;\n",
       "    }\n",
       "\n",
       "    .dataframe tbody tr th {\n",
       "        vertical-align: top;\n",
       "    }\n",
       "\n",
       "    .dataframe thead th {\n",
       "        text-align: right;\n",
       "    }\n",
       "</style>\n",
       "<table border=\"1\" class=\"dataframe\">\n",
       "  <thead>\n",
       "    <tr style=\"text-align: right;\">\n",
       "      <th></th>\n",
       "      <th>Dev_loss</th>\n",
       "      <th>F1_score</th>\n",
       "      <th>LR</th>\n",
       "      <th>Reg_strenght</th>\n",
       "    </tr>\n",
       "  </thead>\n",
       "  <tbody>\n",
       "    <tr>\n",
       "      <th>0</th>\n",
       "      <td>0.537761</td>\n",
       "      <td>0.830000</td>\n",
       "      <td>0.000316</td>\n",
       "      <td>0.1000</td>\n",
       "    </tr>\n",
       "    <tr>\n",
       "      <th>1</th>\n",
       "      <td>0.446031</td>\n",
       "      <td>0.835821</td>\n",
       "      <td>0.000316</td>\n",
       "      <td>0.0100</td>\n",
       "    </tr>\n",
       "    <tr>\n",
       "      <th>2</th>\n",
       "      <td>0.430602</td>\n",
       "      <td>0.840000</td>\n",
       "      <td>0.000316</td>\n",
       "      <td>0.0010</td>\n",
       "    </tr>\n",
       "    <tr>\n",
       "      <th>3</th>\n",
       "      <td>0.428966</td>\n",
       "      <td>0.840000</td>\n",
       "      <td>0.000316</td>\n",
       "      <td>0.0001</td>\n",
       "    </tr>\n",
       "    <tr>\n",
       "      <th>4</th>\n",
       "      <td>0.545413</td>\n",
       "      <td>0.824742</td>\n",
       "      <td>0.000681</td>\n",
       "      <td>0.1000</td>\n",
       "    </tr>\n",
       "    <tr>\n",
       "      <th>5</th>\n",
       "      <td>0.425265</td>\n",
       "      <td>0.861386</td>\n",
       "      <td>0.000681</td>\n",
       "      <td>0.0100</td>\n",
       "    </tr>\n",
       "    <tr>\n",
       "      <th>6</th>\n",
       "      <td>0.393913</td>\n",
       "      <td>0.861386</td>\n",
       "      <td>0.000681</td>\n",
       "      <td>0.0010</td>\n",
       "    </tr>\n",
       "    <tr>\n",
       "      <th>7</th>\n",
       "      <td>0.390354</td>\n",
       "      <td>0.861386</td>\n",
       "      <td>0.000681</td>\n",
       "      <td>0.0001</td>\n",
       "    </tr>\n",
       "    <tr>\n",
       "      <th>8</th>\n",
       "      <td>0.564979</td>\n",
       "      <td>0.793478</td>\n",
       "      <td>0.001468</td>\n",
       "      <td>0.1000</td>\n",
       "    </tr>\n",
       "    <tr>\n",
       "      <th>9</th>\n",
       "      <td>0.428823</td>\n",
       "      <td>0.851485</td>\n",
       "      <td>0.001468</td>\n",
       "      <td>0.0100</td>\n",
       "    </tr>\n",
       "    <tr>\n",
       "      <th>10</th>\n",
       "      <td>0.380519</td>\n",
       "      <td>0.843137</td>\n",
       "      <td>0.001468</td>\n",
       "      <td>0.0010</td>\n",
       "    </tr>\n",
       "    <tr>\n",
       "      <th>11</th>\n",
       "      <td>0.373639</td>\n",
       "      <td>0.843137</td>\n",
       "      <td>0.001468</td>\n",
       "      <td>0.0001</td>\n",
       "    </tr>\n",
       "    <tr>\n",
       "      <th>12</th>\n",
       "      <td>0.612085</td>\n",
       "      <td>0.720930</td>\n",
       "      <td>0.003162</td>\n",
       "      <td>0.1000</td>\n",
       "    </tr>\n",
       "    <tr>\n",
       "      <th>13</th>\n",
       "      <td>0.443285</td>\n",
       "      <td>0.816327</td>\n",
       "      <td>0.003162</td>\n",
       "      <td>0.0100</td>\n",
       "    </tr>\n",
       "    <tr>\n",
       "      <th>14</th>\n",
       "      <td>0.388852</td>\n",
       "      <td>0.825871</td>\n",
       "      <td>0.003162</td>\n",
       "      <td>0.0010</td>\n",
       "    </tr>\n",
       "    <tr>\n",
       "      <th>15</th>\n",
       "      <td>0.379735</td>\n",
       "      <td>0.825871</td>\n",
       "      <td>0.003162</td>\n",
       "      <td>0.0001</td>\n",
       "    </tr>\n",
       "  </tbody>\n",
       "</table>\n",
       "</div>"
      ],
      "text/plain": [
       "    Dev_loss  F1_score        LR  Reg_strenght\n",
       "0   0.537761  0.830000  0.000316        0.1000\n",
       "1   0.446031  0.835821  0.000316        0.0100\n",
       "2   0.430602  0.840000  0.000316        0.0010\n",
       "3   0.428966  0.840000  0.000316        0.0001\n",
       "4   0.545413  0.824742  0.000681        0.1000\n",
       "5   0.425265  0.861386  0.000681        0.0100\n",
       "6   0.393913  0.861386  0.000681        0.0010\n",
       "7   0.390354  0.861386  0.000681        0.0001\n",
       "8   0.564979  0.793478  0.001468        0.1000\n",
       "9   0.428823  0.851485  0.001468        0.0100\n",
       "10  0.380519  0.843137  0.001468        0.0010\n",
       "11  0.373639  0.843137  0.001468        0.0001\n",
       "12  0.612085  0.720930  0.003162        0.1000\n",
       "13  0.443285  0.816327  0.003162        0.0100\n",
       "14  0.388852  0.825871  0.003162        0.0010\n",
       "15  0.379735  0.825871  0.003162        0.0001"
      ]
     },
     "execution_count": 25,
     "metadata": {},
     "output_type": "execute_result"
    }
   ],
   "source": [
    "print(\"The matrix is-\") \n",
    "pd.DataFrame(scores_matrix1, columns = ['Dev_loss','F1_score', 'LR', 'Reg_strenght'])"
   ]
  },
  {
   "cell_type": "code",
   "execution_count": 26,
   "metadata": {},
   "outputs": [
    {
     "name": "stdout",
     "output_type": "stream",
     "text": [
      "After epoch 1 Training loss is: [0.3911] and development loss is: [0.4982]\n",
      "After epoch 2 Training loss is: [0.2997] and development loss is: [0.4396]\n",
      "After epoch 3 Training loss is: [0.2506] and development loss is: [0.4136]\n",
      "After epoch 4 Training loss is: [0.2178] and development loss is: [0.399]\n",
      "After epoch 5 Training loss is: [0.1938] and development loss is: [0.3899]\n",
      "After epoch 6 Training loss is: [0.175] and development loss is: [0.3839]\n",
      "After epoch 7 Training loss is: [0.1599] and development loss is: [0.3798]\n",
      "After epoch 8 Training loss is: [0.1474] and development loss is: [0.3769]\n",
      "After epoch 9 Training loss is: [0.1368] and development loss is: [0.3749]\n",
      "After epoch 10 Training loss is: [0.1278] and development loss is: [0.3736]\n",
      "Accuracy score on train data is- 99.14285714285714\n"
     ]
    }
   ],
   "source": [
    "w_count_BOW, train_losses1, dev_losses1=SGD(train_BOW_count,train_labels,dev_BOW_count,\n",
    "                                            dev_labels, lr=best_lr1, alpha=best_reg1, print_progress=True)\n",
    "print(\"Accuracy score on train data is-\",accuracy_score(train_labels,predict_class(train_BOW_count, w_count_BOW))*100)"
   ]
  },
  {
   "cell_type": "markdown",
   "metadata": {},
   "source": [
    "Now plot the training and validation history per epoch for the best hyperparameter combination. Does your model underfit, overfit or is it about right? Explain why."
   ]
  },
  {
   "cell_type": "code",
   "execution_count": 27,
   "metadata": {
    "ExecuteTime": {
     "end_time": "2020-02-15T14:17:51.598911Z",
     "start_time": "2020-02-15T14:17:51.482307Z"
    }
   },
   "outputs": [
    {
     "data": {
      "image/png": "[encoded data removed]",
      "text/plain": [
       "<Figure size 432x288 with 1 Axes>"
      ]
     },
     "metadata": {
      "needs_background": "light"
     },
     "output_type": "display_data"
    }
   ],
   "source": [
    "def plot_graph(train_losses,dev_losses):\n",
    "    epochs_list=list(range(1,len(train_losses)+1,1))\n",
    "    plt.plot(epochs_list, train_losses,'r-', label='training loss')\n",
    "    plt.plot(epochs_list, dev_losses,'b', label='development loss')\n",
    "    plt.xlabel(\"Epochs\")\n",
    "    plt.ylabel(\"BCE Loss\") \n",
    "    plt.title(\"Epoch vs Loss\")\n",
    "    plt.legend()\n",
    "    plt.show()\n",
    "\n",
    "plot_graph(train_losses1,dev_losses1)"
   ]
  },
  {
   "cell_type": "markdown",
   "metadata": {
    "ExecuteTime": {
     "end_time": "2020-01-21T16:52:26.583150Z",
     "start_time": "2020-01-21T16:52:26.578754Z"
    }
   },
   "source": [
    "Explain here..."
   ]
  },
  {
   "cell_type": "markdown",
   "metadata": {},
   "source": [
    "As per the plot of training and develpoment losses history above, it can be noted that the loss after 4 epochs for trainset is a lot lower than devset. Because the loss for training set is lower than that of losses of developement set, we say that the model is overfitting as the learned parameters are favouring training data. If the development loss was nearly equal to training loss, the model would have been a good fit. Also, the accuracy score of the model on train data is 99% while on development data, its around 87%, so we can say that the model is overfitting."
   ]
  },
  {
   "cell_type": "markdown",
   "metadata": {},
   "source": [
    "#### Evaluation\n",
    "\n",
    "Compute accuracy, precision, recall and F1-scores:"
   ]
  },
  {
   "cell_type": "code",
   "execution_count": 28,
   "metadata": {
    "ExecuteTime": {
     "end_time": "2020-02-15T14:17:51.607940Z",
     "start_time": "2020-02-15T14:17:51.600272Z"
    }
   },
   "outputs": [
    {
     "name": "stdout",
     "output_type": "stream",
     "text": [
      "Accuracy %: 84.25\n",
      "Precision: 0.8309178743961353\n",
      "Recall: 0.86\n",
      "F1-Score: 0.8452088452088452\n"
     ]
    }
   ],
   "source": [
    "def compute_scores(test_data,w):\n",
    "    predicted = predict_class(test_data, w)\n",
    "    a=accuracy_score(test_labels,predicted)*100\n",
    "    p=precision_score(test_labels,predicted)\n",
    "    r=recall_score(test_labels,predicted)\n",
    "    f=f1_score(test_labels,predicted)\n",
    "    return a,p,r,f\n",
    "scores= np.zeros(shape=(5,4))\n",
    "preds_te_count = predict_class(test_BOW_count, w_count_BOW)\n",
    "\n",
    "print('Accuracy %:', accuracy_score(test_labels,preds_te_count)*100)\n",
    "print('Precision:', precision_score(test_labels,preds_te_count))\n",
    "print('Recall:', recall_score(test_labels,preds_te_count))\n",
    "print('F1-Score:', f1_score(test_labels,preds_te_count))\n",
    "scores[0,:]=compute_scores(test_BOW_count,w_count_BOW)"
   ]
  },
  {
   "cell_type": "markdown",
   "metadata": {},
   "source": [
    "Finally, print the top-10 words for the negative and positive class respectively."
   ]
  },
  {
   "cell_type": "code",
   "execution_count": 29,
   "metadata": {
    "ExecuteTime": {
     "end_time": "2020-02-15T14:17:51.613935Z",
     "start_time": "2020-02-15T14:17:51.610660Z"
    }
   },
   "outputs": [
    {
     "name": "stdout",
     "output_type": "stream",
     "text": [
      "Top 10 negative words are-\n",
      "bad\n",
      "unfortunately\n",
      "worst\n",
      "script\n",
      "boring\n",
      "only\n",
      "nothing\n",
      "why\n",
      "looks\n",
      "any\n"
     ]
    }
   ],
   "source": [
    "top_neg = w_count_BOW.argsort() \n",
    "print('Top 10 negative words are-')\n",
    "for i in top_neg[0][:10]:\n",
    "    print(vocabulary[i])"
   ]
  },
  {
   "cell_type": "code",
   "execution_count": 30,
   "metadata": {
    "ExecuteTime": {
     "end_time": "2020-02-15T14:17:51.624122Z",
     "start_time": "2020-02-15T14:17:51.615674Z"
    }
   },
   "outputs": [
    {
     "name": "stdout",
     "output_type": "stream",
     "text": [
      "Top 10 positive words are-\n",
      "great\n",
      "well\n",
      "seen\n",
      "fun\n",
      "world\n",
      "life\n",
      "movies\n",
      "both\n",
      "quite\n",
      "also\n"
     ]
    }
   ],
   "source": [
    "top_pos = (-w_count_BOW).argsort() \n",
    "print('Top 10 positive words are-')\n",
    "for i in top_pos[0][:10]:\n",
    "    print(vocabulary[i])"
   ]
  },
  {
   "cell_type": "markdown",
   "metadata": {},
   "source": [
    "### Q- If we were to apply the classifier we've learned into a different domain such laptop reviews or restaurant reviews, do you think these features would generalise well? Can you propose what features the classifier could pick up as important in the new domain?"
   ]
  },
  {
   "cell_type": "markdown",
   "metadata": {},
   "source": [
    "If the above classifier is used for some other domain like electronic gadget reviews or restaurant reviews, it might help in classifying reviews purely based on sentiment words like good,great,bad,worst etc. \n",
    "\n",
    "But the classifier would not work well in the domains beyond that because each domain has other specific sentiment terms. For exampls, in laptop reviews, the terms like cheap price, big screen, long battery, useless touchpad, bulky weight, loud speaker, bright screen etc can't be picked up by the above classifier. \n",
    "\n",
    "For restaurant reviews, the words like airy atmosphere, tasty food, affordable, quick service, accessible location, delicious food, wait time, small quantity etc convey sentiment but our movie review classifier will not work well on the these terms. \n",
    "\n",
    "The common sentiments words like great, good, best, beautiful,incredible, bad, poor, unfortunately, worst, not good etc would be present in all the domains regardless of classifiers used and hence can help a bit in sentiment analysis."
   ]
  },
  {
   "cell_type": "markdown",
   "metadata": {},
   "source": [
    "### Q- Discuss how did you choose model hyperparameters (e.g. learning rate and regularisation strength)? What is the relation between training epochs and learning rate? How the regularisation strength affects performance?"
   ]
  },
  {
   "cell_type": "markdown",
   "metadata": {},
   "source": [
    "At first, a wide range of values were chosen(1x10^-9 to 0.1) for both learning rate and regularisation strenght. Based on initial runs, the sweet spot was noted and the range of values were toned down narrowly such that the computation time remained low. The number of epochs for hyperparamter tuning was kept the same at 10 epochs.\n",
    "\n",
    "Fow few models, the selection of hyperparameters was made using the lowest binary loss in last epoch. Later the best learning rate and regularisation strenght were chosen from possible values and the model was again trained to print the progress and find the weights.\n",
    "\n",
    "The learning rate and number of epochs are inversly proportional i.e, a low learning rate means that the model is making smaller steps towards the minimum and hence, more epochs are needed. Whereas if learning rate is high, the model makes bigger strides towards the minimum and hence fewer epochs are needed. But higher learning rate also means that the model might skip the minimum and start to perform worse. We can see this from the plot below where the learning rate and regularisation strenght were kept constant and the number of epochs were varied. The values were computed after taking average of all development losses in each epoch case to plot the graph. It can be seen that a learning rate which is 10 times more than the other, and produces lowest loss quickly while the lower learning rate model took more epochs to get same loss. Also, a higher learning rate meant that the model went beyond the minimum value of loss and now started to work poorly as seen by increasing of loss and decreasing of accuracy after around 12 epochs, whereas for lower learning rate model, the minimum is reached very slowly and the accuracy gradually improves\n",
    "\n",
    "Regularisation strength controls how much the model is able to learn. It penalises high values of w hence making sure that the system doesn't overfit. If the regularisation strenght was zero, the model will overfit and give 100% accuracy on training data and won't work well on new data. Fow few models like the BOCN-count, it can be seen that the model is trying to have the least regularisation possible. When the regularisation strenght was put at 0, the system gave better results(86% accuracy on test set). It can hence be said that not all models give an improvement on new data if regularisation is used."
   ]
  },
  {
   "cell_type": "code",
   "execution_count": 31,
   "metadata": {},
   "outputs": [
    {
     "data": {
      "image/png": "[encoded data removed]",
      "text/plain": [
       "<Figure size 432x288 with 2 Axes>"
      ]
     },
     "metadata": {
      "needs_background": "light"
     },
     "output_type": "display_data"
    }
   ],
   "source": [
    "# Here we dont break the function after reaching minimum Loss to show the worsening of model\n",
    "lr_fixed1=1e-04\n",
    "lr_fixed2=1e-03\n",
    "acc_score_list1 , acc_score_list2 , loss_score_list1, loss_score_list2= [],[],[],[]\n",
    "epochs_range=list(range(1,71,10))\n",
    "for i in epochs_range:\n",
    "    w_temp1,_,dl1 = SGD(train_BOW_count,train_labels,dev_BOW_count,dev_labels, lr=lr_fixed1, epochs=i, break_=False)\n",
    "    w_temp2,_,dl2 = SGD(train_BOW_count,train_labels,dev_BOW_count,dev_labels, lr=lr_fixed2, epochs=i, break_=False)\n",
    "    acc_score_list1.append(accuracy_score(dev_labels,predict_class(dev_BOW_count, w_temp1))*100)\n",
    "    acc_score_list2.append(accuracy_score(dev_labels,predict_class(dev_BOW_count, w_temp2))*100)\n",
    "    loss_score_list1.append(dl1[-1])\n",
    "    loss_score_list2.append(dl2[-1])\n",
    "    \n",
    "fig1 = plt.figure()                # Make a figure\n",
    "ax1 = fig1.add_subplot()           # Add the new axis\n",
    "ax1.plot(epochs_range,acc_score_list1,'--r+', label='lr 1 Acc')\n",
    "ax1.plot(epochs_range,acc_score_list2,'--g*', label='lr 2 Acc')\n",
    "ax1.legend(bbox_to_anchor=(1.4, 1.05)) # move legend\n",
    "plt.xlabel(\"Epochs\")\n",
    "plt.ylabel(\"Accuracy %\")\n",
    "ax2 = ax1.twinx()                  # new Y axis\n",
    "ax2.plot(epochs_range,loss_score_list1,'y', label='lr 1 Loss')\n",
    "ax2.plot(epochs_range,loss_score_list2,'b-', label='lr 2 Loss')\n",
    "plt.ylabel(\"BCE Loss\")\n",
    "plt.legend(bbox_to_anchor=(1.4, 0.15))\n",
    "plt.title(\"Epoch vs Learning Rate\")\n",
    "plt.show()"
   ]
  },
  {
   "cell_type": "markdown",
   "metadata": {},
   "source": [
    "## Train and Evaluate Logistic Regression with TF.IDF vectors\n",
    "\n",
    "Follow the same steps as above (i.e. evaluating count n-gram representations).\n"
   ]
  },
  {
   "cell_type": "markdown",
   "metadata": {},
   "source": [
    "### Now repeat the training and evaluation process for BOW-tfidf, BOCN-count, BOCN-tfidf, BOW+BOCN including hyperparameter tuning for each model..."
   ]
  },
  {
   "cell_type": "code",
   "execution_count": 32,
   "metadata": {},
   "outputs": [
    {
     "name": "stdout",
     "output_type": "stream",
     "text": [
      "The best parameters for Binary Cross Entropy loss 0.358 computed over development data is, lr=0.00316, rp=0.0001\n"
     ]
    }
   ],
   "source": [
    "lr_options=np.logspace(start=-2.5,stop=-1.5,num=4)\n",
    "l2_reg_strenght=np.logspace(start=-1,stop=-4,num=4)\n",
    "scores_matrix2= np.empty(shape=(len(lr_options)*len(l2_reg_strenght), 4)) \n",
    "index=0\n",
    "for i in lr_options:\n",
    "    for j in l2_reg_strenght:\n",
    "        w,tl,dl=SGD(train_BOW_tfidf,train_labels,dev_BOW_tfidf,dev_labels, lr=i, alpha=j)\n",
    "        f1_measure= f1_score(dev_labels,predict_class(dev_BOW_tfidf, w))\n",
    "        scores_matrix2[index,:]=dl[-1], f1_measure,i,j\n",
    "        index+=1\n",
    "        \n",
    "best_params=scores_matrix2[np.argmin(scores_matrix2,axis=0)[0]]    # lowest BCE loss score in all scores calculated\n",
    "least_BCEL2 = best_params[0]                                     #lowest BCE loss on development set\n",
    "best_lr2= best_params[2]                                    #best learning rate\n",
    "best_reg2= best_params[3]                                    #best regularization param\n",
    "\n",
    "print('The best parameters for Binary Cross Entropy loss {:.3f} computed over development data is, lr={:.5f}, rp={}'\n",
    "      .format(least_BCEL2,(best_lr2),best_reg2))"
   ]
  },
  {
   "cell_type": "code",
   "execution_count": 33,
   "metadata": {},
   "outputs": [
    {
     "name": "stdout",
     "output_type": "stream",
     "text": [
      "The matrix is-\n"
     ]
    },
    {
     "data": {
      "text/html": [
       "<div>\n",
       "<style scoped>\n",
       "    .dataframe tbody tr th:only-of-type {\n",
       "        vertical-align: middle;\n",
       "    }\n",
       "\n",
       "    .dataframe tbody tr th {\n",
       "        vertical-align: top;\n",
       "    }\n",
       "\n",
       "    .dataframe thead th {\n",
       "        text-align: right;\n",
       "    }\n",
       "</style>\n",
       "<table border=\"1\" class=\"dataframe\">\n",
       "  <thead>\n",
       "    <tr style=\"text-align: right;\">\n",
       "      <th></th>\n",
       "      <th>Dev_loss</th>\n",
       "      <th>F1_score</th>\n",
       "      <th>LR</th>\n",
       "      <th>Reg_strenght</th>\n",
       "    </tr>\n",
       "  </thead>\n",
       "  <tbody>\n",
       "    <tr>\n",
       "      <th>0</th>\n",
       "      <td>0.629621</td>\n",
       "      <td>0.817204</td>\n",
       "      <td>0.003162</td>\n",
       "      <td>0.1000</td>\n",
       "    </tr>\n",
       "    <tr>\n",
       "      <th>1</th>\n",
       "      <td>0.442589</td>\n",
       "      <td>0.850242</td>\n",
       "      <td>0.003162</td>\n",
       "      <td>0.0100</td>\n",
       "    </tr>\n",
       "    <tr>\n",
       "      <th>2</th>\n",
       "      <td>0.371770</td>\n",
       "      <td>0.851675</td>\n",
       "      <td>0.003162</td>\n",
       "      <td>0.0010</td>\n",
       "    </tr>\n",
       "    <tr>\n",
       "      <th>3</th>\n",
       "      <td>0.358086</td>\n",
       "      <td>0.855769</td>\n",
       "      <td>0.003162</td>\n",
       "      <td>0.0001</td>\n",
       "    </tr>\n",
       "    <tr>\n",
       "      <th>4</th>\n",
       "      <td>0.770294</td>\n",
       "      <td>0.675159</td>\n",
       "      <td>0.006813</td>\n",
       "      <td>0.1000</td>\n",
       "    </tr>\n",
       "    <tr>\n",
       "      <th>5</th>\n",
       "      <td>0.459021</td>\n",
       "      <td>0.852941</td>\n",
       "      <td>0.006813</td>\n",
       "      <td>0.0100</td>\n",
       "    </tr>\n",
       "    <tr>\n",
       "      <th>6</th>\n",
       "      <td>0.376119</td>\n",
       "      <td>0.865385</td>\n",
       "      <td>0.006813</td>\n",
       "      <td>0.0010</td>\n",
       "    </tr>\n",
       "    <tr>\n",
       "      <th>7</th>\n",
       "      <td>0.362853</td>\n",
       "      <td>0.861244</td>\n",
       "      <td>0.006813</td>\n",
       "      <td>0.0001</td>\n",
       "    </tr>\n",
       "    <tr>\n",
       "      <th>8</th>\n",
       "      <td>1.315418</td>\n",
       "      <td>0.349206</td>\n",
       "      <td>0.014678</td>\n",
       "      <td>0.1000</td>\n",
       "    </tr>\n",
       "    <tr>\n",
       "      <th>9</th>\n",
       "      <td>0.491463</td>\n",
       "      <td>0.830000</td>\n",
       "      <td>0.014678</td>\n",
       "      <td>0.0100</td>\n",
       "    </tr>\n",
       "    <tr>\n",
       "      <th>10</th>\n",
       "      <td>0.424862</td>\n",
       "      <td>0.851675</td>\n",
       "      <td>0.014678</td>\n",
       "      <td>0.0010</td>\n",
       "    </tr>\n",
       "    <tr>\n",
       "      <th>11</th>\n",
       "      <td>0.419815</td>\n",
       "      <td>0.853081</td>\n",
       "      <td>0.014678</td>\n",
       "      <td>0.0001</td>\n",
       "    </tr>\n",
       "    <tr>\n",
       "      <th>12</th>\n",
       "      <td>2.841889</td>\n",
       "      <td>0.145455</td>\n",
       "      <td>0.031623</td>\n",
       "      <td>0.1000</td>\n",
       "    </tr>\n",
       "    <tr>\n",
       "      <th>13</th>\n",
       "      <td>1.348953</td>\n",
       "      <td>0.485714</td>\n",
       "      <td>0.031623</td>\n",
       "      <td>0.0100</td>\n",
       "    </tr>\n",
       "    <tr>\n",
       "      <th>14</th>\n",
       "      <td>0.494993</td>\n",
       "      <td>0.826923</td>\n",
       "      <td>0.031623</td>\n",
       "      <td>0.0010</td>\n",
       "    </tr>\n",
       "    <tr>\n",
       "      <th>15</th>\n",
       "      <td>0.693440</td>\n",
       "      <td>0.817308</td>\n",
       "      <td>0.031623</td>\n",
       "      <td>0.0001</td>\n",
       "    </tr>\n",
       "  </tbody>\n",
       "</table>\n",
       "</div>"
      ],
      "text/plain": [
       "    Dev_loss  F1_score        LR  Reg_strenght\n",
       "0   0.629621  0.817204  0.003162        0.1000\n",
       "1   0.442589  0.850242  0.003162        0.0100\n",
       "2   0.371770  0.851675  0.003162        0.0010\n",
       "3   0.358086  0.855769  0.003162        0.0001\n",
       "4   0.770294  0.675159  0.006813        0.1000\n",
       "5   0.459021  0.852941  0.006813        0.0100\n",
       "6   0.376119  0.865385  0.006813        0.0010\n",
       "7   0.362853  0.861244  0.006813        0.0001\n",
       "8   1.315418  0.349206  0.014678        0.1000\n",
       "9   0.491463  0.830000  0.014678        0.0100\n",
       "10  0.424862  0.851675  0.014678        0.0010\n",
       "11  0.419815  0.853081  0.014678        0.0001\n",
       "12  2.841889  0.145455  0.031623        0.1000\n",
       "13  1.348953  0.485714  0.031623        0.0100\n",
       "14  0.494993  0.826923  0.031623        0.0010\n",
       "15  0.693440  0.817308  0.031623        0.0001"
      ]
     },
     "execution_count": 33,
     "metadata": {},
     "output_type": "execute_result"
    }
   ],
   "source": [
    "print(\"The matrix is-\") \n",
    "pd.DataFrame(scores_matrix2, columns = ['Dev_loss','F1_score', 'LR', 'Reg_strenght'])"
   ]
  },
  {
   "cell_type": "code",
   "execution_count": 34,
   "metadata": {},
   "outputs": [
    {
     "name": "stdout",
     "output_type": "stream",
     "text": [
      "After epoch 1 Training loss is: [0.2743] and development loss is: [0.4605]\n",
      "After epoch 2 Training loss is: [0.1736] and development loss is: [0.3992]\n",
      "After epoch 3 Training loss is: [0.1337] and development loss is: [0.381]\n",
      "After epoch 4 Training loss is: [0.1095] and development loss is: [0.3716]\n",
      "After epoch 5 Training loss is: [0.0929] and development loss is: [0.366]\n",
      "After epoch 6 Training loss is: [0.0809] and development loss is: [0.3626]\n",
      "After epoch 7 Training loss is: [0.0717] and development loss is: [0.3604]\n",
      "After epoch 8 Training loss is: [0.0645] and development loss is: [0.3591]\n",
      "After epoch 9 Training loss is: [0.0586] and development loss is: [0.3584]\n",
      "After epoch 10 Training loss is: [0.0538] and development loss is: [0.3581]\n"
     ]
    },
    {
     "data": {
      "image/png": "[encoded data removed]",
      "text/plain": [
       "<Figure size 432x288 with 1 Axes>"
      ]
     },
     "metadata": {
      "needs_background": "light"
     },
     "output_type": "display_data"
    }
   ],
   "source": [
    "w_tfidf_BOW,train_losses2,dev_losses2=SGD(train_BOW_tfidf,train_labels,dev_BOW_tfidf,dev_labels, \n",
    "                                          lr=best_lr2, alpha= best_reg2, print_progress=True)\n",
    "plot_graph(train_losses2,dev_losses2)"
   ]
  },
  {
   "cell_type": "code",
   "execution_count": 35,
   "metadata": {},
   "outputs": [
    {
     "name": "stdout",
     "output_type": "stream",
     "text": [
      "Accuracy %: 85.5\n",
      "Precision: 0.8413461538461539\n",
      "Recall: 0.875\n",
      "F1-Score: 0.857843137254902\n"
     ]
    }
   ],
   "source": [
    "preds_te_tfidf = predict_class(test_BOW_tfidf, w_tfidf_BOW)\n",
    "\n",
    "print('Accuracy %:', accuracy_score(test_labels,preds_te_tfidf)*100)\n",
    "print('Precision:', precision_score(test_labels,preds_te_tfidf))\n",
    "print('Recall:', recall_score(test_labels,preds_te_tfidf))\n",
    "print('F1-Score:', f1_score(test_labels,preds_te_tfidf))\n",
    "scores[1,:]=compute_scores(test_BOW_tfidf,w_tfidf_BOW)"
   ]
  },
  {
   "cell_type": "code",
   "execution_count": 36,
   "metadata": {},
   "outputs": [
    {
     "name": "stdout",
     "output_type": "stream",
     "text": [
      "Top 10 negative words are-\n",
      "bad\n",
      "worst\n",
      "boring\n",
      "unfortunately\n",
      "supposed\n",
      "awful\n",
      "why\n",
      "waste\n",
      "nothing\n",
      "poor\n",
      "------\n",
      "Top 10 positive words are-\n",
      "great\n",
      "hilarious\n",
      "terrific\n",
      "fun\n",
      "perfectly\n",
      "seen\n",
      "simple\n",
      "overall\n",
      "memorable\n",
      "life\n"
     ]
    }
   ],
   "source": [
    "top_neg = w_tfidf_BOW.argsort() \n",
    "print('Top 10 negative words are-')\n",
    "for i in top_neg[0][:10]:\n",
    "    print(vocabulary[i])\n",
    "print(\"------\")\n",
    "top_pos = (-w_tfidf_BOW).argsort() \n",
    "print('Top 10 positive words are-')\n",
    "for i in top_pos[0][:10]:\n",
    "    print(vocabulary[i])"
   ]
  },
  {
   "cell_type": "markdown",
   "metadata": {},
   "source": [
    "## BOCN count"
   ]
  },
  {
   "cell_type": "code",
   "execution_count": 37,
   "metadata": {},
   "outputs": [
    {
     "name": "stdout",
     "output_type": "stream",
     "text": [
      "The best parameters for Binary Cross Entropy loss 0.459 computed over development data is, lr=2.1544346900318823e-05, rp=0.0001\n"
     ]
    }
   ],
   "source": [
    "lr_options=np.logspace(start=-5,stop=-4,num=4)\n",
    "l2_reg_strenght=np.logspace(start=-1,stop=-4,num=4)\n",
    "scores_matrix3= np.empty(shape=(len(lr_options)*len(l2_reg_strenght), 4)) \n",
    "index=0\n",
    "for i in lr_options:\n",
    "    for j in l2_reg_strenght:\n",
    "        w,tl,dl=SGD(train_BOCN_count,train_labels,dev_BOCN_count,dev_labels, lr=i, alpha=j)\n",
    "        f1_measure= f1_score(dev_labels,predict_class(dev_BOCN_count,weights=w))\n",
    "        scores_matrix3[index,:]=dl[-1], f1_measure,i,j\n",
    "        index+=1\n",
    "        \n",
    "best_params=scores_matrix3[np.argmin(scores_matrix3,axis=0)[0]]    # lowest BCE loss score in all scores calculated\n",
    "least_BCEL3 = best_params[0]                                     #lowest BCE loss on development set\n",
    "best_lr3= best_params[2]                                    #best learning rate\n",
    "best_reg3= best_params[3]                                    #best regularization param\n",
    "\n",
    "print('The best parameters for Binary Cross Entropy loss {:.3f} computed over development data is, lr={}, rp={}'\n",
    "      .format(least_BCEL3,(best_lr3),best_reg3))"
   ]
  },
  {
   "cell_type": "code",
   "execution_count": 38,
   "metadata": {},
   "outputs": [
    {
     "name": "stdout",
     "output_type": "stream",
     "text": [
      "The matrix is-\n"
     ]
    },
    {
     "data": {
      "text/html": [
       "<div>\n",
       "<style scoped>\n",
       "    .dataframe tbody tr th:only-of-type {\n",
       "        vertical-align: middle;\n",
       "    }\n",
       "\n",
       "    .dataframe tbody tr th {\n",
       "        vertical-align: top;\n",
       "    }\n",
       "\n",
       "    .dataframe thead th {\n",
       "        text-align: right;\n",
       "    }\n",
       "</style>\n",
       "<table border=\"1\" class=\"dataframe\">\n",
       "  <thead>\n",
       "    <tr style=\"text-align: right;\">\n",
       "      <th></th>\n",
       "      <th>Dev_loss</th>\n",
       "      <th>F1_score</th>\n",
       "      <th>LR</th>\n",
       "      <th>Reg_strenght</th>\n",
       "    </tr>\n",
       "  </thead>\n",
       "  <tbody>\n",
       "    <tr>\n",
       "      <th>0</th>\n",
       "      <td>0.491936</td>\n",
       "      <td>0.776119</td>\n",
       "      <td>0.000010</td>\n",
       "      <td>0.1000</td>\n",
       "    </tr>\n",
       "    <tr>\n",
       "      <th>1</th>\n",
       "      <td>0.487489</td>\n",
       "      <td>0.776119</td>\n",
       "      <td>0.000010</td>\n",
       "      <td>0.0100</td>\n",
       "    </tr>\n",
       "    <tr>\n",
       "      <th>2</th>\n",
       "      <td>0.487036</td>\n",
       "      <td>0.776119</td>\n",
       "      <td>0.000010</td>\n",
       "      <td>0.0010</td>\n",
       "    </tr>\n",
       "    <tr>\n",
       "      <th>3</th>\n",
       "      <td>0.486991</td>\n",
       "      <td>0.776119</td>\n",
       "      <td>0.000010</td>\n",
       "      <td>0.0001</td>\n",
       "    </tr>\n",
       "    <tr>\n",
       "      <th>4</th>\n",
       "      <td>0.469392</td>\n",
       "      <td>0.771429</td>\n",
       "      <td>0.000022</td>\n",
       "      <td>0.1000</td>\n",
       "    </tr>\n",
       "    <tr>\n",
       "      <th>5</th>\n",
       "      <td>0.459655</td>\n",
       "      <td>0.771429</td>\n",
       "      <td>0.000022</td>\n",
       "      <td>0.0100</td>\n",
       "    </tr>\n",
       "    <tr>\n",
       "      <th>6</th>\n",
       "      <td>0.458637</td>\n",
       "      <td>0.771429</td>\n",
       "      <td>0.000022</td>\n",
       "      <td>0.0010</td>\n",
       "    </tr>\n",
       "    <tr>\n",
       "      <th>7</th>\n",
       "      <td>0.458535</td>\n",
       "      <td>0.771429</td>\n",
       "      <td>0.000022</td>\n",
       "      <td>0.0001</td>\n",
       "    </tr>\n",
       "    <tr>\n",
       "      <th>8</th>\n",
       "      <td>0.491634</td>\n",
       "      <td>0.772093</td>\n",
       "      <td>0.000046</td>\n",
       "      <td>0.1000</td>\n",
       "    </tr>\n",
       "    <tr>\n",
       "      <th>9</th>\n",
       "      <td>0.470386</td>\n",
       "      <td>0.768519</td>\n",
       "      <td>0.000046</td>\n",
       "      <td>0.0100</td>\n",
       "    </tr>\n",
       "    <tr>\n",
       "      <th>10</th>\n",
       "      <td>0.467993</td>\n",
       "      <td>0.768519</td>\n",
       "      <td>0.000046</td>\n",
       "      <td>0.0010</td>\n",
       "    </tr>\n",
       "    <tr>\n",
       "      <th>11</th>\n",
       "      <td>0.467751</td>\n",
       "      <td>0.768519</td>\n",
       "      <td>0.000046</td>\n",
       "      <td>0.0001</td>\n",
       "    </tr>\n",
       "    <tr>\n",
       "      <th>12</th>\n",
       "      <td>0.589043</td>\n",
       "      <td>0.765550</td>\n",
       "      <td>0.000100</td>\n",
       "      <td>0.1000</td>\n",
       "    </tr>\n",
       "    <tr>\n",
       "      <th>13</th>\n",
       "      <td>0.546960</td>\n",
       "      <td>0.774510</td>\n",
       "      <td>0.000100</td>\n",
       "      <td>0.0100</td>\n",
       "    </tr>\n",
       "    <tr>\n",
       "      <th>14</th>\n",
       "      <td>0.542374</td>\n",
       "      <td>0.774510</td>\n",
       "      <td>0.000100</td>\n",
       "      <td>0.0010</td>\n",
       "    </tr>\n",
       "    <tr>\n",
       "      <th>15</th>\n",
       "      <td>0.541959</td>\n",
       "      <td>0.774510</td>\n",
       "      <td>0.000100</td>\n",
       "      <td>0.0001</td>\n",
       "    </tr>\n",
       "  </tbody>\n",
       "</table>\n",
       "</div>"
      ],
      "text/plain": [
       "    Dev_loss  F1_score        LR  Reg_strenght\n",
       "0   0.491936  0.776119  0.000010        0.1000\n",
       "1   0.487489  0.776119  0.000010        0.0100\n",
       "2   0.487036  0.776119  0.000010        0.0010\n",
       "3   0.486991  0.776119  0.000010        0.0001\n",
       "4   0.469392  0.771429  0.000022        0.1000\n",
       "5   0.459655  0.771429  0.000022        0.0100\n",
       "6   0.458637  0.771429  0.000022        0.0010\n",
       "7   0.458535  0.771429  0.000022        0.0001\n",
       "8   0.491634  0.772093  0.000046        0.1000\n",
       "9   0.470386  0.768519  0.000046        0.0100\n",
       "10  0.467993  0.768519  0.000046        0.0010\n",
       "11  0.467751  0.768519  0.000046        0.0001\n",
       "12  0.589043  0.765550  0.000100        0.1000\n",
       "13  0.546960  0.774510  0.000100        0.0100\n",
       "14  0.542374  0.774510  0.000100        0.0010\n",
       "15  0.541959  0.774510  0.000100        0.0001"
      ]
     },
     "execution_count": 38,
     "metadata": {},
     "output_type": "execute_result"
    }
   ],
   "source": [
    "print(\"The matrix is-\") \n",
    "pd.DataFrame(scores_matrix3, columns = ['Dev_loss','F1_score', 'LR', 'Reg_strenght'])"
   ]
  },
  {
   "cell_type": "code",
   "execution_count": 39,
   "metadata": {},
   "outputs": [
    {
     "name": "stdout",
     "output_type": "stream",
     "text": [
      "After epoch 1 Training loss is: [0.5264] and development loss is: [0.5843]\n",
      "After epoch 2 Training loss is: [0.4395] and development loss is: [0.5263]\n",
      "After epoch 3 Training loss is: [0.3932] and development loss is: [0.5037]\n",
      "After epoch 4 Training loss is: [0.3612] and development loss is: [0.4908]\n",
      "After epoch 5 Training loss is: [0.3365] and development loss is: [0.482]\n",
      "After epoch 6 Training loss is: [0.3165] and development loss is: [0.4753]\n",
      "After epoch 7 Training loss is: [0.2996] and development loss is: [0.47]\n",
      "After epoch 8 Training loss is: [0.2851] and development loss is: [0.4655]\n",
      "After epoch 9 Training loss is: [0.2724] and development loss is: [0.4618]\n",
      "After epoch 10 Training loss is: [0.261] and development loss is: [0.4585]\n"
     ]
    },
    {
     "data": {
      "image/png": "[encoded data removed]",
      "text/plain": [
       "<Figure size 432x288 with 1 Axes>"
      ]
     },
     "metadata": {
      "needs_background": "light"
     },
     "output_type": "display_data"
    }
   ],
   "source": [
    "w_count_BOCN,train_losses3,dev_losses3=SGD(train_BOCN_count,train_labels,dev_BOCN_count,dev_labels,\n",
    "                                           lr=best_lr3, alpha= best_reg3, print_progress=True)\n",
    "plot_graph(train_losses3,dev_losses3)"
   ]
  },
  {
   "cell_type": "code",
   "execution_count": 40,
   "metadata": {},
   "outputs": [
    {
     "name": "stdout",
     "output_type": "stream",
     "text": [
      "Accuracy %: 82.0\n",
      "Precision: 0.8018867924528302\n",
      "Recall: 0.85\n",
      "F1-Score: 0.8252427184466019\n"
     ]
    }
   ],
   "source": [
    "preds_count_BOCN = predict_class(test_BOCN_count, w_count_BOCN)\n",
    "\n",
    "print('Accuracy %:', accuracy_score(test_labels,preds_count_BOCN)*100)\n",
    "print('Precision:', precision_score(test_labels,preds_count_BOCN))\n",
    "print('Recall:', recall_score(test_labels,preds_count_BOCN))\n",
    "print('F1-Score:', f1_score(test_labels,preds_count_BOCN))\n",
    "scores[2,:]=compute_scores(test_BOCN_count,w_count_BOCN)"
   ]
  },
  {
   "cell_type": "code",
   "execution_count": 41,
   "metadata": {},
   "outputs": [
    {
     "name": "stdout",
     "output_type": "stream",
     "text": [
      "Top 10 negative words are-\n",
      "ba\n",
      "he\n",
      "bad\n",
      "ad\n",
      " bad\n",
      "ch\n",
      "in\n",
      "un\n",
      " ba\n",
      "bad \n",
      "------------\n",
      "Top 10 positive words are-\n",
      "el\n",
      "al\n",
      "tr\n",
      " pe\n",
      " al\n",
      "fe\n",
      "gr\n",
      " f\n",
      "erf\n",
      "rt\n"
     ]
    }
   ],
   "source": [
    "top_neg = w_count_BOCN.argsort() \n",
    "print('Top 10 negative words are-')\n",
    "for i in top_neg[0][:10]:\n",
    "    print(vocab_char[i])\n",
    "print(\"------------\")\n",
    "top_pos = (-w_count_BOCN).argsort() \n",
    "print('Top 10 positive words are-')\n",
    "for i in top_pos[0][:10]:\n",
    "    print(vocab_char[i])"
   ]
  },
  {
   "cell_type": "markdown",
   "metadata": {},
   "source": [
    "## BOCN tfidf"
   ]
  },
  {
   "cell_type": "code",
   "execution_count": 42,
   "metadata": {},
   "outputs": [
    {
     "name": "stdout",
     "output_type": "stream",
     "text": [
      "The best parameters for Binary Cross Entropy loss 0.371 computed over development data is, lr=0.0006812920690579615, rp=0.0001\n"
     ]
    }
   ],
   "source": [
    "lr_options=np.logspace(start=-2.5,stop=-3.5,num=4)\n",
    "l2_reg_strenght=np.logspace(start=-1,stop=-4,num=4)\n",
    "scores_matrix4= np.empty(shape=(len(lr_options)*len(l2_reg_strenght), 4)) \n",
    "index=0\n",
    "for i in lr_options:\n",
    "    for j in l2_reg_strenght:\n",
    "        w,tl,dl=SGD(train_BOCN_tfidf,train_labels,dev_BOCN_tfidf,dev_labels, lr=i, alpha=j)\n",
    "        f1_measure= f1_score(dev_labels,predict_class(dev_BOCN_tfidf, w))\n",
    "        scores_matrix4[index,:]=dl[-1], f1_measure,i,j\n",
    "        index+=1\n",
    "        \n",
    "best_params=scores_matrix4[np.argmin(scores_matrix4,axis=0)[0]]    # lowest BCE loss score in all scores calculated\n",
    "least_BCEL4 = best_params[0]                                     #lowest BCE loss on development set\n",
    "best_lr4= best_params[2]                                    #best learning rate\n",
    "best_reg4= best_params[3]                                    #best regularization param\n",
    "\n",
    "print('The best parameters for Binary Cross Entropy loss {:.3f} computed over development data is, lr={}, rp={}'\n",
    "      .format(least_BCEL4,(best_lr4),best_reg4))"
   ]
  },
  {
   "cell_type": "code",
   "execution_count": 43,
   "metadata": {},
   "outputs": [
    {
     "name": "stdout",
     "output_type": "stream",
     "text": [
      "The matrix is-\n"
     ]
    },
    {
     "data": {
      "text/html": [
       "<div>\n",
       "<style scoped>\n",
       "    .dataframe tbody tr th:only-of-type {\n",
       "        vertical-align: middle;\n",
       "    }\n",
       "\n",
       "    .dataframe tbody tr th {\n",
       "        vertical-align: top;\n",
       "    }\n",
       "\n",
       "    .dataframe thead th {\n",
       "        text-align: right;\n",
       "    }\n",
       "</style>\n",
       "<table border=\"1\" class=\"dataframe\">\n",
       "  <thead>\n",
       "    <tr style=\"text-align: right;\">\n",
       "      <th></th>\n",
       "      <th>Dev_loss</th>\n",
       "      <th>F1_score</th>\n",
       "      <th>LR</th>\n",
       "      <th>Reg_strenght</th>\n",
       "    </tr>\n",
       "  </thead>\n",
       "  <tbody>\n",
       "    <tr>\n",
       "      <th>0</th>\n",
       "      <td>0.608111</td>\n",
       "      <td>0.779487</td>\n",
       "      <td>0.003162</td>\n",
       "      <td>0.1000</td>\n",
       "    </tr>\n",
       "    <tr>\n",
       "      <th>1</th>\n",
       "      <td>0.455997</td>\n",
       "      <td>0.844221</td>\n",
       "      <td>0.003162</td>\n",
       "      <td>0.0100</td>\n",
       "    </tr>\n",
       "    <tr>\n",
       "      <th>2</th>\n",
       "      <td>0.438712</td>\n",
       "      <td>0.831683</td>\n",
       "      <td>0.003162</td>\n",
       "      <td>0.0010</td>\n",
       "    </tr>\n",
       "    <tr>\n",
       "      <th>3</th>\n",
       "      <td>0.434388</td>\n",
       "      <td>0.831683</td>\n",
       "      <td>0.003162</td>\n",
       "      <td>0.0001</td>\n",
       "    </tr>\n",
       "    <tr>\n",
       "      <th>4</th>\n",
       "      <td>0.527115</td>\n",
       "      <td>0.797927</td>\n",
       "      <td>0.001468</td>\n",
       "      <td>0.1000</td>\n",
       "    </tr>\n",
       "    <tr>\n",
       "      <th>5</th>\n",
       "      <td>0.410394</td>\n",
       "      <td>0.832487</td>\n",
       "      <td>0.001468</td>\n",
       "      <td>0.0100</td>\n",
       "    </tr>\n",
       "    <tr>\n",
       "      <th>6</th>\n",
       "      <td>0.385068</td>\n",
       "      <td>0.832487</td>\n",
       "      <td>0.001468</td>\n",
       "      <td>0.0010</td>\n",
       "    </tr>\n",
       "    <tr>\n",
       "      <th>7</th>\n",
       "      <td>0.382199</td>\n",
       "      <td>0.828283</td>\n",
       "      <td>0.001468</td>\n",
       "      <td>0.0001</td>\n",
       "    </tr>\n",
       "    <tr>\n",
       "      <th>8</th>\n",
       "      <td>0.487637</td>\n",
       "      <td>0.828283</td>\n",
       "      <td>0.000681</td>\n",
       "      <td>0.1000</td>\n",
       "    </tr>\n",
       "    <tr>\n",
       "      <th>9</th>\n",
       "      <td>0.392314</td>\n",
       "      <td>0.833333</td>\n",
       "      <td>0.000681</td>\n",
       "      <td>0.0100</td>\n",
       "    </tr>\n",
       "    <tr>\n",
       "      <th>10</th>\n",
       "      <td>0.373186</td>\n",
       "      <td>0.833333</td>\n",
       "      <td>0.000681</td>\n",
       "      <td>0.0010</td>\n",
       "    </tr>\n",
       "    <tr>\n",
       "      <th>11</th>\n",
       "      <td>0.370628</td>\n",
       "      <td>0.833333</td>\n",
       "      <td>0.000681</td>\n",
       "      <td>0.0001</td>\n",
       "    </tr>\n",
       "    <tr>\n",
       "      <th>12</th>\n",
       "      <td>0.476454</td>\n",
       "      <td>0.839024</td>\n",
       "      <td>0.000316</td>\n",
       "      <td>0.1000</td>\n",
       "    </tr>\n",
       "    <tr>\n",
       "      <th>13</th>\n",
       "      <td>0.392185</td>\n",
       "      <td>0.830918</td>\n",
       "      <td>0.000316</td>\n",
       "      <td>0.0100</td>\n",
       "    </tr>\n",
       "    <tr>\n",
       "      <th>14</th>\n",
       "      <td>0.376022</td>\n",
       "      <td>0.830918</td>\n",
       "      <td>0.000316</td>\n",
       "      <td>0.0010</td>\n",
       "    </tr>\n",
       "    <tr>\n",
       "      <th>15</th>\n",
       "      <td>0.374301</td>\n",
       "      <td>0.830918</td>\n",
       "      <td>0.000316</td>\n",
       "      <td>0.0001</td>\n",
       "    </tr>\n",
       "  </tbody>\n",
       "</table>\n",
       "</div>"
      ],
      "text/plain": [
       "    Dev_loss  F1_score        LR  Reg_strenght\n",
       "0   0.608111  0.779487  0.003162        0.1000\n",
       "1   0.455997  0.844221  0.003162        0.0100\n",
       "2   0.438712  0.831683  0.003162        0.0010\n",
       "3   0.434388  0.831683  0.003162        0.0001\n",
       "4   0.527115  0.797927  0.001468        0.1000\n",
       "5   0.410394  0.832487  0.001468        0.0100\n",
       "6   0.385068  0.832487  0.001468        0.0010\n",
       "7   0.382199  0.828283  0.001468        0.0001\n",
       "8   0.487637  0.828283  0.000681        0.1000\n",
       "9   0.392314  0.833333  0.000681        0.0100\n",
       "10  0.373186  0.833333  0.000681        0.0010\n",
       "11  0.370628  0.833333  0.000681        0.0001\n",
       "12  0.476454  0.839024  0.000316        0.1000\n",
       "13  0.392185  0.830918  0.000316        0.0100\n",
       "14  0.376022  0.830918  0.000316        0.0010\n",
       "15  0.374301  0.830918  0.000316        0.0001"
      ]
     },
     "execution_count": 43,
     "metadata": {},
     "output_type": "execute_result"
    }
   ],
   "source": [
    "print(\"The matrix is-\") \n",
    "pd.DataFrame(scores_matrix4, columns = ['Dev_loss','F1_score', 'LR', 'Reg_strenght'])"
   ]
  },
  {
   "cell_type": "code",
   "execution_count": 44,
   "metadata": {},
   "outputs": [
    {
     "name": "stdout",
     "output_type": "stream",
     "text": [
      "After epoch 1 Training loss is: [0.2989] and development loss is: [0.4543]\n",
      "After epoch 2 Training loss is: [0.2103] and development loss is: [0.4045]\n",
      "After epoch 3 Training loss is: [0.1651] and development loss is: [0.3852]\n",
      "After epoch 4 Training loss is: [0.1366] and development loss is: [0.3762]\n",
      "After epoch 5 Training loss is: [0.1167] and development loss is: [0.3719]\n",
      "After epoch 6 Training loss is: [0.1021] and development loss is: [0.3702]\n",
      "After epoch 7 Training loss is: [0.0908] and development loss is: [0.37]\n",
      "After epoch 8 Training loss is: [0.0818] and development loss is: [0.3706]\n",
      "--------------------------------------------------------------------\n",
      "Loop break as threshold reached after 8 epochs\n"
     ]
    },
    {
     "data": {
      "image/png": "[encoded data removed]",
      "text/plain": [
       "<Figure size 432x288 with 1 Axes>"
      ]
     },
     "metadata": {
      "needs_background": "light"
     },
     "output_type": "display_data"
    }
   ],
   "source": [
    "w_BOCN_tfidf,train_losses4,dev_losses4=SGD(train_BOCN_tfidf,train_labels,dev_BOCN_tfidf,dev_labels, \n",
    "                                           lr=best_lr4, alpha= best_reg4, print_progress=True)\n",
    "plot_graph(train_losses4,dev_losses4)"
   ]
  },
  {
   "cell_type": "code",
   "execution_count": 45,
   "metadata": {},
   "outputs": [
    {
     "name": "stdout",
     "output_type": "stream",
     "text": [
      "Accuracy %: 86.0\n",
      "Precision: 0.839622641509434\n",
      "Recall: 0.89\n",
      "F1-Score: 0.8640776699029127\n"
     ]
    }
   ],
   "source": [
    "preds_BOCN_tfidf = predict_class(test_BOCN_tfidf, w_BOCN_tfidf)\n",
    "\n",
    "print('Accuracy %:', accuracy_score(test_labels,preds_BOCN_tfidf)*100)\n",
    "print('Precision:', precision_score(test_labels,preds_BOCN_tfidf))\n",
    "print('Recall:', recall_score(test_labels,preds_BOCN_tfidf))\n",
    "print('F1-Score:', f1_score(test_labels,preds_BOCN_tfidf))\n",
    "scores[3,:]=compute_scores(test_BOCN_tfidf,w_BOCN_tfidf)"
   ]
  },
  {
   "cell_type": "code",
   "execution_count": 46,
   "metadata": {},
   "outputs": [
    {
     "name": "stdout",
     "output_type": "stream",
     "text": [
      "Top 10 negative words are-\n",
      "bad\n",
      " bad\n",
      "bad \n",
      " bad \n",
      " wors\n",
      "wors\n",
      "4 \n",
      " wast\n",
      "waste\n",
      "uppos\n",
      "------------\n",
      "Top 10 positive words are-\n",
      "grea\n",
      " grea\n",
      "mpi\n",
      "rifi\n",
      "great\n",
      "hilar\n",
      "an's\n",
      "an's \n",
      "ilar\n",
      "hila\n"
     ]
    }
   ],
   "source": [
    "top_neg = w_BOCN_tfidf.argsort() \n",
    "print('Top 10 negative words are-')\n",
    "for i in top_neg[0][:10]:\n",
    "    print(vocab_char[i])\n",
    "print(\"------------\")\n",
    "top_pos = (-w_BOCN_tfidf).argsort() \n",
    "print('Top 10 positive words are-')\n",
    "for i in top_pos[0][:10]:\n",
    "    print(vocab_char[i])"
   ]
  },
  {
   "cell_type": "markdown",
   "metadata": {},
   "source": [
    "## BOW+BOCN tfidf"
   ]
  },
  {
   "cell_type": "code",
   "execution_count": 47,
   "metadata": {},
   "outputs": [
    {
     "name": "stdout",
     "output_type": "stream",
     "text": [
      "(1400, 17093)\n"
     ]
    }
   ],
   "source": [
    "#We use tfidf weighting schemes as they gave the best accuracy in both the instances\n",
    "train_BOW_BOCN=np.hstack((train_BOW_tfidf,train_BOCN_tfidf))\n",
    "dev_BOW_BOCN=np.hstack((dev_BOW_tfidf,dev_BOCN_tfidf))\n",
    "test_BOW_BOCN=np.hstack((test_BOW_tfidf,test_BOCN_tfidf))\n",
    "\n",
    "if bias_control==True: # delete 1 extra column of 1s as both datasets have one each\n",
    "    train_BOW_BOCN=np.delete(train_BOW_BOCN, len(vocabulary)+1, axis=1)\n",
    "    test_BOW_BOCN=np.delete(test_BOW_BOCN, len(vocabulary)+1, axis=1)\n",
    "    dev_BOW_BOCN=np.delete(dev_BOW_BOCN, len(vocabulary)+1, axis=1)\n",
    "print(train_BOW_BOCN.shape)"
   ]
  },
  {
   "cell_type": "code",
   "execution_count": 48,
   "metadata": {},
   "outputs": [
    {
     "name": "stdout",
     "output_type": "stream",
     "text": [
      "The best parameters for Binary Cross Entropy loss 0.352 computed over development data is, lr=0.001, rp=0.0001\n"
     ]
    }
   ],
   "source": [
    "lr_options=np.logspace(start=-4,stop=-1,num=4)\n",
    "l2_reg_strenght=np.logspace(start=-1,stop=-4,num=4)\n",
    "scores_matrix5= np.empty(shape=(len(lr_options)*len(l2_reg_strenght), 4)) \n",
    "index=0\n",
    "for i in lr_options:\n",
    "    for j in l2_reg_strenght:\n",
    "        w,tl,dl=SGD(train_BOW_BOCN,train_labels,dev_BOW_BOCN,dev_labels, lr=i, alpha=j)\n",
    "        f1_measure= f1_score(dev_labels,predict_class(dev_BOW_BOCN, w))\n",
    "        scores_matrix5[index,:]=dl[-1], f1_measure,i,j\n",
    "        index+=1\n",
    "        \n",
    "best_params=scores_matrix5[np.argmin(scores_matrix5,axis=0)[0]]    # lowest BCE loss score in all scores calculated\n",
    "least_BCEL5= best_params[0]                                     #lowest BCE loss on development set\n",
    "best_lr5= best_params[2]                                    #best learning rate\n",
    "best_reg5= best_params[3]                                    #best regularization param\n",
    "\n",
    "print('The best parameters for Binary Cross Entropy loss {:.3f} computed over development data is, lr={}, rp={}'\n",
    "      .format(least_BCEL5,(best_lr5),best_reg5))"
   ]
  },
  {
   "cell_type": "code",
   "execution_count": 49,
   "metadata": {},
   "outputs": [
    {
     "name": "stdout",
     "output_type": "stream",
     "text": [
      "The matrix is-\n"
     ]
    },
    {
     "data": {
      "text/html": [
       "<div>\n",
       "<style scoped>\n",
       "    .dataframe tbody tr th:only-of-type {\n",
       "        vertical-align: middle;\n",
       "    }\n",
       "\n",
       "    .dataframe tbody tr th {\n",
       "        vertical-align: top;\n",
       "    }\n",
       "\n",
       "    .dataframe thead th {\n",
       "        text-align: right;\n",
       "    }\n",
       "</style>\n",
       "<table border=\"1\" class=\"dataframe\">\n",
       "  <thead>\n",
       "    <tr style=\"text-align: right;\">\n",
       "      <th></th>\n",
       "      <th>Dev_loss</th>\n",
       "      <th>F1_score</th>\n",
       "      <th>LR</th>\n",
       "      <th>Reg_strenght</th>\n",
       "    </tr>\n",
       "  </thead>\n",
       "  <tbody>\n",
       "    <tr>\n",
       "      <th>0</th>\n",
       "      <td>0.463375</td>\n",
       "      <td>0.854460</td>\n",
       "      <td>0.0001</td>\n",
       "      <td>0.1000</td>\n",
       "    </tr>\n",
       "    <tr>\n",
       "      <th>1</th>\n",
       "      <td>0.413365</td>\n",
       "      <td>0.854460</td>\n",
       "      <td>0.0001</td>\n",
       "      <td>0.0100</td>\n",
       "    </tr>\n",
       "    <tr>\n",
       "      <th>2</th>\n",
       "      <td>0.407361</td>\n",
       "      <td>0.854460</td>\n",
       "      <td>0.0001</td>\n",
       "      <td>0.0010</td>\n",
       "    </tr>\n",
       "    <tr>\n",
       "      <th>3</th>\n",
       "      <td>0.406749</td>\n",
       "      <td>0.854460</td>\n",
       "      <td>0.0001</td>\n",
       "      <td>0.0001</td>\n",
       "    </tr>\n",
       "    <tr>\n",
       "      <th>4</th>\n",
       "      <td>0.488756</td>\n",
       "      <td>0.836735</td>\n",
       "      <td>0.0010</td>\n",
       "      <td>0.1000</td>\n",
       "    </tr>\n",
       "    <tr>\n",
       "      <th>5</th>\n",
       "      <td>0.376892</td>\n",
       "      <td>0.858537</td>\n",
       "      <td>0.0010</td>\n",
       "      <td>0.0100</td>\n",
       "    </tr>\n",
       "    <tr>\n",
       "      <th>6</th>\n",
       "      <td>0.355130</td>\n",
       "      <td>0.859903</td>\n",
       "      <td>0.0010</td>\n",
       "      <td>0.0010</td>\n",
       "    </tr>\n",
       "    <tr>\n",
       "      <th>7</th>\n",
       "      <td>0.352455</td>\n",
       "      <td>0.859903</td>\n",
       "      <td>0.0010</td>\n",
       "      <td>0.0001</td>\n",
       "    </tr>\n",
       "    <tr>\n",
       "      <th>8</th>\n",
       "      <td>5.547654</td>\n",
       "      <td>0.095238</td>\n",
       "      <td>0.0100</td>\n",
       "      <td>0.1000</td>\n",
       "    </tr>\n",
       "    <tr>\n",
       "      <th>9</th>\n",
       "      <td>0.440989</td>\n",
       "      <td>0.832487</td>\n",
       "      <td>0.0100</td>\n",
       "      <td>0.0100</td>\n",
       "    </tr>\n",
       "    <tr>\n",
       "      <th>10</th>\n",
       "      <td>0.925429</td>\n",
       "      <td>0.828571</td>\n",
       "      <td>0.0100</td>\n",
       "      <td>0.0010</td>\n",
       "    </tr>\n",
       "    <tr>\n",
       "      <th>11</th>\n",
       "      <td>1.015067</td>\n",
       "      <td>0.836538</td>\n",
       "      <td>0.0100</td>\n",
       "      <td>0.0001</td>\n",
       "    </tr>\n",
       "    <tr>\n",
       "      <th>12</th>\n",
       "      <td>29.648359</td>\n",
       "      <td>0.690909</td>\n",
       "      <td>0.1000</td>\n",
       "      <td>0.1000</td>\n",
       "    </tr>\n",
       "    <tr>\n",
       "      <th>13</th>\n",
       "      <td>28.721237</td>\n",
       "      <td>0.076923</td>\n",
       "      <td>0.1000</td>\n",
       "      <td>0.0100</td>\n",
       "    </tr>\n",
       "    <tr>\n",
       "      <th>14</th>\n",
       "      <td>12.055396</td>\n",
       "      <td>0.180180</td>\n",
       "      <td>0.1000</td>\n",
       "      <td>0.0010</td>\n",
       "    </tr>\n",
       "    <tr>\n",
       "      <th>15</th>\n",
       "      <td>4.758973</td>\n",
       "      <td>0.807175</td>\n",
       "      <td>0.1000</td>\n",
       "      <td>0.0001</td>\n",
       "    </tr>\n",
       "  </tbody>\n",
       "</table>\n",
       "</div>"
      ],
      "text/plain": [
       "     Dev_loss  F1_score      LR  Reg_strenght\n",
       "0    0.463375  0.854460  0.0001        0.1000\n",
       "1    0.413365  0.854460  0.0001        0.0100\n",
       "2    0.407361  0.854460  0.0001        0.0010\n",
       "3    0.406749  0.854460  0.0001        0.0001\n",
       "4    0.488756  0.836735  0.0010        0.1000\n",
       "5    0.376892  0.858537  0.0010        0.0100\n",
       "6    0.355130  0.859903  0.0010        0.0010\n",
       "7    0.352455  0.859903  0.0010        0.0001\n",
       "8    5.547654  0.095238  0.0100        0.1000\n",
       "9    0.440989  0.832487  0.0100        0.0100\n",
       "10   0.925429  0.828571  0.0100        0.0010\n",
       "11   1.015067  0.836538  0.0100        0.0001\n",
       "12  29.648359  0.690909  0.1000        0.1000\n",
       "13  28.721237  0.076923  0.1000        0.0100\n",
       "14  12.055396  0.180180  0.1000        0.0010\n",
       "15   4.758973  0.807175  0.1000        0.0001"
      ]
     },
     "execution_count": 49,
     "metadata": {},
     "output_type": "execute_result"
    }
   ],
   "source": [
    "print(\"The matrix is-\") \n",
    "pd.DataFrame(scores_matrix5, columns = ['Dev_loss','F1_score', 'LR', 'Reg_strenght'])"
   ]
  },
  {
   "cell_type": "code",
   "execution_count": 50,
   "metadata": {},
   "outputs": [
    {
     "name": "stdout",
     "output_type": "stream",
     "text": [
      "After epoch 1 Training loss is: [0.2022] and development loss is: [0.4102]\n",
      "After epoch 2 Training loss is: [0.129] and development loss is: [0.3703]\n",
      "After epoch 3 Training loss is: [0.0954] and development loss is: [0.3577]\n",
      "After epoch 4 Training loss is: [0.0761] and development loss is: [0.353]\n",
      "After epoch 5 Training loss is: [0.0634] and development loss is: [0.3519]\n",
      "After epoch 6 Training loss is: [0.0546] and development loss is: [0.3525]\n",
      "--------------------------------------------------------------------\n",
      "Loop break as threshold reached after 6 epochs\n"
     ]
    },
    {
     "data": {
      "image/png": "[encoded data removed]",
      "text/plain": [
       "<Figure size 432x288 with 1 Axes>"
      ]
     },
     "metadata": {
      "needs_background": "light"
     },
     "output_type": "display_data"
    }
   ],
   "source": [
    "w_BOW_BOCN,train_losses5,dev_losses5=SGD(train_BOW_BOCN,train_labels,dev_BOW_BOCN,dev_labels, lr=best_lr5,\n",
    "                                         alpha= best_reg5, print_progress=True)\n",
    "plot_graph(train_losses5,dev_losses5)"
   ]
  },
  {
   "cell_type": "code",
   "execution_count": 51,
   "metadata": {},
   "outputs": [
    {
     "name": "stdout",
     "output_type": "stream",
     "text": [
      "Accuracy %: 87.0\n",
      "Precision: 0.8457943925233645\n",
      "Recall: 0.905\n",
      "F1-Score: 0.8743961352657006\n"
     ]
    }
   ],
   "source": [
    "preds_BOW_BOCN = predict_class(test_BOW_BOCN, w_BOW_BOCN)\n",
    "\n",
    "print('Accuracy %:', accuracy_score(test_labels,preds_BOW_BOCN)*100)\n",
    "print('Precision:', precision_score(test_labels,preds_BOW_BOCN))\n",
    "print('Recall:', recall_score(test_labels,preds_BOW_BOCN))\n",
    "print('F1-Score:', f1_score(test_labels,preds_BOW_BOCN))\n",
    "scores[4,:]=compute_scores(test_BOW_BOCN,w_BOW_BOCN)"
   ]
  },
  {
   "cell_type": "code",
   "execution_count": 52,
   "metadata": {},
   "outputs": [
    {
     "name": "stdout",
     "output_type": "stream",
     "text": [
      "Top 10 negative words are-\n",
      "bad\n",
      " bad\n",
      "bad\n",
      "bad \n",
      " bad \n",
      " wors\n",
      "wors\n",
      " wast\n",
      "4\n",
      "waste\n",
      "------------\n",
      "Top 10 positive words are-\n",
      "jackie\n",
      "an's \n",
      "an's\n",
      "grea\n",
      " grea\n",
      "rifi\n",
      "inger\n",
      "hilarious\n",
      " memo\n",
      "8\n"
     ]
    }
   ],
   "source": [
    "top_neg = w_BOW_BOCN.argsort() \n",
    "print('Top 10 negative words are-')\n",
    "for i in top_neg[0][:10]:\n",
    "    print(id_word_dict[i])\n",
    "print(\"------------\")\n",
    "top_pos = (-w_BOW_BOCN).argsort() \n",
    "print('Top 10 positive words are-')\n",
    "for i in top_pos[0][:10]:\n",
    "    print(id_word_dict[i])"
   ]
  },
  {
   "cell_type": "markdown",
   "metadata": {
    "tags": []
   },
   "source": [
    "\n",
    "\n",
    "## Full Results\n",
    "\n"
   ]
  },
  {
   "cell_type": "code",
   "execution_count": 53,
   "metadata": {},
   "outputs": [
    {
     "data": {
      "text/html": [
       "<div>\n",
       "<style scoped>\n",
       "    .dataframe tbody tr th:only-of-type {\n",
       "        vertical-align: middle;\n",
       "    }\n",
       "\n",
       "    .dataframe tbody tr th {\n",
       "        vertical-align: top;\n",
       "    }\n",
       "\n",
       "    .dataframe thead th {\n",
       "        text-align: right;\n",
       "    }\n",
       "</style>\n",
       "<table border=\"1\" class=\"dataframe\">\n",
       "  <thead>\n",
       "    <tr style=\"text-align: right;\">\n",
       "      <th></th>\n",
       "      <th>Accuracy %</th>\n",
       "      <th>Precision</th>\n",
       "      <th>Recall</th>\n",
       "      <th>F1-Score</th>\n",
       "    </tr>\n",
       "  </thead>\n",
       "  <tbody>\n",
       "    <tr>\n",
       "      <th>BOW-count</th>\n",
       "      <td>84.25</td>\n",
       "      <td>0.830918</td>\n",
       "      <td>0.860</td>\n",
       "      <td>0.845209</td>\n",
       "    </tr>\n",
       "    <tr>\n",
       "      <th>BOW-tfidf</th>\n",
       "      <td>85.50</td>\n",
       "      <td>0.841346</td>\n",
       "      <td>0.875</td>\n",
       "      <td>0.857843</td>\n",
       "    </tr>\n",
       "    <tr>\n",
       "      <th>BOCN-count</th>\n",
       "      <td>82.00</td>\n",
       "      <td>0.801887</td>\n",
       "      <td>0.850</td>\n",
       "      <td>0.825243</td>\n",
       "    </tr>\n",
       "    <tr>\n",
       "      <th>BOCN-tfidf</th>\n",
       "      <td>86.00</td>\n",
       "      <td>0.839623</td>\n",
       "      <td>0.890</td>\n",
       "      <td>0.864078</td>\n",
       "    </tr>\n",
       "    <tr>\n",
       "      <th>BOW+BOCN-tfidf</th>\n",
       "      <td>87.00</td>\n",
       "      <td>0.845794</td>\n",
       "      <td>0.905</td>\n",
       "      <td>0.874396</td>\n",
       "    </tr>\n",
       "  </tbody>\n",
       "</table>\n",
       "</div>"
      ],
      "text/plain": [
       "                Accuracy %  Precision  Recall  F1-Score\n",
       "BOW-count            84.25   0.830918   0.860  0.845209\n",
       "BOW-tfidf            85.50   0.841346   0.875  0.857843\n",
       "BOCN-count           82.00   0.801887   0.850  0.825243\n",
       "BOCN-tfidf           86.00   0.839623   0.890  0.864078\n",
       "BOW+BOCN-tfidf       87.00   0.845794   0.905  0.874396"
      ]
     },
     "execution_count": 53,
     "metadata": {},
     "output_type": "execute_result"
    }
   ],
   "source": [
    "row_names=[\"BOW-count\",\"BOW-tfidf\",\"BOCN-count\",\"BOCN-tfidf\",\"BOW+BOCN-tfidf\"]\n",
    "column_names=[\"Accuracy %\",\"Precision\",\"Recall\",\"F1-Score\"]\n",
    "Full_results= pd.DataFrame(scores, index=row_names, columns=column_names)\n",
    "Full_results"
   ]
  },
  {
   "cell_type": "markdown",
   "metadata": {},
   "source": [
    "My best performing model is the model which has ngrams from both Bag of Words and Bag of Character Ngrams with tfidf weighting scheme.\n",
    "\n",
    "It is because, we didn't use stemming in the preprocessing steps of this assignment and many terms which had prefixes and suffixes were not represented in the same way as they should have been in Bag of Words models. This meant that counts of words were a bit less than those with stemming. Had these words been included, the BOW_count and BOW_tfidf model would have performed marginally better. But this kind of compromise is not made in BOCN as the words are divided and hence duplicates can be found. But this representation is again bit tedious because of large vocabulary size(many weights to be learnt) and potential misrepresentation of words(Example- \"shit\" is a word which might mean negative in a movie review, but in BOCN representation, \"hit\" will be captured in both positive and negative because 'shit' will contain 'hit' too).\n",
    "\n",
    "So this kind of issue is solved by using combination of both BOW and BOCN, as the frequency will balance the words original representation and hence a higher accuracy and F-1 score."
   ]
  },
  {
   "cell_type": "code",
   "execution_count": 54,
   "metadata": {},
   "outputs": [
    {
     "name": "stdout",
     "output_type": "stream",
     "text": [
      "Runtime of notebook is: 269.0276291370392\n"
     ]
    }
   ],
   "source": [
    "end2=time.time()\n",
    "print(\"Runtime of notebook is:\",end2-start)"
   ]
  },
  {
   "cell_type": "code",
   "execution_count": 55,
   "metadata": {},
   "outputs": [],
   "source": [
    "from sklearn import svm\n"
   ]
  },
  {
   "cell_type": "code",
   "execution_count": 59,
   "metadata": {},
   "outputs": [
    {
     "data": {
      "text/plain": [
       "0.8475"
      ]
     },
     "execution_count": 59,
     "metadata": {},
     "output_type": "execute_result"
    }
   ],
   "source": [
    "clf=svm.SVC(kernel='linear', random_state=42).fit(train_BOW_BOCN,train_labels)\n",
    "p=clf.predict(test_BOW_BOCN)\n",
    "accuracy_score(p,test_labels)"
   ]
  },
  {
   "cell_type": "code",
   "execution_count": null,
   "metadata": {},
   "outputs": [],
   "source": []
  }
 ],
 "metadata": {
  "kernelspec": {
   "display_name": "Python 3 (ipykernel)",
   "language": "python",
   "name": "python3"
  },
  "language_info": {
   "codemirror_mode": {
    "name": "ipython",
    "version": 3
   },
   "file_extension": ".py",
   "mimetype": "text/x-python",
   "name": "python",
   "nbconvert_exporter": "python",
   "pygments_lexer": "ipython3",
   "version": "3.8.12"
  }
 },
 "nbformat": 4,
 "nbformat_minor": 4
}
