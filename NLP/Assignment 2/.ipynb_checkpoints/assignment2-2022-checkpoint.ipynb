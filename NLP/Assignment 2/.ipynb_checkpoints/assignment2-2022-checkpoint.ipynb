{
 "cells": [
  {
   "cell_type": "markdown",
   "metadata": {},
   "source": [
    "# [COM6513] Assignment 2: Topic Classification with a Feedforward Network\n",
    "\n",
    "\n",
    "### Instructor: Nikos Aletras\n",
    "\n",
    "\n",
    "The goal of this assignment is to develop a Feedforward neural network for topic classification. \n",
    "\n",
    "\n",
    "\n",
    "For that purpose, you will implement:\n",
    "\n",
    "- Text processing methods for transforming raw text data into input vectors for your network  (**1 mark**)\n",
    "\n",
    "\n",
    "- A Feedforward network consisting of:\n",
    "    - **One-hot** input layer mapping words into an **Embedding weight matrix** (**1 mark**)\n",
    "    - **One hidden layer** computing the mean embedding vector of all words in input followed by a **ReLU activation function** (**1 mark**)\n",
    "    - **Output layer** with a **softmax** activation. (**1 mark**)\n",
    "\n",
    "\n",
    "- The Stochastic Gradient Descent (SGD) algorithm with **back-propagation** to learn the weights of your Neural network. Your algorithm should:\n",
    "    - Use (and minimise) the **Categorical Cross-entropy loss** function (**1 mark**)\n",
    "    - Perform a **Forward pass** to compute intermediate outputs (**3 marks**)\n",
    "    - Perform a **Backward pass** to compute gradients and update all sets of weights (**6 marks**)\n",
    "    - Implement and use **Dropout** after each hidden layer for regularisation (**2 marks**)\n",
    "\n",
    "\n",
    "\n",
    "- Discuss how did you choose hyperparameters? You can tune the learning rate (hint: choose small values), embedding size {e.g. 50, 300, 500}, the dropout rate {e.g. 0.2, 0.5} and the learning rate. Please use tables or graphs to show training and validation performance for each hyperparameter combination  (**2 marks**). \n",
    "\n",
    "\n",
    "\n",
    "- After training a model, plot the learning process (i.e. training and validation loss in each epoch) using a line plot and report accuracy. Does your model overfit, underfit or is about right? (**1 mark**).\n",
    "\n",
    "\n",
    "\n",
    "- Re-train your network by using pre-trained embeddings ([GloVe](https://nlp.stanford.edu/projects/glove/)) trained on large corpora. Instead of randomly initialising the embedding weights matrix, you should initialise it with the pre-trained weights. During training, you should not update them (i.e. weight freezing) and backprop should stop before computing gradients for updating embedding weights. Report results by performing hyperparameter tuning and plotting the learning process. Do you get better performance? (**3 marks**).\n",
    "\n",
    "\n",
    "\n",
    "- Extend you Feedforward network by adding more hidden layers (e.g. one more or two). How does it affect the performance? Note: You need to repeat hyperparameter tuning, but the number of combinations grows exponentially. Therefore, you need to choose a subset of all possible combinations (**4 marks**)\n",
    "\n",
    "\n",
    "- Provide well documented and commented code describing all of your choices. In general, you are free to make decisions about text processing (e.g. punctuation, numbers, vocabulary size) and hyperparameter values. We expect to see justifications and discussion for all of your choices (**2 marks**). \n",
    "\n",
    "\n",
    "\n",
    "- Provide efficient solutions by using Numpy arrays when possible. Executing the whole notebook with your code should not take more than 10 minutes on any standard computer (e.g. Intel Core i5 CPU, 8 or 16GB RAM) excluding hyperparameter tuning runs and loading the pretrained vectors. You can find tips in Lab 1 (**2 marks**). \n",
    "\n",
    "\n",
    "\n",
    "### Data \n",
    "\n",
    "The data you will use for the task is a subset of the [AG News Corpus](http://groups.di.unipi.it/~gulli/AG_corpus_of_news_articles.html) and you can find it in the `./data_topic` folder in CSV format:\n",
    "\n",
    "- `data_topic/train.csv`: contains 2,400 news articles, 800 for each class to be used for training.\n",
    "- `data_topic/dev.csv`: contains 150 news articles, 50 for each class to be used for hyperparameter selection and monitoring the training process.\n",
    "- `data_topic/test.csv`: contains 900 news articles, 300 for each class to be used for testing.\n",
    "\n",
    "### Pre-trained Embeddings\n",
    "\n",
    "You can download pre-trained GloVe embeddings trained on Common Crawl (840B tokens, 2.2M vocab, cased, 300d vectors, 2.03 GB download) from [here](http://nlp.stanford.edu/data/glove.840B.300d.zip). No need to unzip, the file is large.\n",
    "\n",
    "### Save Memory\n",
    "\n",
    "To save RAM, when you finish each experiment you can delete the weights of your network using `del W` followed by Python's garbage collector `gc.collect()`\n",
    "\n",
    "\n"
   ]
  },
  {
   "cell_type": "markdown",
   "metadata": {},
   "source": [
    "### Submission Instructions\n",
    "\n",
    "You should submit a Jupyter Notebook file (assignment2.ipynb) and an exported PDF version (you can do it from Jupyter: `File->Download as->PDF via Latex`).\n",
    "\n",
    "\n",
    "You are advised to follow the code structure given in this notebook by completing all given funtions. You can also write any auxilliary/helper functions (and arguments for the functions) that you might need but note that you can provide a full solution without any such functions. Similarly, you can just use only the packages imported below but you are free to use any functionality from the [Python Standard Library](https://docs.python.org/3/library/index.html), NumPy, SciPy (excluding built-in softmax funtcions) and Pandas. You are **not allowed to use any third-party library** such as Scikit-learn (apart from metric functions already provided), NLTK, Spacy, Keras, Pytorch etc.. You should mention if you've used Windows to write and test your code because we mostly use Unix based machines for marking (e.g. Ubuntu, MacOS). \n",
    "\n",
    "There is no single correct answer on what your accuracy should be, but correct implementations usually achieve F1-scores around 80\\% or higher. The quality of the analysis of the results is as important as the accuracy itself. \n",
    "\n",
    "This assignment will be marked out of 30. It is worth 30\\% of your final grade in the module.\n",
    "\n",
    "The deadline for this assignment is **23:59 on Mon, 9 May 2022** and it needs to be submitted via Blackboard. Standard departmental penalties for lateness will be applied. We use a range of strategies to **detect [unfair means](https://www.sheffield.ac.uk/ssid/unfair-means/index)**, including Turnitin which helps detect plagiarism. Use of unfair means would result in getting a failing grade.\n",
    "\n"
   ]
  },
  {
   "cell_type": "code",
   "execution_count": 1,
   "metadata": {
    "ExecuteTime": {
     "end_time": "2020-04-02T15:00:18.625532Z",
     "start_time": "2020-04-02T15:00:17.377733Z"
    },
    "scrolled": true
   },
   "outputs": [],
   "source": [
    "import pandas as pd\n",
    "import numpy as np\n",
    "from collections import Counter\n",
    "import re\n",
    "import matplotlib.pyplot as plt\n",
    "from sklearn.metrics import accuracy_score, precision_score, recall_score, f1_score, classification_report\n",
    "import random\n",
    "from time import localtime, strftime\n",
    "from scipy.stats import spearmanr,pearsonr\n",
    "import zipfile\n",
    "import gc\n",
    "import time\n",
    "# fixing random seed for reproducibility\n",
    "random.seed(210116270)\n",
    "np.random.seed(210116270)\n",
    "\n",
    "import warnings\n",
    "\n",
    "#suppress warnings like RunTime error\n",
    "warnings.filterwarnings('ignore')\n",
    "start1=time.time()"
   ]
  },
  {
   "cell_type": "markdown",
   "metadata": {},
   "source": [
    "threshold=1e-04\n",
    "epochs=10"
   ]
  },
  {
   "cell_type": "markdown",
   "metadata": {},
   "source": [
    "## Transform Raw texts into training and development data\n",
    "\n",
    "First, you need to load the training, development and test sets from their corresponding CSV files (tip: you can use Pandas dataframes)."
   ]
  },
  {
   "cell_type": "code",
   "execution_count": 2,
   "metadata": {
    "ExecuteTime": {
     "end_time": "2020-04-02T14:26:39.748484Z",
     "start_time": "2020-04-02T14:26:39.727404Z"
    },
    "scrolled": true
   },
   "outputs": [],
   "source": [
    "train_set = pd.read_csv(\"data_topic/train.csv\", header=None)\n",
    "test_set = pd.read_csv(\"data_topic/test.csv\", header=None)\n",
    "dev_set = pd.read_csv(\"data_topic/dev.csv\", header=None)"
   ]
  },
  {
   "cell_type": "code",
   "execution_count": 3,
   "metadata": {
    "ExecuteTime": {
     "end_time": "2020-04-02T14:26:39.753874Z",
     "start_time": "2020-04-02T14:26:39.749647Z"
    },
    "scrolled": true
   },
   "outputs": [],
   "source": [
    "train_set_list=list(train_set.iloc[:,1])\n",
    "test_set_list=list(test_set.iloc[:,1])\n",
    "dev_set_list=list(dev_set.iloc[:,1])"
   ]
  },
  {
   "cell_type": "markdown",
   "metadata": {},
   "source": [
    "# Create input representations\n",
    "\n",
    "\n",
    "To train your Feedforward network, you first need to obtain input representations given a vocabulary. One-hot encoding requires large memory capacity. Therefore, we will instead represent documents as lists of vocabulary indices (each word corresponds to a vocabulary index). \n",
    "\n",
    "\n",
    "## Text Pre-Processing Pipeline\n",
    "\n",
    "To obtain a vocabulary of words. You should: \n",
    "- tokenise all texts into a list of unigrams (tip: you can re-use the functions from Assignment 1) \n",
    "- remove stop words (using the one provided or one of your preference) \n",
    "- remove unigrams appearing in less than K documents\n",
    "- use the remaining to create a vocabulary of the top-N most frequent unigrams in the entire corpus.\n"
   ]
  },
  {
   "cell_type": "code",
   "execution_count": 4,
   "metadata": {
    "ExecuteTime": {
     "end_time": "2020-04-02T14:26:40.851926Z",
     "start_time": "2020-04-02T14:26:40.847500Z"
    },
    "scrolled": true
   },
   "outputs": [],
   "source": [
    "stop_words = ['a','in','on','at','and','or', \n",
    "              'to', 'the', 'of', 'an', 'by', \n",
    "              'as', 'is', 'was', 'were', 'been', 'be', \n",
    "              'are','for', 'this', 'that', 'these', 'those', 'you', 'i', 'if',\n",
    "             'it', 'he', 'she', 'we', 'they', 'will', 'have', 'has',\n",
    "              'do', 'did', 'can', 'could', 'who', 'which', 'what',\n",
    "              'but', 'not', 'there', 'no', 'does', 'not', 'so', 've', 'their',\n",
    "             'his', 'her', 'they', 'them', 'from', 'with', 'its']\n"
   ]
  },
  {
   "cell_type": "markdown",
   "metadata": {},
   "source": [
    "### Unigram extraction from a document\n",
    "\n",
    "You first need to implement the `extract_ngrams` function. It takes as input:\n",
    "- `x_raw`: a string corresponding to the raw text of a document\n",
    "- `ngram_range`: a tuple of two integers denoting the type of ngrams you want to extract, e.g. (1,2) denotes extracting unigrams and bigrams.\n",
    "- `token_pattern`: a string to be used within a regular expression to extract all tokens. Note that data is already tokenised so you could opt for a simple white space tokenisation.\n",
    "- `stop_words`: a list of stop words\n",
    "- `vocab`: a given vocabulary. It should be used to extract specific features.\n",
    "\n",
    "and returns:\n",
    "\n",
    "- a list of all extracted features.\n"
   ]
  },
  {
   "cell_type": "code",
   "execution_count": 5,
   "metadata": {
    "ExecuteTime": {
     "end_time": "2020-05-11T08:23:17.181553Z",
     "start_time": "2020-05-11T08:23:17.178314Z"
    },
    "scrolled": true
   },
   "outputs": [],
   "source": [
    "def extract_ngrams(x_raw, ngram_range=(1,1), token_pattern=r'\\b[A-Za-z][A-Za-z]+\\b', \n",
    "                   stop_words=[], vocab=set()):\n",
    "    x_raw=x_raw.lower()\n",
    "    x=[]\n",
    "    start= ngram_range[0]\n",
    "    end= ngram_range[1]\n",
    "    split_text=re.findall(token_pattern,x_raw)  # finds all words and number and combination and excludes special signs\n",
    "    unigrams = [word for word in split_text if not word in stop_words]    # remove stopwords\n",
    "        \n",
    "    for n in range(start,end+1):  # calculate n grams\n",
    "        if n==1:\n",
    "            x.append(unigrams)\n",
    "        if n>1:    # depending on choice of n, ngrams are created\n",
    "            ngrams=[]\n",
    "            n_grams= [unigrams[i:i+n] for i in range(len(unigrams)-n+1)]   # picks sequence of words\n",
    "            for i in range(len(n_grams)): \n",
    "                ngrams.append(' '.join(n_grams[i])) # joins into a sentence e.g. ['natural','language'] to ['natural language']\n",
    "            x.append(ngrams)   # add to main list with all ngrams\n",
    "    x = [item for sub_list in x for item in sub_list]    # unlist items and make a single list   \n",
    "    \n",
    "    if len(vocab)>0: # only returns ngrmas which are present in vocab\n",
    "        x= [word for word in x if word in vocab]\n",
    "    return x\n",
    "#(extract_ngrams(train_set_list[0], stop_words=stop_words, token_pattern= r'\\b[A-Za-z][A-Za-z]+\\b', vocab=vocabulary))"
   ]
  },
  {
   "cell_type": "markdown",
   "metadata": {},
   "source": [
    "### Create a vocabulary of n-grams\n",
    "\n",
    "Then the `get_vocab` function will be used to (1) create a vocabulary of ngrams; (2) count the document frequencies of ngrams; (3) their raw frequency. It takes as input:\n",
    "- `X_raw`: a list of strings each corresponding to the raw text of a document\n",
    "- `ngram_range`: a tuple of two integers denoting the type of ngrams you want to extract, e.g. (1,2) denotes extracting unigrams and bigrams.\n",
    "- `token_pattern`: a string to be used within a regular expression to extract all tokens. Note that data is already tokenised so you could opt for a simple white space tokenisation.\n",
    "- `stop_words`: a list of stop words\n",
    "- `min_df`: keep ngrams with a minimum document frequency.\n",
    "- `keep_topN`: keep top-N more frequent ngrams.\n",
    "\n",
    "and returns:\n",
    "\n",
    "- `vocab`: a set of the n-grams that will be used as features.\n",
    "- `df`: a Counter (or dict) that contains ngrams as keys and their corresponding document frequency as values.\n",
    "- `ngram_counts`: counts of each ngram in vocab\n"
   ]
  },
  {
   "cell_type": "code",
   "execution_count": 6,
   "metadata": {
    "ExecuteTime": {
     "end_time": "2020-04-02T14:26:42.563876Z",
     "start_time": "2020-04-02T14:26:42.557967Z"
    },
    "scrolled": true
   },
   "outputs": [],
   "source": [
    "def get_vocab(X_raw, ngram_range=(1,1), token_pattern=r'\\b[A-Za-z][A-Za-z]+\\b',#'[A-Za-z0-9\\']+(?:\\`[A-Za-z]+)?', \n",
    "              min_df=0, keep_topN=0, \n",
    "              stop_words=[]):\n",
    "    df=dict()\n",
    "    ngram_counts=dict()\n",
    "    for i in range(len(X_raw)):\n",
    "        ngrams_list = extract_ngrams(X_raw[i], ngram_range=ngram_range, stop_words=stop_words, token_pattern=token_pattern)\n",
    "        \n",
    "        # seperate all elements by \",\" so that we get individual elements to be Counted\n",
    "        ngram_freq_dict= dict(Counter(word for ngram in ngrams_list for word in ngram.split(\",\")))\n",
    "        \n",
    "        for word in ngram_freq_dict.keys():    # calculate ngram counts\n",
    "            if word not in ngram_counts: ngram_counts[word]=ngram_freq_dict[word]\n",
    "            else: ngram_counts[word]+=ngram_freq_dict[word]\n",
    "            \n",
    "        for word in set(ngrams_list):  # calculate document frequency of words\n",
    "            if word in df: df[word]+=1\n",
    "            else: df[word]=1\n",
    "            \n",
    "    for word in list(df.keys()):  # delete words which dont occur often in corpus\n",
    "        if df[word]<min_df:\n",
    "            del df[word]\n",
    "            \n",
    "    if keep_topN>0 and keep_topN<len(df.keys()): # if keep top N grams is required\n",
    "        sorted_df_dict=dict(sorted(df.items(), key=lambda item: item[1], reverse=True))\n",
    "        words_to_remove= list(sorted_df_dict)[keep_topN:]\n",
    "        for w in words_to_remove: del df[w]\n",
    "\n",
    "    # to remove words not in df but in ngram_counts\n",
    "    extra_words = [word for word in ngram_counts if not word in df.keys()] \n",
    "    for word in extra_words: del ngram_counts[word]\n",
    "    \n",
    "    vocab=sorted(list(ngram_counts.keys())) # we make our vocab sorted in alphabetical order\n",
    "    \n",
    "    return vocab, df, ngram_counts"
   ]
  },
  {
   "cell_type": "markdown",
   "metadata": {},
   "source": [
    "Now you should use `get_vocab` to create your vocabulary and get document and raw frequencies of unigrams:"
   ]
  },
  {
   "cell_type": "code",
   "execution_count": 7,
   "metadata": {
    "ExecuteTime": {
     "end_time": "2020-04-02T14:26:43.577997Z",
     "start_time": "2020-04-02T14:26:43.478950Z"
    },
    "scrolled": true
   },
   "outputs": [
    {
     "name": "stdout",
     "output_type": "stream",
     "text": [
      "8931\n"
     ]
    }
   ],
   "source": [
    "vocabulary, doc_freq, ngram_counts = get_vocab(train_set_list, min_df=1, stop_words=stop_words)\n",
    "print(len(vocabulary))"
   ]
  },
  {
   "cell_type": "markdown",
   "metadata": {},
   "source": [
    "Then, you need to create vocabulary id -> word and word -> vocabulary id dictionaries for reference:"
   ]
  },
  {
   "cell_type": "code",
   "execution_count": 8,
   "metadata": {
    "ExecuteTime": {
     "end_time": "2020-04-02T14:26:44.069661Z",
     "start_time": "2020-04-02T14:26:44.065058Z"
    },
    "scrolled": true
   },
   "outputs": [],
   "source": [
    "id2word=enumerate(vocabulary)\n",
    "id_word_dict=dict(id2word)\n",
    "word2id=dict((word,ID) for ID,word in id_word_dict.items())"
   ]
  },
  {
   "cell_type": "code",
   "execution_count": 9,
   "metadata": {},
   "outputs": [
    {
     "data": {
      "text/plain": [
       "6632"
      ]
     },
     "execution_count": 9,
     "metadata": {},
     "output_type": "execute_result"
    }
   ],
   "source": [
    "word2id['reuters']"
   ]
  },
  {
   "cell_type": "markdown",
   "metadata": {},
   "source": [
    "### Convert the list of unigrams  into a list of vocabulary indices"
   ]
  },
  {
   "cell_type": "markdown",
   "metadata": {},
   "source": [
    "Storing actual one-hot vectors into memory for all words in the entire data set is prohibitive. Instead, we will store word indices in the vocabulary and look-up the weight matrix. This is equivalent of doing a dot product between an one-hot vector and the weight matrix. \n",
    "\n",
    "First, represent documents in train, dev and test sets as lists of words in the vocabulary:"
   ]
  },
  {
   "cell_type": "code",
   "execution_count": 10,
   "metadata": {
    "ExecuteTime": {
     "end_time": "2020-04-02T14:26:45.047887Z",
     "start_time": "2020-04-02T14:26:44.920631Z"
    },
    "scrolled": true
   },
   "outputs": [],
   "source": [
    "train_ngram_doc=[None]*len(train_set_list) # Creating an empty list to store extracted ngrams\n",
    "for i in range(len(train_set_list)): \n",
    "    train_ngram_doc[i]=extract_ngrams(train_set_list[i], stop_words=stop_words, vocab=vocabulary)\n",
    "    \n",
    "test_ngram_doc=[None]*len(test_set_list) \n",
    "for i in range(len(test_set_list)): \n",
    "    test_ngram_doc[i]=extract_ngrams(test_set_list[i], stop_words=stop_words, vocab=vocabulary)\n",
    "\n",
    "dev_ngram_doc=[None]*len(dev_set_list) \n",
    "for i in range(len(dev_set_list)): \n",
    "    dev_ngram_doc[i]=extract_ngrams(dev_set_list[i], stop_words=stop_words, vocab=vocabulary)"
   ]
  },
  {
   "cell_type": "markdown",
   "metadata": {},
   "source": [
    "Then convert them into lists of indices in the vocabulary:"
   ]
  },
  {
   "cell_type": "code",
   "execution_count": 11,
   "metadata": {
    "ExecuteTime": {
     "end_time": "2020-04-02T14:26:45.752658Z",
     "start_time": "2020-04-02T14:26:45.730409Z"
    },
    "scrolled": true
   },
   "outputs": [],
   "source": [
    "def convert_to_indices(ngram_doc):\n",
    "    vocab_index_doc=ngram_doc.copy()\n",
    "    for i in range(len(ngram_doc)):\n",
    "        index_doc=[]\n",
    "        doc=ngram_doc[i]\n",
    "        for w in doc:\n",
    "            index_doc.append(word2id[w])\n",
    "        vocab_index_doc[i]=np.array(index_doc).T\n",
    "    return (vocab_index_doc)"
   ]
  },
  {
   "cell_type": "code",
   "execution_count": 12,
   "metadata": {},
   "outputs": [],
   "source": [
    "train_index_doc= convert_to_indices(train_ngram_doc)\n",
    "test_index_doc= convert_to_indices(test_ngram_doc)\n",
    "dev_index_doc= convert_to_indices(dev_ngram_doc)"
   ]
  },
  {
   "cell_type": "markdown",
   "metadata": {},
   "source": [
    "Put the labels `Y` for train, dev and test sets into arrays: "
   ]
  },
  {
   "cell_type": "code",
   "execution_count": 13,
   "metadata": {
    "ExecuteTime": {
     "end_time": "2020-04-02T15:03:13.183996Z",
     "start_time": "2020-04-02T15:03:13.077575Z"
    },
    "scrolled": true
   },
   "outputs": [],
   "source": [
    "labels_train=np.array(train_set.iloc[:,0])\n",
    "labels_test=np.array(test_set.iloc[:,0])\n",
    "labels_dev=np.array(dev_set.iloc[:,0])\n",
    "\n",
    "def one_hot_encode(labels_list):\n",
    "    Y_new = [None]*len(labels_list)\n",
    "    for i in range(len(labels_list)):\n",
    "        Y_vec=[0,0,0]\n",
    "        y=int(labels_list[i])\n",
    "        Y_vec[y-1]=1\n",
    "        Y_new[i]=(np.asarray(Y_vec).reshape(1,3))\n",
    "    return np.asarray(Y_new)\n",
    "\n",
    "Y_train=one_hot_encode(labels_train)\n",
    "Y_dev=one_hot_encode(labels_dev)\n",
    "Y_test=one_hot_encode(labels_test)"
   ]
  },
  {
   "cell_type": "markdown",
   "metadata": {},
   "source": [
    "# Network Architecture\n",
    "\n",
    "Your network should pass each word index into its corresponding embedding by looking-up on the embedding matrix and then compute the first hidden layer $\\mathbf{h}_1$:\n",
    "\n",
    "$$\\mathbf{h}_1 = \\frac{1}{|x|}\\sum_i W^e_i, i \\in x$$\n",
    "\n",
    "where $|x|$ is the number of words in the document and $W^e$ is an embedding matrix $|V|\\times d$, $|V|$ is the size of the vocabulary and $d$ the embedding size.\n",
    "\n",
    "Then $\\mathbf{h}_1$ should be passed through a ReLU activation function:\n",
    "\n",
    "$$\\mathbf{a}_1 = relu(\\mathbf{h}_1)$$\n",
    "\n",
    "Finally the hidden layer is passed to the output layer:\n",
    "\n",
    "\n",
    "$$\\mathbf{y} = \\text{softmax}(\\mathbf{a}_1W) $$ \n",
    "where $W$ is a matrix $d \\times |{\\cal Y}|$, $|{\\cal Y}|$ is the number of classes.\n",
    "\n",
    "During training, $\\mathbf{a}_1$ should be multiplied with a dropout mask vector (elementwise) for regularisation before it is passed to the output layer.\n",
    "\n",
    "You can extend to a deeper architecture by passing a hidden layer to another one:\n",
    "\n",
    "$$\\mathbf{h_i} = \\mathbf{a}_{i-1}W_i $$\n",
    "\n",
    "$$\\mathbf{a_i} = relu(\\mathbf{h_i}) $$\n",
    "\n"
   ]
  },
  {
   "cell_type": "markdown",
   "metadata": {},
   "source": [
    "# Network Training\n",
    "\n",
    "First we need to define the parameters of our network by initiliasing the weight matrices. For that purpose, you should implement the `network_weights` function that takes as input:\n",
    "\n",
    "- `vocab_size`: the size of the vocabulary\n",
    "- `embedding_dim`: the size of the word embeddings\n",
    "- `hidden_dim`: a list of the sizes of any subsequent hidden layers. Empty if there are no hidden layers between the average embedding and the output layer \n",
    "- `num_classes`: the number of the classes for the output layer\n",
    "\n",
    "and returns:\n",
    "\n",
    "- `W`: a dictionary mapping from layer index (e.g. 0 for the embedding matrix) to the corresponding weight matrix initialised with small random numbers (hint: use numpy.random.uniform with from -0.1 to 0.1)\n",
    "\n",
    "Make sure that the dimensionality of each weight matrix is compatible with the previous and next weight matrix, otherwise you won't be able to perform forward and backward passes. Consider also using np.float32 precision to save memory."
   ]
  },
  {
   "cell_type": "code",
   "execution_count": 14,
   "metadata": {
    "ExecuteTime": {
     "end_time": "2020-04-02T15:41:20.918617Z",
     "start_time": "2020-04-02T15:41:20.915597Z"
    },
    "scrolled": true
   },
   "outputs": [],
   "source": [
    "def network_weights(vocab_size=1000, embedding_dim=300, \n",
    "                    hidden_dim=[], num_classes=3, init_val = 0.4): #0.1\n",
    "    #np.random.seed(210116270)\n",
    "    W={}\n",
    "    W[0] = np.random.uniform(-init_val,init_val,size=(vocab_size,embedding_dim))\n",
    "    N=len(hidden_dim)\n",
    "    for i in range(N):\n",
    "        W[i+1]= np.random.uniform(-init_val,init_val,size=(W[i].shape[1],hidden_dim[i]))\n",
    "    W[N+1]= np.random.uniform(-init_val,init_val,size=(W[N].shape[1],num_classes))\n",
    "    return W\n",
    "    "
   ]
  },
  {
   "cell_type": "code",
   "execution_count": 15,
   "metadata": {
    "ExecuteTime": {
     "end_time": "2020-04-02T14:26:48.636732Z",
     "start_time": "2020-04-02T14:26:48.634122Z"
    },
    "scrolled": true
   },
   "outputs": [
    {
     "name": "stdout",
     "output_type": "stream",
     "text": [
      "(30, 14)\n",
      "(14, 2)\n"
     ]
    }
   ],
   "source": [
    "W = network_weights(vocab_size=30,embedding_dim=14,hidden_dim=[], num_classes=2)\n",
    "for i in range(len(W)):\n",
    "    print(W[i].shape)"
   ]
  },
  {
   "cell_type": "markdown",
   "metadata": {
    "ExecuteTime": {
     "end_time": "2020-04-01T10:31:57.970152Z",
     "start_time": "2020-04-01T10:31:57.966123Z"
    }
   },
   "source": [
    "Then you need to develop a `softmax` function (same as in Assignment 1) to be used in the output layer. \n",
    "\n",
    "It takes as input `z` (array of real numbers) and returns `sig` (the softmax of `z`)\n",
    "\n"
   ]
  },
  {
   "cell_type": "code",
   "execution_count": 16,
   "metadata": {},
   "outputs": [],
   "source": [
    "def softmax(z):\n",
    "    k = np.exp(z - np.max(z))\n",
    "    sig = k / k.sum()\n",
    "    return sig\n",
    "    #k= np.exp(z)\n",
    "    #sig= k/np.sum(k)\n",
    "    #return sig"
   ]
  },
  {
   "cell_type": "markdown",
   "metadata": {},
   "source": [
    "Now you need to implement the categorical cross entropy loss by slightly modifying the function from Assignment 1 to depend only on the true label `y` and the class probabilities vector `y_preds`:\n"
   ]
  },
  {
   "cell_type": "code",
   "execution_count": 17,
   "metadata": {
    "ExecuteTime": {
     "end_time": "2020-04-02T14:26:51.360838Z",
     "start_time": "2020-04-02T14:26:51.356935Z"
    },
    "scrolled": true
   },
   "outputs": [],
   "source": [
    "def categorical_loss(y, y_preds):\n",
    "    y=y.reshape(-1,1)\n",
    "    t=1e-06\n",
    "    #np.clip(y_preds,t,1-t,out=y_preds) # To keep values between 0.000001 and 0.999999\n",
    "    y_preds=y_preds.reshape(-1,1)\n",
    "    l=0\n",
    "    for i in range(len(y)):\n",
    "        l+= - y[i] * np.log(y_preds[i])\n",
    "    return l"
   ]
  },
  {
   "cell_type": "markdown",
   "metadata": {
    "ExecuteTime": {
     "end_time": "2020-03-31T15:02:56.149535Z",
     "start_time": "2020-03-31T15:02:56.145738Z"
    }
   },
   "source": [
    "Then, implement the `relu` function to introduce non-linearity after each hidden layer of your network \n",
    "(during the forward pass): \n",
    "\n",
    "$$relu(z_i)= max(z_i,0)$$\n",
    "\n",
    "and the `relu_derivative` function to compute its derivative (used in the backward pass):\n",
    "\n",
    "  \n",
    "  relu_derivative($z_i$)=0, if $z_i$<=0, 1 otherwise.\n",
    "  \n",
    "\n",
    "\n",
    "Note that both functions take as input a vector $z$ \n",
    "\n",
    "Hint use .copy() to avoid in place changes in array z"
   ]
  },
  {
   "cell_type": "code",
   "execution_count": 18,
   "metadata": {
    "ExecuteTime": {
     "end_time": "2020-04-02T14:26:52.665236Z",
     "start_time": "2020-04-02T14:26:52.661519Z"
    },
    "scrolled": true
   },
   "outputs": [],
   "source": [
    "def relu(z):\n",
    "    a=np.maximum(0,z)\n",
    "    return a\n",
    "\n",
    "def relu_derivative(z):\n",
    "    if type(z)!= list:\n",
    "        z=z.T\n",
    "    dz=[]\n",
    "    for value in z:\n",
    "        dz.append(0) if value<=0 else dz.append(1)\n",
    "    return dz\n"
   ]
  },
  {
   "cell_type": "markdown",
   "metadata": {},
   "source": [
    "During training you should also apply a dropout mask element-wise after the activation function (i.e. vector of ones with a random percentage set to zero). The `dropout_mask` function takes as input:\n",
    "\n",
    "- `size`: the size of the vector that we want to apply dropout\n",
    "- `dropout_rate`: the percentage of elements that will be randomly set to zeros\n",
    "\n",
    "and returns:\n",
    "\n",
    "- `dropout_vec`: a vector with binary values (0 or 1)"
   ]
  },
  {
   "cell_type": "code",
   "execution_count": 19,
   "metadata": {
    "ExecuteTime": {
     "end_time": "2020-04-02T14:26:53.429192Z",
     "start_time": "2020-04-02T14:26:53.425301Z"
    },
    "scrolled": true
   },
   "outputs": [],
   "source": [
    "def dropout_mask(size, dropout_rate):\n",
    "    vec=np.ones(shape=size)\n",
    "    k= int(size * dropout_rate)\n",
    "    vec[:k]=0\n",
    "    p = np.random.permutation(len(vec))\n",
    "    d_vec = vec[p]\n",
    "    dropout_vec = d_vec.reshape(1,-1)\n",
    "    #dropout_vec = [int(item) for sub_list in d_vec for item in sub_list] \n",
    "    return dropout_vec\n",
    "    \n",
    "    "
   ]
  },
  {
   "cell_type": "code",
   "execution_count": 20,
   "metadata": {
    "ExecuteTime": {
     "end_time": "2020-04-02T14:26:53.853632Z",
     "start_time": "2020-04-02T14:26:53.849944Z"
    },
    "scrolled": true
   },
   "outputs": [
    {
     "name": "stdout",
     "output_type": "stream",
     "text": [
      "(1, 10)\n",
      "[[1. 1. 0. 1. 1. 1. 1. 1. 0. 1.]]\n"
     ]
    }
   ],
   "source": [
    "print(dropout_mask(10, 0.3).shape)\n",
    "print(dropout_mask(10, 0.2))"
   ]
  },
  {
   "cell_type": "markdown",
   "metadata": {},
   "source": [
    "Now you need to implement the `forward_pass` function that passes the input x through the network up to the output layer for computing the probability for each class using the weight matrices in `W`. The ReLU activation function should be applied on each hidden layer. \n",
    "\n",
    "- `x`: a list of vocabulary indices each corresponding to a word in the document (input)\n",
    "- `W`: a list of weight matrices connecting each part of the network, e.g. for a network with a hidden and an output layer: W[0] is the weight matrix that connects the input to the first hidden layer, W[1] is the weight matrix that connects the hidden layer to the output layer.\n",
    "- `dropout_rate`: the dropout rate that is used to generate a random dropout mask vector applied after each hidden layer for regularisation.\n",
    "\n",
    "and returns:\n",
    "\n",
    "- `out_vals`: a dictionary of output values from each layer: h (the vector before the activation function), a (the resulting vector after passing h from the activation function), its dropout mask vector; and the prediction vector (probability for each class) from the output layer."
   ]
  },
  {
   "cell_type": "code",
   "execution_count": 21,
   "metadata": {
    "ExecuteTime": {
     "end_time": "2020-04-02T14:26:54.761268Z",
     "start_time": "2020-04-02T14:26:54.753402Z"
    },
    "scrolled": true
   },
   "outputs": [],
   "source": [
    "def forward_pass(x, W, dropout_rate=0.2):\n",
    "    val=0\n",
    "    a_vecs, h_vecs, dropout_vecs=[],[],[]\n",
    "    \n",
    "    for index in x: val+= W[0][index]\n",
    "    if len(x)!=0: h1= (1/len(x))*val\n",
    "    else: h1= np.zeros(shape= (1,W[0].shape[1]))\n",
    "    a1= relu(h1).reshape(1,-1)\n",
    "    d1= dropout_mask(a1.shape[1],dropout_rate)\n",
    "    a1= np.multiply(a1,d1)\n",
    "    dropout_vecs.append(d1)\n",
    "    a_vecs.append(a1)\n",
    "    h_vecs.append(h1)\n",
    "    k= len(W)\n",
    "    for i in range(k-2):\n",
    "        h_i= np.dot(a_vecs[i],W[i+1])\n",
    "        a_i= relu(h_i).reshape(1,-1)\n",
    "        d_i= dropout_mask(a_i.shape[1],dropout_rate)\n",
    "        a_i= np.multiply(a_i,d_i)\n",
    "        \n",
    "        a_vecs.append(a_i)\n",
    "        h_vecs.append(h_i)\n",
    "        dropout_vecs.append(d_i)\n",
    "    #h2=np.dot(a1,W[1])\n",
    "    #a2=relu(h2).reshape(1,-1) #relu(h2).reshape(1,-1)\n",
    "    #d2= dropout_mask(a2.shape[1],dropout_rate)\n",
    "    #a2= np.multiply(a2,d2)\n",
    "    h_l= np.dot(a_vecs[-1],W[k-1])\n",
    "    a_l= softmax(h_l).reshape(1,-1)\n",
    "    h_vecs.append(h_l)\n",
    "    a_vecs.append(a_l)\n",
    "    out_vals = {}\n",
    "    \n",
    "    #h_vecs = [h1,h2,h3]\n",
    "    #a_vecs = [a1,a2,a3]\n",
    "    #dropout_vecs = [d1,d2]\n",
    "    out_vals['h']= h_vecs\n",
    "    out_vals['a']= a_vecs\n",
    "    out_vals['d']= dropout_vecs \n",
    "    out_vals['y']= np.argmax(a_l)+1\n",
    "    \n",
    "    return out_vals\n",
    "    "
   ]
  },
  {
   "cell_type": "markdown",
   "metadata": {},
   "source": [
    "The `backward_pass` function computes the gradients and updates the weights for each matrix in the network from the output to the input. It takes as input \n",
    "\n",
    "- `x`: a list of vocabulary indices each corresponding to a word in the document (input)\n",
    "- `y`: the true label\n",
    "- `W`: a list of weight matrices connecting each part of the network, e.g. for a network with a hidden and an output layer: W[0] is the weight matrix that connects the input to the first hidden layer, W[1] is the weight matrix that connects the hidden layer to the output layer.\n",
    "- `out_vals`: a dictionary of output values from a forward pass.\n",
    "- `learning_rate`: the learning rate for updating the weights.\n",
    "- `freeze_emb`: boolean value indicating whether the embedding weights will be updated.\n",
    "\n",
    "and returns:\n",
    "\n",
    "- `W`: the updated weights of the network.\n",
    "\n",
    "Hint: the gradients on the output layer are similar to the multiclass logistic regression."
   ]
  },
  {
   "cell_type": "code",
   "execution_count": 22,
   "metadata": {
    "ExecuteTime": {
     "end_time": "2020-05-11T08:24:13.732705Z",
     "start_time": "2020-05-11T08:24:13.729741Z"
    },
    "scrolled": true
   },
   "outputs": [],
   "source": [
    "def backward_pass(x, y, W, out_vals, lr=0.001, freeze_emb=False):\n",
    "    h_vecs=out_vals['h']\n",
    "    a_vecs=out_vals['a']\n",
    "    d_vecs=out_vals['d']\n",
    "    k= len(W)\n",
    "    dh_list, dw_list=[],[]\n",
    "    dh_last=a_vecs[k-1]-y \n",
    "    da_last=np.multiply(a_vecs[k-2],d_vecs[k-2])\n",
    "    dw_last=np.dot(da_last.T,dh_last)\n",
    "    dw_list.append(dw_last)\n",
    "    dh_list.append(dh_last)\n",
    "\n",
    "    for i in range(k-2): # first and last layer updated differently, so we remove 2 from k\n",
    "        dh_i=np.multiply( np.dot(dh_list[-1] , W[k-1-i].T), \n",
    "                         relu_derivative(h_vecs[k-2-i]))\n",
    "        da_i=np.multiply(a_vecs[k-3-i],d_vecs[k-3-i])\n",
    "        dw_i=np.multiply(da_i.T , dh_i)\n",
    "        dh_list.append(dh_i)\n",
    "        dw_list.append(dw_i)\n",
    "        \n",
    "    dh1=np.multiply(np.dot(dh_list[-1],W[1].T), relu_derivative(h_vecs[0]))\n",
    "    \n",
    "    #weights update\n",
    "    if freeze_emb==False:\n",
    "        for i in x: \n",
    "            W[0][i]= W[0][i] - lr*dh1\n",
    "            \n",
    "    for i in range(k-1): # k-1 because W[0] is already updated\n",
    "        W[i+1]-=lr*dw_list[-1-i]  # -1-i because we appended the dw's in reverse order. dw for last weights was appended first\n",
    "    \n",
    "    return W\n",
    "\n",
    "\n"
   ]
  },
  {
   "cell_type": "markdown",
   "metadata": {},
   "source": [
    "def backward_pass(x, y, W, out_vals, lr=0.001, freeze_emb=False):\n",
    "    h_vecs=out_vals['h']\n",
    "    a_vecs=out_vals['a']\n",
    "    dh3=a_vecs[2]-y #  a3-y\n",
    "    dw3=np.dot(a_vecs[1].T,dh3)\n",
    "    dh2=np.multiply(np.dot(dh3,W[2].T), relu_derivative(h_vecs[1]))\n",
    "    dw2=np.dot(a_vecs[0].T,dh2)\n",
    "    dh1=np.multiply(np.dot(dh2,W[1].T), relu_derivative(h_vecs[0]))\n",
    "    if freeze_emb==False: al=1\n",
    "    dw1=np.zeros_like(W[0])\n",
    "    for i in x: dw1[i]=dh1\n",
    "    W[0]-= lr*dw1\n",
    "    W[1]-= lr*dw2\n",
    "    W[2]-= lr*dw3\n",
    "    return W_new"
   ]
  },
  {
   "cell_type": "markdown",
   "metadata": {
    "ExecuteTime": {
     "end_time": "2020-02-15T14:08:59.937442Z",
     "start_time": "2020-02-15T14:08:59.932221Z"
    }
   },
   "source": [
    "Finally you need to modify SGD to support back-propagation by using the `forward_pass` and `backward_pass` functions.\n",
    "\n",
    "The `SGD` function takes as input:\n",
    "\n",
    "- `X_tr`: array of training data (vectors)\n",
    "- `Y_tr`: labels of `X_tr`\n",
    "- `W`: the weights of the network (dictionary)\n",
    "- `X_dev`: array of development (i.e. validation) data (vectors)\n",
    "- `Y_dev`: labels of `X_dev`\n",
    "- `lr`: learning rate\n",
    "- `dropout`: regularisation strength\n",
    "- `epochs`: number of full passes over the training data\n",
    "- `tolerance`: stop training if the difference between the current and previous validation loss is smaller than a threshold\n",
    "- `freeze_emb`: boolean value indicating whether the embedding weights will be updated (to be used by the backward pass function).\n",
    "- `print_progress`: flag for printing the training progress (train/validation loss)\n",
    "\n",
    "\n",
    "and returns:\n",
    "\n",
    "- `weights`: the weights learned\n",
    "- `training_loss_history`: an array with the average losses of the whole training set after each epoch\n",
    "- `validation_loss_history`: an array with the average losses of the whole development set after each epoch"
   ]
  },
  {
   "cell_type": "code",
   "execution_count": 23,
   "metadata": {
    "ExecuteTime": {
     "end_time": "2020-04-02T15:09:19.021428Z",
     "start_time": "2020-04-02T15:09:19.017835Z"
    },
    "scrolled": true
   },
   "outputs": [],
   "source": [
    "def SGD(X_tr, Y_tr, W, X_dev=[], Y_dev=[], lr=0.001, \n",
    "        dropout=0.2, epochs=10, tolerance=1e-04, freeze_emb=False, \n",
    "        print_progress=False, plot_fig=False):\n",
    "    training_loss_history=[]\n",
    "    validation_loss_history=[]\n",
    "    f1_scores_train,f1_scores_val=[],[]\n",
    "    for epoch_num in range(epochs):\n",
    "        #random.seed(210116270)              # for reproductivity\n",
    "        combined=list(zip(X_tr,Y_tr)) # To shuffle both datasets in a same way\n",
    "        np.random.shuffle(combined)\n",
    "        X,Y= zip(*combined) # X and Y are new randomised dataset\n",
    "        running_loss=0\n",
    "        t1,t2,t3=0,0,0\n",
    "        for i in range(len(Y)):                 # we update weight for every datapoint\n",
    "            X_row= X[i]                       # select row\n",
    "            t1+=time.time()\n",
    "            vals=forward_pass(X_row, W, dropout)\n",
    "            t2+=time.time()\n",
    "            y_pred=vals['a'][-1]\n",
    "            W=backward_pass(X_row,Y[i],W,vals,lr=lr, freeze_emb=freeze_emb)\n",
    "            t3+=time.time()\n",
    "            running_loss+= (categorical_loss(Y[i],y_pred))\n",
    "        # absolute\n",
    "        dev_loss= np.mean([ (categorical_loss(y,(forward_pass(x, W, dropout_rate=0.0)['a'][-1]))) \n",
    "            for x,y in zip(X_dev,Y_dev)])\n",
    "        training_loss_history.append(running_loss/len(X))\n",
    "        validation_loss_history.append(dev_loss)\n",
    "        \n",
    "        preds_tr = [(forward_pass(x, W, dropout_rate=0.0)['y']) \n",
    "                        for x,y in zip(train_index_doc,labels_train)]\n",
    "        f1_scores_train.append(f1_score(labels_train,preds_tr,average='macro'))\n",
    "        \n",
    "        preds_de = [(forward_pass(x, W, dropout_rate=0.0)['y']) \n",
    "                         for x,y in zip(dev_index_doc,labels_dev)]\n",
    "        f1_scores_val.append(f1_score(labels_dev,preds_de,average='macro'))\n",
    "        if print_progress : \n",
    "            print(\"\"\"Epoch {} | Training loss: {:.3f} | Validation loss: {:.3f} | Train F1 score: {:.2f} | Val F1 score: {:.2f} |\n",
    "            Forward pass time:{:.3f}s | Backwardward pass time:{:.3f}s | Total time for epoch:{:.3f}s\"\"\"\n",
    "                  .format(epoch_num+1 , training_loss_history[epoch_num][0] , validation_loss_history[epoch_num],\n",
    "                         f1_scores_train[-1], f1_scores_val[-1], t2-t1, t3-t2, t3-t1))\n",
    "            \n",
    "        if epoch_num>1 and (abs(validation_loss_history[epoch_num-1]-validation_loss_history[epoch_num])<tolerance):\n",
    "            if print_progress : \n",
    "                print(\"-------------------------------------------------------\")\n",
    "                print(\"Training stop after {} epochs as tolerance reached\".format(epoch_num+1))\n",
    "            break\n",
    "            \n",
    "    if plot_fig:\n",
    "        plot_graphs(training_loss_history,validation_loss_history,f1_scores_train,f1_scores_val)\n",
    "        \n",
    "    return W, training_loss_history, validation_loss_history\n",
    "\n",
    "def plot_graphs(train_losses,val_losses,train_f1,val_f1):\n",
    "    fig1 = plt.figure()                # Make a figure\n",
    "    ax1 = fig1.add_subplot()           # Add the new axis\n",
    "    epochs_range=list(range(1,len(train_losses)+1,1))\n",
    "    ax1.plot(epochs_range,train_f1,'--y+', label='F1 train scores')\n",
    "    ax1.plot(epochs_range,val_f1,'--g*', label='F1 val scores')\n",
    "    ax1.legend(bbox_to_anchor=(1.4, 1.05)) # move legend\n",
    "    plt.xlabel(\"Epochs\")\n",
    "    plt.ylabel(\"F1 score\")\n",
    "    ax2 = ax1.twinx()                  # new Y axis\n",
    "    ax2.plot(epochs_range,train_losses,'r', label='training Loss')\n",
    "    ax2.plot(epochs_range,val_losses,'b-', label='validation Loss')\n",
    "    plt.ylabel(\"Categorical Loss\")\n",
    "    plt.legend(bbox_to_anchor=(1.4, 0.15))\n",
    "    plt.title(\"Loss and F1 score after each epoch\")\n",
    "    plt.show()"
   ]
  },
  {
   "cell_type": "markdown",
   "metadata": {
    "ExecuteTime": {
     "end_time": "2020-02-15T14:10:15.772383Z",
     "start_time": "2020-02-15T14:10:15.767855Z"
    }
   },
   "source": [
    "Now you are ready to train and evaluate your neural net. First, you need to define your network using the `network_weights` function followed by SGD with backprop:"
   ]
  },
  {
   "cell_type": "code",
   "execution_count": 24,
   "metadata": {},
   "outputs": [
    {
     "name": "stdout",
     "output_type": "stream",
     "text": [
      "The best parameters for Dev Loss 0.914 computed over validation data is, lr=0.0100, dropout=0.2\n"
     ]
    },
    {
     "data": {
      "text/html": [
       "<div>\n",
       "<style scoped>\n",
       "    .dataframe tbody tr th:only-of-type {\n",
       "        vertical-align: middle;\n",
       "    }\n",
       "\n",
       "    .dataframe tbody tr th {\n",
       "        vertical-align: top;\n",
       "    }\n",
       "\n",
       "    .dataframe thead th {\n",
       "        text-align: right;\n",
       "    }\n",
       "</style>\n",
       "<table border=\"1\" class=\"dataframe\">\n",
       "  <thead>\n",
       "    <tr style=\"text-align: right;\">\n",
       "      <th></th>\n",
       "      <th>Dev Loss</th>\n",
       "      <th>F1 score</th>\n",
       "      <th>Learning Rate</th>\n",
       "      <th>Dropout Rate</th>\n",
       "      <th>Dimension</th>\n",
       "    </tr>\n",
       "  </thead>\n",
       "  <tbody>\n",
       "    <tr>\n",
       "      <th>0</th>\n",
       "      <td>0.662603</td>\n",
       "      <td>1.025611</td>\n",
       "      <td>0.001000</td>\n",
       "      <td>0.2</td>\n",
       "      <td>50.0</td>\n",
       "    </tr>\n",
       "    <tr>\n",
       "      <th>1</th>\n",
       "      <td>0.793682</td>\n",
       "      <td>0.812045</td>\n",
       "      <td>0.001000</td>\n",
       "      <td>0.2</td>\n",
       "      <td>300.0</td>\n",
       "    </tr>\n",
       "    <tr>\n",
       "      <th>2</th>\n",
       "      <td>0.867345</td>\n",
       "      <td>0.709388</td>\n",
       "      <td>0.001000</td>\n",
       "      <td>0.2</td>\n",
       "      <td>500.0</td>\n",
       "    </tr>\n",
       "    <tr>\n",
       "      <th>3</th>\n",
       "      <td>0.506839</td>\n",
       "      <td>1.044507</td>\n",
       "      <td>0.001000</td>\n",
       "      <td>0.3</td>\n",
       "      <td>50.0</td>\n",
       "    </tr>\n",
       "    <tr>\n",
       "      <th>4</th>\n",
       "      <td>0.779628</td>\n",
       "      <td>0.831998</td>\n",
       "      <td>0.001000</td>\n",
       "      <td>0.3</td>\n",
       "      <td>300.0</td>\n",
       "    </tr>\n",
       "    <tr>\n",
       "      <th>5</th>\n",
       "      <td>0.782255</td>\n",
       "      <td>0.730422</td>\n",
       "      <td>0.001000</td>\n",
       "      <td>0.3</td>\n",
       "      <td>500.0</td>\n",
       "    </tr>\n",
       "    <tr>\n",
       "      <th>6</th>\n",
       "      <td>0.624076</td>\n",
       "      <td>1.035149</td>\n",
       "      <td>0.001000</td>\n",
       "      <td>0.4</td>\n",
       "      <td>50.0</td>\n",
       "    </tr>\n",
       "    <tr>\n",
       "      <th>7</th>\n",
       "      <td>0.794579</td>\n",
       "      <td>0.823502</td>\n",
       "      <td>0.001000</td>\n",
       "      <td>0.4</td>\n",
       "      <td>300.0</td>\n",
       "    </tr>\n",
       "    <tr>\n",
       "      <th>8</th>\n",
       "      <td>0.827251</td>\n",
       "      <td>0.739650</td>\n",
       "      <td>0.001000</td>\n",
       "      <td>0.4</td>\n",
       "      <td>500.0</td>\n",
       "    </tr>\n",
       "    <tr>\n",
       "      <th>9</th>\n",
       "      <td>0.618511</td>\n",
       "      <td>1.046355</td>\n",
       "      <td>0.001000</td>\n",
       "      <td>0.5</td>\n",
       "      <td>50.0</td>\n",
       "    </tr>\n",
       "    <tr>\n",
       "      <th>10</th>\n",
       "      <td>0.772564</td>\n",
       "      <td>0.812183</td>\n",
       "      <td>0.001000</td>\n",
       "      <td>0.5</td>\n",
       "      <td>300.0</td>\n",
       "    </tr>\n",
       "    <tr>\n",
       "      <th>11</th>\n",
       "      <td>0.812869</td>\n",
       "      <td>0.728244</td>\n",
       "      <td>0.001000</td>\n",
       "      <td>0.5</td>\n",
       "      <td>500.0</td>\n",
       "    </tr>\n",
       "    <tr>\n",
       "      <th>12</th>\n",
       "      <td>0.886685</td>\n",
       "      <td>0.604338</td>\n",
       "      <td>0.003162</td>\n",
       "      <td>0.2</td>\n",
       "      <td>50.0</td>\n",
       "    </tr>\n",
       "    <tr>\n",
       "      <th>13</th>\n",
       "      <td>0.900521</td>\n",
       "      <td>0.440878</td>\n",
       "      <td>0.003162</td>\n",
       "      <td>0.2</td>\n",
       "      <td>300.0</td>\n",
       "    </tr>\n",
       "    <tr>\n",
       "      <th>14</th>\n",
       "      <td>0.894538</td>\n",
       "      <td>0.407465</td>\n",
       "      <td>0.003162</td>\n",
       "      <td>0.2</td>\n",
       "      <td>500.0</td>\n",
       "    </tr>\n",
       "    <tr>\n",
       "      <th>15</th>\n",
       "      <td>0.866393</td>\n",
       "      <td>0.640412</td>\n",
       "      <td>0.003162</td>\n",
       "      <td>0.3</td>\n",
       "      <td>50.0</td>\n",
       "    </tr>\n",
       "    <tr>\n",
       "      <th>16</th>\n",
       "      <td>0.887140</td>\n",
       "      <td>0.419038</td>\n",
       "      <td>0.003162</td>\n",
       "      <td>0.3</td>\n",
       "      <td>300.0</td>\n",
       "    </tr>\n",
       "    <tr>\n",
       "      <th>17</th>\n",
       "      <td>0.887464</td>\n",
       "      <td>0.390883</td>\n",
       "      <td>0.003162</td>\n",
       "      <td>0.3</td>\n",
       "      <td>500.0</td>\n",
       "    </tr>\n",
       "    <tr>\n",
       "      <th>18</th>\n",
       "      <td>0.846900</td>\n",
       "      <td>0.619280</td>\n",
       "      <td>0.003162</td>\n",
       "      <td>0.4</td>\n",
       "      <td>50.0</td>\n",
       "    </tr>\n",
       "    <tr>\n",
       "      <th>19</th>\n",
       "      <td>0.894637</td>\n",
       "      <td>0.425375</td>\n",
       "      <td>0.003162</td>\n",
       "      <td>0.4</td>\n",
       "      <td>300.0</td>\n",
       "    </tr>\n",
       "    <tr>\n",
       "      <th>20</th>\n",
       "      <td>0.874430</td>\n",
       "      <td>0.373640</td>\n",
       "      <td>0.003162</td>\n",
       "      <td>0.4</td>\n",
       "      <td>500.0</td>\n",
       "    </tr>\n",
       "    <tr>\n",
       "      <th>21</th>\n",
       "      <td>0.852906</td>\n",
       "      <td>0.630196</td>\n",
       "      <td>0.003162</td>\n",
       "      <td>0.5</td>\n",
       "      <td>50.0</td>\n",
       "    </tr>\n",
       "    <tr>\n",
       "      <th>22</th>\n",
       "      <td>0.907042</td>\n",
       "      <td>0.383039</td>\n",
       "      <td>0.003162</td>\n",
       "      <td>0.5</td>\n",
       "      <td>300.0</td>\n",
       "    </tr>\n",
       "    <tr>\n",
       "      <th>23</th>\n",
       "      <td>0.887966</td>\n",
       "      <td>0.385507</td>\n",
       "      <td>0.003162</td>\n",
       "      <td>0.5</td>\n",
       "      <td>500.0</td>\n",
       "    </tr>\n",
       "    <tr>\n",
       "      <th>24</th>\n",
       "      <td>0.914080</td>\n",
       "      <td>0.267891</td>\n",
       "      <td>0.010000</td>\n",
       "      <td>0.2</td>\n",
       "      <td>50.0</td>\n",
       "    </tr>\n",
       "    <tr>\n",
       "      <th>25</th>\n",
       "      <td>0.907594</td>\n",
       "      <td>0.276771</td>\n",
       "      <td>0.010000</td>\n",
       "      <td>0.2</td>\n",
       "      <td>300.0</td>\n",
       "    </tr>\n",
       "    <tr>\n",
       "      <th>26</th>\n",
       "      <td>0.914197</td>\n",
       "      <td>0.280248</td>\n",
       "      <td>0.010000</td>\n",
       "      <td>0.2</td>\n",
       "      <td>500.0</td>\n",
       "    </tr>\n",
       "    <tr>\n",
       "      <th>27</th>\n",
       "      <td>0.907509</td>\n",
       "      <td>0.268696</td>\n",
       "      <td>0.010000</td>\n",
       "      <td>0.3</td>\n",
       "      <td>50.0</td>\n",
       "    </tr>\n",
       "    <tr>\n",
       "      <th>28</th>\n",
       "      <td>0.901510</td>\n",
       "      <td>0.269004</td>\n",
       "      <td>0.010000</td>\n",
       "      <td>0.3</td>\n",
       "      <td>300.0</td>\n",
       "    </tr>\n",
       "    <tr>\n",
       "      <th>29</th>\n",
       "      <td>0.900844</td>\n",
       "      <td>0.263929</td>\n",
       "      <td>0.010000</td>\n",
       "      <td>0.3</td>\n",
       "      <td>500.0</td>\n",
       "    </tr>\n",
       "    <tr>\n",
       "      <th>30</th>\n",
       "      <td>0.901367</td>\n",
       "      <td>0.265216</td>\n",
       "      <td>0.010000</td>\n",
       "      <td>0.4</td>\n",
       "      <td>50.0</td>\n",
       "    </tr>\n",
       "    <tr>\n",
       "      <th>31</th>\n",
       "      <td>0.907509</td>\n",
       "      <td>0.258359</td>\n",
       "      <td>0.010000</td>\n",
       "      <td>0.4</td>\n",
       "      <td>300.0</td>\n",
       "    </tr>\n",
       "    <tr>\n",
       "      <th>32</th>\n",
       "      <td>0.907865</td>\n",
       "      <td>0.268210</td>\n",
       "      <td>0.010000</td>\n",
       "      <td>0.4</td>\n",
       "      <td>500.0</td>\n",
       "    </tr>\n",
       "    <tr>\n",
       "      <th>33</th>\n",
       "      <td>0.894511</td>\n",
       "      <td>0.268891</td>\n",
       "      <td>0.010000</td>\n",
       "      <td>0.5</td>\n",
       "      <td>50.0</td>\n",
       "    </tr>\n",
       "    <tr>\n",
       "      <th>34</th>\n",
       "      <td>0.907643</td>\n",
       "      <td>0.259263</td>\n",
       "      <td>0.010000</td>\n",
       "      <td>0.5</td>\n",
       "      <td>300.0</td>\n",
       "    </tr>\n",
       "    <tr>\n",
       "      <th>35</th>\n",
       "      <td>0.894839</td>\n",
       "      <td>0.269919</td>\n",
       "      <td>0.010000</td>\n",
       "      <td>0.5</td>\n",
       "      <td>500.0</td>\n",
       "    </tr>\n",
       "  </tbody>\n",
       "</table>\n",
       "</div>"
      ],
      "text/plain": [
       "    Dev Loss  F1 score  Learning Rate  Dropout Rate  Dimension\n",
       "0   0.662603  1.025611       0.001000           0.2       50.0\n",
       "1   0.793682  0.812045       0.001000           0.2      300.0\n",
       "2   0.867345  0.709388       0.001000           0.2      500.0\n",
       "3   0.506839  1.044507       0.001000           0.3       50.0\n",
       "4   0.779628  0.831998       0.001000           0.3      300.0\n",
       "5   0.782255  0.730422       0.001000           0.3      500.0\n",
       "6   0.624076  1.035149       0.001000           0.4       50.0\n",
       "7   0.794579  0.823502       0.001000           0.4      300.0\n",
       "8   0.827251  0.739650       0.001000           0.4      500.0\n",
       "9   0.618511  1.046355       0.001000           0.5       50.0\n",
       "10  0.772564  0.812183       0.001000           0.5      300.0\n",
       "11  0.812869  0.728244       0.001000           0.5      500.0\n",
       "12  0.886685  0.604338       0.003162           0.2       50.0\n",
       "13  0.900521  0.440878       0.003162           0.2      300.0\n",
       "14  0.894538  0.407465       0.003162           0.2      500.0\n",
       "15  0.866393  0.640412       0.003162           0.3       50.0\n",
       "16  0.887140  0.419038       0.003162           0.3      300.0\n",
       "17  0.887464  0.390883       0.003162           0.3      500.0\n",
       "18  0.846900  0.619280       0.003162           0.4       50.0\n",
       "19  0.894637  0.425375       0.003162           0.4      300.0\n",
       "20  0.874430  0.373640       0.003162           0.4      500.0\n",
       "21  0.852906  0.630196       0.003162           0.5       50.0\n",
       "22  0.907042  0.383039       0.003162           0.5      300.0\n",
       "23  0.887966  0.385507       0.003162           0.5      500.0\n",
       "24  0.914080  0.267891       0.010000           0.2       50.0\n",
       "25  0.907594  0.276771       0.010000           0.2      300.0\n",
       "26  0.914197  0.280248       0.010000           0.2      500.0\n",
       "27  0.907509  0.268696       0.010000           0.3       50.0\n",
       "28  0.901510  0.269004       0.010000           0.3      300.0\n",
       "29  0.900844  0.263929       0.010000           0.3      500.0\n",
       "30  0.901367  0.265216       0.010000           0.4       50.0\n",
       "31  0.907509  0.258359       0.010000           0.4      300.0\n",
       "32  0.907865  0.268210       0.010000           0.4      500.0\n",
       "33  0.894511  0.268891       0.010000           0.5       50.0\n",
       "34  0.907643  0.259263       0.010000           0.5      300.0\n",
       "35  0.894839  0.269919       0.010000           0.5      500.0"
      ]
     },
     "execution_count": 24,
     "metadata": {},
     "output_type": "execute_result"
    }
   ],
   "source": [
    "lr_options=np.logspace(start=-3,stop=-2,num=3)\n",
    "dim_opts=[50,300,500]\n",
    "dropout_opts=np.linspace(start=0.2,stop=0.5,num=4)\n",
    "scores_matrix1= np.empty(shape=(len(lr_options)*len(dropout_opts)*len(dim_opts), 5)) # A matrix to store info for each option\n",
    "index=0 # index for above matrix\n",
    "for i in lr_options:\n",
    "    for j in dropout_opts:\n",
    "        for k in dim_opts:\n",
    "            W1_init = network_weights(vocab_size=len(vocabulary),embedding_dim=k,\n",
    "                    hidden_dim=[], num_classes=3)\n",
    "            w, tl, dl = SGD(train_index_doc, Y_train, W1_init,\n",
    "                            X_dev=dev_index_doc, \n",
    "                            Y_dev=Y_dev,\n",
    "                            lr=i, dropout=j,\n",
    "                            freeze_emb=False,\n",
    "                            tolerance=1e-04,\n",
    "                            epochs=10)\n",
    "            preds_de = [(forward_pass(x, w, dropout_rate=0.0)['y']) \n",
    "                for x,y in zip(dev_index_doc,labels_dev)]\n",
    "            f1_measure= f1_score(labels_dev,preds_de,average='macro')\n",
    "            scores_matrix1[index,:]= f1_measure, dl[-1], i, j, k   # f1_measure\n",
    "            index+= 1\n",
    "best_params=scores_matrix1[np.argmax(scores_matrix1,axis=0)[0]]    # highest F1 score in all scores calculated\n",
    "best_F1_score = best_params[0]                                     #highest score on development set\n",
    "best_lr1= best_params[2]                                    #best learning rate\n",
    "best_dropout1= best_params[3]                                    #best dropout rate\n",
    "best_dim1= best_params[4]\n",
    "\n",
    "print('The best parameters for Dev Loss {:.3f} computed over validation data is, lr={:.4f}, dropout={}, embd_dim={}'\n",
    "      .format(best_F1_score,(best_lr1),best_dropout1,best_dim1))\n",
    "pd.DataFrame(scores_matrix1, columns = ['Dev Loss','F1 score', 'Learning Rate', 'Dropout Rate','Dimension'])"
   ]
  },
  {
   "cell_type": "code",
   "execution_count": 25,
   "metadata": {
    "ExecuteTime": {
     "end_time": "2020-04-02T15:09:33.643515Z",
     "start_time": "2020-04-02T15:09:33.640943Z"
    },
    "tags": []
   },
   "outputs": [
    {
     "name": "stdout",
     "output_type": "stream",
     "text": [
      "Shape W0 (8931, 500)\n",
      "Shape W1 (500, 3)\n",
      "Epoch 1 | Training loss: 0.891 | Validation loss: 0.713 | Train F1 score: 0.89 | Val F1 score: 0.83 |\n",
      "            Forward pass time:0.823s | Backwardward pass time:2.312s | Total time for epoch:3.136s\n",
      "Epoch 2 | Training loss: 0.576 | Validation loss: 0.514 | Train F1 score: 0.92 | Val F1 score: 0.89 |\n",
      "            Forward pass time:0.724s | Backwardward pass time:1.925s | Total time for epoch:2.648s\n",
      "Epoch 3 | Training loss: 0.414 | Validation loss: 0.422 | Train F1 score: 0.94 | Val F1 score: 0.86 |\n",
      "            Forward pass time:0.752s | Backwardward pass time:1.895s | Total time for epoch:2.647s\n",
      "Epoch 4 | Training loss: 0.316 | Validation loss: 0.362 | Train F1 score: 0.95 | Val F1 score: 0.89 |\n",
      "            Forward pass time:0.696s | Backwardward pass time:1.886s | Total time for epoch:2.582s\n",
      "Epoch 5 | Training loss: 0.252 | Validation loss: 0.323 | Train F1 score: 0.96 | Val F1 score: 0.90 |\n",
      "            Forward pass time:0.649s | Backwardward pass time:1.854s | Total time for epoch:2.503s\n",
      "Epoch 6 | Training loss: 0.207 | Validation loss: 0.304 | Train F1 score: 0.97 | Val F1 score: 0.90 |\n",
      "            Forward pass time:0.731s | Backwardward pass time:1.909s | Total time for epoch:2.641s\n",
      "Epoch 7 | Training loss: 0.169 | Validation loss: 0.287 | Train F1 score: 0.98 | Val F1 score: 0.91 |\n",
      "            Forward pass time:0.761s | Backwardward pass time:2.141s | Total time for epoch:2.901s\n",
      "Epoch 8 | Training loss: 0.140 | Validation loss: 0.280 | Train F1 score: 0.99 | Val F1 score: 0.91 |\n",
      "            Forward pass time:0.695s | Backwardward pass time:1.750s | Total time for epoch:2.445s\n",
      "Epoch 9 | Training loss: 0.121 | Validation loss: 0.272 | Train F1 score: 0.99 | Val F1 score: 0.91 |\n",
      "            Forward pass time:0.699s | Backwardward pass time:1.907s | Total time for epoch:2.606s\n",
      "Epoch 10 | Training loss: 0.104 | Validation loss: 0.265 | Train F1 score: 0.99 | Val F1 score: 0.92 |\n",
      "            Forward pass time:0.568s | Backwardward pass time:1.703s | Total time for epoch:2.271s\n"
     ]
    },
    {
     "data": {
      "image/png": "[encoded data removed]",
      "text/plain": [
       "<Figure size 432x288 with 2 Axes>"
      ]
     },
     "metadata": {
      "needs_background": "light"
     },
     "output_type": "display_data"
    }
   ],
   "source": [
    "W1_init = network_weights(vocab_size=len(vocabulary),embedding_dim=int(best_dim1),\n",
    "                    hidden_dim=[], num_classes=3)\n",
    "for i in range(len(W1_init)):\n",
    "    print('Shape W'+str(i), W1_init[i].shape)\n",
    "\n",
    "W1, loss_tr1, dev_loss1 = SGD(train_index_doc, Y_train,\n",
    "                            W1_init,\n",
    "                            X_dev=dev_index_doc, \n",
    "                            Y_dev=Y_dev,\n",
    "                            lr=best_lr1, \n",
    "                            dropout=best_dropout1,\n",
    "                            freeze_emb=False,\n",
    "                            tolerance=1e-04,\n",
    "                            print_progress=True,\n",
    "                            epochs=10,\n",
    "                            plot_fig=True)\n"
   ]
  },
  {
   "cell_type": "code",
   "execution_count": 26,
   "metadata": {},
   "outputs": [
    {
     "data": {
      "image/png": "[encoded data removed]",
      "text/plain": [
       "<Figure size 432x288 with 1 Axes>"
      ]
     },
     "metadata": {
      "needs_background": "light"
     },
     "output_type": "display_data"
    }
   ],
   "source": [
    "def plot_graph(train_losses,dev_losses):\n",
    "    epochs_list=list(range(1,len(train_losses)+1,1))\n",
    "    plt.plot(epochs_list, train_losses,'r-', label='training loss')\n",
    "    plt.plot(epochs_list, dev_losses,'b', label='development loss')\n",
    "    plt.xlabel(\"Epochs\")\n",
    "    plt.ylabel(\"Categorical CE Loss\") \n",
    "    plt.title(\"Epoch vs Loss\")\n",
    "    plt.legend()\n",
    "    plt.show()\n",
    "\n",
    "plot_graph(loss_tr1,dev_loss1)"
   ]
  },
  {
   "cell_type": "markdown",
   "metadata": {},
   "source": [
    "Plot the learning process:"
   ]
  },
  {
   "cell_type": "code",
   "execution_count": 27,
   "metadata": {},
   "outputs": [],
   "source": [
    "def compute_scores(X_test,y_test,W):\n",
    "    preds_te = [(forward_pass(x, W, dropout_rate=0.0)['y']) \n",
    "            for x,y in zip(X_test,y_test)]\n",
    "    a=accuracy_score(labels_test,preds_te)*100\n",
    "    p=precision_score(labels_test,preds_te,average='macro')\n",
    "    r=recall_score(labels_test,preds_te,average='macro')\n",
    "    f=f1_score(labels_test,preds_te,average='macro')\n",
    "    return a,p,r,f"
   ]
  },
  {
   "cell_type": "markdown",
   "metadata": {},
   "source": [
    "Compute accuracy, precision, recall and F1-Score:"
   ]
  },
  {
   "cell_type": "code",
   "execution_count": 28,
   "metadata": {
    "ExecuteTime": {
     "end_time": "2020-04-02T15:10:11.037495Z",
     "start_time": "2020-04-02T15:10:11.034999Z"
    },
    "scrolled": true
   },
   "outputs": [
    {
     "name": "stdout",
     "output_type": "stream",
     "text": [
      "Accuracy: 0.8577777777777778\n",
      "Precision: 0.8601386364919422\n",
      "Recall: 0.8577777777777778\n",
      "F1-Score: 0.8576634924030969\n"
     ]
    },
    {
     "data": {
      "text/plain": [
       "Counter({1: 319, 3: 268, 2: 313})"
      ]
     },
     "execution_count": 28,
     "metadata": {},
     "output_type": "execute_result"
    }
   ],
   "source": [
    "preds_te = [(forward_pass(x, W1, dropout_rate=0.0)['y']) \n",
    "            for x,y in zip(test_index_doc,labels_test)]\n",
    "\n",
    "print('Accuracy:', accuracy_score(labels_test,preds_te))\n",
    "print('Precision:', precision_score(labels_test,preds_te,average='macro'))\n",
    "print('Recall:', recall_score(labels_test,preds_te,average='macro'))\n",
    "print('F1-Score:', f1_score(labels_test,preds_te,average='macro'))\n",
    "scores= np.zeros(shape=(3,4))\n",
    "scores[0,:]=compute_scores(test_index_doc,labels_test,W1)\n",
    "Counter(preds_te)"
   ]
  },
  {
   "cell_type": "code",
   "execution_count": 29,
   "metadata": {},
   "outputs": [
    {
     "name": "stdout",
     "output_type": "stream",
     "text": [
      "              precision    recall  f1-score   support\n",
      "\n",
      "           1       0.80      0.85      0.82       300\n",
      "           2       0.88      0.92      0.90       300\n",
      "           3       0.90      0.80      0.85       300\n",
      "\n",
      "    accuracy                           0.86       900\n",
      "   macro avg       0.86      0.86      0.86       900\n",
      "weighted avg       0.86      0.86      0.86       900\n",
      "\n"
     ]
    }
   ],
   "source": [
    "print(classification_report(labels_test, preds_te))"
   ]
  },
  {
   "cell_type": "code",
   "execution_count": 30,
   "metadata": {},
   "outputs": [
    {
     "name": "stdout",
     "output_type": "stream",
     "text": [
      "Accuracy: 0.99\n",
      "Precision: 0.9900907686460863\n",
      "Recall: 0.9899999999999999\n",
      "F1-Score: 0.9899782573073866\n"
     ]
    },
    {
     "data": {
      "text/plain": [
       "Counter({1: 782, 3: 805, 2: 813})"
      ]
     },
     "execution_count": 30,
     "metadata": {},
     "output_type": "execute_result"
    }
   ],
   "source": [
    "preds_tr = [(forward_pass(x, W1, dropout_rate=0.0)['y']) \n",
    "            for x,y in zip(train_index_doc,labels_train)]\n",
    "\n",
    "print('Accuracy:', accuracy_score(labels_train,preds_tr))\n",
    "print('Precision:', precision_score(labels_train,preds_tr,average='macro'))\n",
    "print('Recall:', recall_score(labels_train,preds_tr,average='macro'))\n",
    "print('F1-Score:', f1_score(labels_train,preds_tr,average='macro'))\n",
    "Counter(preds_tr)"
   ]
  },
  {
   "cell_type": "code",
   "execution_count": 31,
   "metadata": {},
   "outputs": [
    {
     "name": "stdout",
     "output_type": "stream",
     "text": [
      "Accuracy: 0.92\n",
      "Precision: 0.9228395061728395\n",
      "Recall: 0.9199999999999999\n",
      "F1-Score: 0.9207221350078493\n"
     ]
    },
    {
     "data": {
      "text/plain": [
       "Counter({1: 54, 3: 48, 2: 48})"
      ]
     },
     "execution_count": 31,
     "metadata": {},
     "output_type": "execute_result"
    }
   ],
   "source": [
    "preds_dev = [(forward_pass(x, W1, dropout_rate=0.0)['y']) \n",
    "            for x,y in zip(dev_index_doc,labels_dev)]\n",
    "\n",
    "print('Accuracy:', accuracy_score(labels_dev,preds_dev))\n",
    "print('Precision:', precision_score(labels_dev,preds_dev,average='macro'))\n",
    "print('Recall:', recall_score(labels_dev,preds_dev,average='macro'))\n",
    "print('F1-Score:', f1_score(labels_dev,preds_dev,average='macro'))\n",
    "Counter(preds_dev)"
   ]
  },
  {
   "cell_type": "markdown",
   "metadata": {},
   "source": [
    "### Discuss how did you choose model hyperparameters ? "
   ]
  },
  {
   "cell_type": "code",
   "execution_count": null,
   "metadata": {},
   "outputs": [],
   "source": []
  },
  {
   "cell_type": "markdown",
   "metadata": {},
   "source": [
    "# Use Pre-trained Embeddings\n",
    "\n",
    "Now re-train the network using GloVe pre-trained embeddings. You need to modify the `backward_pass` function above to stop computing gradients and updating weights of the embedding matrix.\n",
    "\n",
    "Use the function below to obtain the embedding martix for your vocabulary. Generally, that should work without any problem. If you get errors, you can modify it."
   ]
  },
  {
   "cell_type": "markdown",
   "metadata": {
    "ExecuteTime": {
     "end_time": "2020-04-02T14:27:32.020697Z",
     "start_time": "2020-04-02T14:27:32.015733Z"
    }
   },
   "source": [
    "def get_glove_embeddings(f_zip, f_txt, word2id, emb_size=300):\n",
    "    \n",
    "    w_emb = np.zeros((len(word2id), emb_size))\n",
    "    \n",
    "    with zipfile.ZipFile(f_zip) as z:\n",
    "        with z.open(f_txt) as f:\n",
    "            for line in f:\n",
    "                line = line.decode('utf-8')\n",
    "                word = line.split()[0]\n",
    "                     \n",
    "                if word in vocabulary:\n",
    "                    emb = np.array(line.strip('\\n').split()[1:]).astype(np.float32)\n",
    "                    w_emb[word2id[word]] +=emb\n",
    "    return w_emb\n",
    "\n",
    "w_glove = get_glove_embeddings(\"glove.840B.300d.zip\",\"glove.840B.300d.txt\",word2id)"
   ]
  },
  {
   "cell_type": "markdown",
   "metadata": {},
   "source": [
    "import pickle\n",
    "# weights is a Python array\n",
    "pickle.dump( w_glove , open( 'weights.pkl' , 'wb' ) )"
   ]
  },
  {
   "cell_type": "code",
   "execution_count": 32,
   "metadata": {},
   "outputs": [
    {
     "data": {
      "text/plain": [
       "(8931, 300)"
      ]
     },
     "execution_count": 32,
     "metadata": {},
     "output_type": "execute_result"
    }
   ],
   "source": [
    "import pickle\n",
    "w_glove = pickle.load( open( 'weights.pkl' , 'rb' ))\n",
    "w_glove.shape"
   ]
  },
  {
   "cell_type": "markdown",
   "metadata": {},
   "source": [
    "First, initialise the weights of your network using the `network_weights` function. Second, replace the weigths of the embedding matrix with `w_glove`. Finally, train the network by freezing the embedding weights: "
   ]
  },
  {
   "cell_type": "code",
   "execution_count": 33,
   "metadata": {},
   "outputs": [
    {
     "ename": "KeyboardInterrupt",
     "evalue": "",
     "output_type": "error",
     "traceback": [
      "\u001b[1;31m---------------------------------------------------------------------------\u001b[0m",
      "\u001b[1;31mKeyboardInterrupt\u001b[0m                         Traceback (most recent call last)",
      "\u001b[1;32m~\\AppData\\Local\\Temp/ipykernel_21548/3374753825.py\u001b[0m in \u001b[0;36m<module>\u001b[1;34m\u001b[0m\n\u001b[0;32m      9\u001b[0m                     hidden_dim=[], num_classes=3)\n\u001b[0;32m     10\u001b[0m         \u001b[0mW2_init\u001b[0m\u001b[1;33m[\u001b[0m\u001b[1;36m0\u001b[0m\u001b[1;33m]\u001b[0m\u001b[1;33m=\u001b[0m\u001b[0mw_glove\u001b[0m\u001b[1;33m\u001b[0m\u001b[1;33m\u001b[0m\u001b[0m\n\u001b[1;32m---> 11\u001b[1;33m         w, tl, dl = SGD(train_index_doc, Y_train, W2_init,\n\u001b[0m\u001b[0;32m     12\u001b[0m                             \u001b[0mX_dev\u001b[0m\u001b[1;33m=\u001b[0m\u001b[0mdev_index_doc\u001b[0m\u001b[1;33m,\u001b[0m\u001b[1;33m\u001b[0m\u001b[1;33m\u001b[0m\u001b[0m\n\u001b[0;32m     13\u001b[0m                             \u001b[0mY_dev\u001b[0m\u001b[1;33m=\u001b[0m\u001b[0mY_dev\u001b[0m\u001b[1;33m,\u001b[0m\u001b[1;33m\u001b[0m\u001b[1;33m\u001b[0m\u001b[0m\n",
      "\u001b[1;32m~\\AppData\\Local\\Temp/ipykernel_21548/3978129120.py\u001b[0m in \u001b[0;36mSGD\u001b[1;34m(X_tr, Y_tr, W, X_dev, Y_dev, lr, dropout, epochs, tolerance, freeze_emb, print_progress, plot_fig)\u001b[0m\n\u001b[0;32m     18\u001b[0m             \u001b[0mt2\u001b[0m\u001b[1;33m+=\u001b[0m\u001b[0mtime\u001b[0m\u001b[1;33m.\u001b[0m\u001b[0mtime\u001b[0m\u001b[1;33m(\u001b[0m\u001b[1;33m)\u001b[0m\u001b[1;33m\u001b[0m\u001b[1;33m\u001b[0m\u001b[0m\n\u001b[0;32m     19\u001b[0m             \u001b[0my_pred\u001b[0m\u001b[1;33m=\u001b[0m\u001b[0mvals\u001b[0m\u001b[1;33m[\u001b[0m\u001b[1;34m'a'\u001b[0m\u001b[1;33m]\u001b[0m\u001b[1;33m[\u001b[0m\u001b[1;33m-\u001b[0m\u001b[1;36m1\u001b[0m\u001b[1;33m]\u001b[0m\u001b[1;33m\u001b[0m\u001b[1;33m\u001b[0m\u001b[0m\n\u001b[1;32m---> 20\u001b[1;33m             \u001b[0mW\u001b[0m\u001b[1;33m=\u001b[0m\u001b[0mbackward_pass\u001b[0m\u001b[1;33m(\u001b[0m\u001b[0mX_row\u001b[0m\u001b[1;33m,\u001b[0m\u001b[0mY\u001b[0m\u001b[1;33m[\u001b[0m\u001b[0mi\u001b[0m\u001b[1;33m]\u001b[0m\u001b[1;33m,\u001b[0m\u001b[0mW\u001b[0m\u001b[1;33m,\u001b[0m\u001b[0mvals\u001b[0m\u001b[1;33m,\u001b[0m\u001b[0mlr\u001b[0m\u001b[1;33m=\u001b[0m\u001b[0mlr\u001b[0m\u001b[1;33m,\u001b[0m \u001b[0mfreeze_emb\u001b[0m\u001b[1;33m=\u001b[0m\u001b[0mfreeze_emb\u001b[0m\u001b[1;33m)\u001b[0m\u001b[1;33m\u001b[0m\u001b[1;33m\u001b[0m\u001b[0m\n\u001b[0m\u001b[0;32m     21\u001b[0m             \u001b[0mt3\u001b[0m\u001b[1;33m+=\u001b[0m\u001b[0mtime\u001b[0m\u001b[1;33m.\u001b[0m\u001b[0mtime\u001b[0m\u001b[1;33m(\u001b[0m\u001b[1;33m)\u001b[0m\u001b[1;33m\u001b[0m\u001b[1;33m\u001b[0m\u001b[0m\n\u001b[0;32m     22\u001b[0m             \u001b[0mrunning_loss\u001b[0m\u001b[1;33m+=\u001b[0m \u001b[1;33m(\u001b[0m\u001b[0mcategorical_loss\u001b[0m\u001b[1;33m(\u001b[0m\u001b[0mY\u001b[0m\u001b[1;33m[\u001b[0m\u001b[0mi\u001b[0m\u001b[1;33m]\u001b[0m\u001b[1;33m,\u001b[0m\u001b[0my_pred\u001b[0m\u001b[1;33m)\u001b[0m\u001b[1;33m)\u001b[0m\u001b[1;33m\u001b[0m\u001b[1;33m\u001b[0m\u001b[0m\n",
      "\u001b[1;32m~\\AppData\\Local\\Temp/ipykernel_21548/254449825.py\u001b[0m in \u001b[0;36mbackward_pass\u001b[1;34m(x, y, W, out_vals, lr, freeze_emb)\u001b[0m\n\u001b[0;32m      7\u001b[0m     \u001b[0mdh_last\u001b[0m\u001b[1;33m=\u001b[0m\u001b[0ma_vecs\u001b[0m\u001b[1;33m[\u001b[0m\u001b[0mk\u001b[0m\u001b[1;33m-\u001b[0m\u001b[1;36m1\u001b[0m\u001b[1;33m]\u001b[0m\u001b[1;33m-\u001b[0m\u001b[0my\u001b[0m\u001b[1;33m\u001b[0m\u001b[1;33m\u001b[0m\u001b[0m\n\u001b[0;32m      8\u001b[0m     \u001b[0mda_last\u001b[0m\u001b[1;33m=\u001b[0m\u001b[0mnp\u001b[0m\u001b[1;33m.\u001b[0m\u001b[0mmultiply\u001b[0m\u001b[1;33m(\u001b[0m\u001b[0ma_vecs\u001b[0m\u001b[1;33m[\u001b[0m\u001b[0mk\u001b[0m\u001b[1;33m-\u001b[0m\u001b[1;36m2\u001b[0m\u001b[1;33m]\u001b[0m\u001b[1;33m,\u001b[0m\u001b[0md_vecs\u001b[0m\u001b[1;33m[\u001b[0m\u001b[0mk\u001b[0m\u001b[1;33m-\u001b[0m\u001b[1;36m2\u001b[0m\u001b[1;33m]\u001b[0m\u001b[1;33m)\u001b[0m\u001b[1;33m\u001b[0m\u001b[1;33m\u001b[0m\u001b[0m\n\u001b[1;32m----> 9\u001b[1;33m     \u001b[0mdw_last\u001b[0m\u001b[1;33m=\u001b[0m\u001b[0mnp\u001b[0m\u001b[1;33m.\u001b[0m\u001b[0mdot\u001b[0m\u001b[1;33m(\u001b[0m\u001b[0mda_last\u001b[0m\u001b[1;33m.\u001b[0m\u001b[0mT\u001b[0m\u001b[1;33m,\u001b[0m\u001b[0mdh_last\u001b[0m\u001b[1;33m)\u001b[0m\u001b[1;33m\u001b[0m\u001b[1;33m\u001b[0m\u001b[0m\n\u001b[0m\u001b[0;32m     10\u001b[0m     \u001b[0mdw_list\u001b[0m\u001b[1;33m.\u001b[0m\u001b[0mappend\u001b[0m\u001b[1;33m(\u001b[0m\u001b[0mdw_last\u001b[0m\u001b[1;33m)\u001b[0m\u001b[1;33m\u001b[0m\u001b[1;33m\u001b[0m\u001b[0m\n\u001b[0;32m     11\u001b[0m     \u001b[0mdh_list\u001b[0m\u001b[1;33m.\u001b[0m\u001b[0mappend\u001b[0m\u001b[1;33m(\u001b[0m\u001b[0mdh_last\u001b[0m\u001b[1;33m)\u001b[0m\u001b[1;33m\u001b[0m\u001b[1;33m\u001b[0m\u001b[0m\n",
      "\u001b[1;32m<__array_function__ internals>\u001b[0m in \u001b[0;36mdot\u001b[1;34m(*args, **kwargs)\u001b[0m\n",
      "\u001b[1;31mKeyboardInterrupt\u001b[0m: "
     ]
    }
   ],
   "source": [
    "lr_options=np.logspace(start=-2.5,stop=-0.5,num=8)\n",
    "dropout_opts=np.linspace(start=0.2,stop=0.3,num=2)\n",
    "scores_matrix2= np.empty(shape=(len(lr_options)*len(dropout_opts), 4)) # A matrix to store info for each option\n",
    "index=0 # index for above matrix\n",
    "for i in lr_options:\n",
    "    for j in dropout_opts:\n",
    "        ss=time.time()\n",
    "        W2_init = network_weights(vocab_size=len(vocabulary),embedding_dim=300,\n",
    "                    hidden_dim=[], num_classes=3)\n",
    "        W2_init[0]=w_glove\n",
    "        w, tl, dl = SGD(train_index_doc, Y_train, W2_init,\n",
    "                            X_dev=dev_index_doc, \n",
    "                            Y_dev=Y_dev,\n",
    "                            lr=i, dropout=j,\n",
    "                            freeze_emb=True,\n",
    "                            tolerance=1e-04,\n",
    "                            epochs=10)\n",
    "        preds_de = [(forward_pass(x, w, dropout_rate=0.0)['y']) \n",
    "            for x,y in zip(dev_index_doc,labels_dev)]\n",
    "        f1_measure= f1_score(labels_dev,preds_de,average='macro')\n",
    "        scores_matrix2[index,:]= dl[-1], f1_measure, i, j   # f1_measure\n",
    "        index+= 1\n",
    "        #print(time.time()-ss)\n",
    "best_params=scores_matrix2[np.argmin(scores_matrix2 ,axis=0)[0]]    # highest F1 score in all scores calculated\n",
    "best_F1_score = best_params[0]                                     #highest score on development set\n",
    "best_lr2= best_params[2]                                    #best learning rate\n",
    "best_dropout2= best_params[3]                                    #best dropout rate\n",
    "\n",
    "print('The best parameters for Dev Loss {:.3f} computed over validation data is, lr={:.4f}, dropout={}'\n",
    "      .format(best_F1_score,(best_lr2),best_dropout2))\n",
    "pd.DataFrame(scores_matrix2, columns = ['Dev Loss','F1 score', 'Learning Rate', 'Dropout Rate'])"
   ]
  },
  {
   "cell_type": "code",
   "execution_count": null,
   "metadata": {
    "ExecuteTime": {
     "end_time": "2020-04-02T14:30:11.121198Z",
     "start_time": "2020-04-02T14:29:24.946124Z"
    },
    "tags": []
   },
   "outputs": [],
   "source": [
    "W2_init = network_weights(vocab_size=len(vocabulary),embedding_dim=300,\n",
    "                    hidden_dim=[], num_classes=3)\n",
    "W2_init[0]=w_glove\n",
    "for i in range(len(W2_init)):\n",
    "    print('Shape W'+str(i), W2_init[i].shape)\n",
    "    \n",
    "W2, loss_tr2, dev_loss2 = SGD(train_index_doc, Y_train,\n",
    "                            W2_init,\n",
    "                            X_dev=dev_index_doc, \n",
    "                            Y_dev=Y_dev,\n",
    "                            lr=best_lr2, \n",
    "                            dropout=best_dropout2,\n",
    "                            freeze_emb=True,\n",
    "                            tolerance=1e-04,\n",
    "                            print_progress=True,\n",
    "                            epochs=10,\n",
    "                            plot_fig=True)\n"
   ]
  },
  {
   "cell_type": "code",
   "execution_count": null,
   "metadata": {},
   "outputs": [],
   "source": [
    "#plot_graph(loss_tr2,dev_loss2)"
   ]
  },
  {
   "cell_type": "code",
   "execution_count": null,
   "metadata": {
    "ExecuteTime": {
     "end_time": "2020-04-02T15:12:00.815184Z",
     "start_time": "2020-04-02T15:12:00.812563Z"
    },
    "scrolled": true
   },
   "outputs": [],
   "source": [
    "preds_te = [(forward_pass(x, W2, dropout_rate=0.0)['y']) \n",
    "            for x,y in zip(test_index_doc,labels_test)]\n",
    "\n",
    "print('Accuracy:', accuracy_score(labels_test,preds_te))\n",
    "print('Precision:', precision_score(labels_test,preds_te,average='macro'))\n",
    "print('Recall:', recall_score(labels_test,preds_te,average='macro'))\n",
    "print('F1-Score:', f1_score(labels_test,preds_te,average='macro'))\n",
    "scores[1,:]=compute_scores(test_index_doc,labels_test,W2)\n",
    "Counter(preds_te)"
   ]
  },
  {
   "cell_type": "code",
   "execution_count": null,
   "metadata": {},
   "outputs": [],
   "source": [
    "print(classification_report(labels_test, preds_te))"
   ]
  },
  {
   "cell_type": "code",
   "execution_count": null,
   "metadata": {},
   "outputs": [],
   "source": [
    "preds_tr = [(forward_pass(x, W2, dropout_rate=0.0)['y']) \n",
    "            for x,y in zip(train_index_doc,labels_train)]\n",
    "\n",
    "print('Accuracy:', accuracy_score(labels_train,preds_tr))\n",
    "print('Precision:', precision_score(labels_train,preds_tr,average='macro'))\n",
    "print('Recall:', recall_score(labels_train,preds_tr,average='macro'))\n",
    "print('F1-Score:', f1_score(labels_train,preds_tr,average='macro'))\n",
    "Counter(preds_tr)"
   ]
  },
  {
   "cell_type": "code",
   "execution_count": null,
   "metadata": {},
   "outputs": [],
   "source": [
    "preds_dev = [(forward_pass(x, W2, dropout_rate=0.0)['y']) \n",
    "            for x,y in zip(dev_index_doc,labels_dev)]\n",
    "\n",
    "print('Accuracy:', accuracy_score(labels_dev,preds_dev))\n",
    "print('Precision:', precision_score(labels_dev,preds_dev,average='macro'))\n",
    "print('Recall:', recall_score(labels_dev,preds_dev,average='macro'))\n",
    "print('F1-Score:', f1_score(labels_dev,preds_dev,average='macro'))\n",
    "Counter(preds_dev)"
   ]
  },
  {
   "cell_type": "markdown",
   "metadata": {},
   "source": [
    "### Discuss how did you choose model hyperparameters ? "
   ]
  },
  {
   "cell_type": "code",
   "execution_count": null,
   "metadata": {},
   "outputs": [],
   "source": []
  },
  {
   "cell_type": "markdown",
   "metadata": {},
   "source": [
    "# Extend to support deeper architectures \n",
    "\n",
    "Extend the network to support back-propagation for more hidden layers. You need to modify the `backward_pass` function above to compute gradients and update the weights between intermediate hidden layers. Finally, train and evaluate a network with a deeper architecture. Do deeper architectures increase performance?"
   ]
  },
  {
   "cell_type": "code",
   "execution_count": null,
   "metadata": {},
   "outputs": [],
   "source": [
    "hidden_dimensions=[130,40,8]\n",
    "lr_options=np.logspace(start=-1.5,stop=-3,num=8)\n",
    "dropout_opts=np.linspace(start=0.2,stop=0.3,num=2)\n",
    "scores_matrix3= np.empty(shape=(len(lr_options)*len(dropout_opts), 4)) # A matrix to store info for each option\n",
    "index=0 # index for above matrix\n",
    "\n",
    "for i in lr_options:\n",
    "    for j in dropout_opts:\n",
    "        ss=time.time()\n",
    "        W3_init = network_weights(vocab_size=len(vocabulary),embedding_dim=300,\n",
    "                    hidden_dim=hidden_dimensions, num_classes=3)\n",
    "        W3_init[0]=w_glove\n",
    "        w, tl, dl = SGD(train_index_doc, Y_train, W3_init,\n",
    "                            X_dev=dev_index_doc, \n",
    "                            Y_dev=Y_dev,\n",
    "                            lr=i, dropout=j,\n",
    "                            freeze_emb=True,\n",
    "                            tolerance=1e-04,\n",
    "                            epochs=10)\n",
    "        preds_de = [(forward_pass(x, w, dropout_rate=0.0)['y']) \n",
    "            for x,y in zip(dev_index_doc,labels_dev)]\n",
    "        f1_measure= f1_score(labels_dev,preds_de,average='macro')\n",
    "        scores_matrix3[index,:]=dl[-1], f1_measure, i, j   # f1_measure\n",
    "        index+= 1\n",
    "        #print(time.time()-ss)    \n",
    "\n",
    "best_params=scores_matrix3[np.argmin(scores_matrix3,axis=0)[0]]    # highest F1 score in all scores calculated\n",
    "best_F1_score = best_params[0]                                     #highest score on development set\n",
    "best_lr3= best_params[2]                                    #best learning rate\n",
    "best_dropout3= best_params[3]                                    #best dropout rate\n",
    "\n",
    "print('The best parameters for Dev Loss {:.3f} computed over validation data is, lr={:.4f}, dropout={}'\n",
    "      .format(best_F1_score,(best_lr3),best_dropout3))\n",
    "pd.DataFrame(scores_matrix3, columns = ['Dev Loss','F1 score', 'Learning Rate', 'Dropout'])"
   ]
  },
  {
   "cell_type": "code",
   "execution_count": null,
   "metadata": {},
   "outputs": [],
   "source": [
    "W3_init = network_weights(vocab_size=len(vocabulary),embedding_dim=300,\n",
    "                    hidden_dim=hidden_dimensions, num_classes=3)\n",
    "W3_init[0]=w_glove\n",
    "for i in range(len(W3_init)):\n",
    "    print('Shape W'+str(i), W3_init[i].shape)\n",
    "#0.0179\n",
    "W3, loss_tr3, dev_loss3 = SGD(train_index_doc, Y_train,\n",
    "                            W3_init,\n",
    "                            X_dev=dev_index_doc, \n",
    "                            Y_dev=Y_dev,\n",
    "                            lr=best_lr3, \n",
    "                            dropout=best_dropout3,\n",
    "                            freeze_emb=True,\n",
    "                            tolerance=1e-04,\n",
    "                            print_progress=True,\n",
    "                            epochs=10,\n",
    "                            plot_fig=True)\n"
   ]
  },
  {
   "cell_type": "code",
   "execution_count": null,
   "metadata": {},
   "outputs": [],
   "source": [
    "#plot_graph(loss_tr3,dev_loss3)"
   ]
  },
  {
   "cell_type": "code",
   "execution_count": null,
   "metadata": {
    "ExecuteTime": {
     "end_time": "2020-04-02T15:11:51.994986Z",
     "start_time": "2020-04-02T15:11:51.992563Z"
    },
    "scrolled": true
   },
   "outputs": [],
   "source": [
    "preds_te = [(forward_pass(x, W3, dropout_rate=0.0)['y']) \n",
    "            for x,y in zip(test_index_doc,labels_test)]\n",
    "\n",
    "print('Accuracy:', accuracy_score(labels_test,preds_te))\n",
    "print('Precision:', precision_score(labels_test,preds_te,average='macro'))\n",
    "print('Recall:', recall_score(labels_test,preds_te,average='macro'))\n",
    "print('F1-Score:', f1_score(labels_test,preds_te,average='macro'))\n",
    "scores[2,:]=compute_scores(test_index_doc,labels_test,W3)\n",
    "Counter(preds_te)"
   ]
  },
  {
   "cell_type": "code",
   "execution_count": null,
   "metadata": {},
   "outputs": [],
   "source": [
    "preds_tr = [(forward_pass(x, W3, dropout_rate=0.0)['y']) \n",
    "            for x,y in zip(train_index_doc,labels_train)]\n",
    "\n",
    "print('Accuracy:', accuracy_score(labels_train,preds_tr))\n",
    "print('Precision:', precision_score(labels_train,preds_tr,average='macro'))\n",
    "print('Recall:', recall_score(labels_train,preds_tr,average='macro'))\n",
    "print('F1-Score:', f1_score(labels_train,preds_tr,average='macro'))\n",
    "Counter(preds_tr)"
   ]
  },
  {
   "cell_type": "code",
   "execution_count": null,
   "metadata": {},
   "outputs": [],
   "source": [
    "preds_dev = [(forward_pass(x, W3, dropout_rate=0.0)['y']) \n",
    "            for x,y in zip(dev_index_doc,labels_dev)]\n",
    "\n",
    "print('Accuracy:', accuracy_score(labels_dev,preds_dev))\n",
    "print('Precision:', precision_score(labels_dev,preds_dev,average='macro'))\n",
    "print('Recall:', recall_score(labels_dev,preds_dev,average='macro'))\n",
    "print('F1-Score:', f1_score(labels_dev,preds_dev,average='macro'))\n",
    "Counter(preds_dev)"
   ]
  },
  {
   "cell_type": "code",
   "execution_count": null,
   "metadata": {},
   "outputs": [],
   "source": [
    "print(classification_report(labels_test, preds_te))"
   ]
  },
  {
   "cell_type": "markdown",
   "metadata": {},
   "source": [
    "### Discuss how did you choose model hyperparameters ? "
   ]
  },
  {
   "cell_type": "code",
   "execution_count": null,
   "metadata": {},
   "outputs": [],
   "source": []
  },
  {
   "cell_type": "markdown",
   "metadata": {},
   "source": [
    "## Full Results\n",
    "\n",
    "Add your final results here:\n",
    "\n",
    "| Model | Precision  | Recall  | F1-Score  | Accuracy\n",
    "|:-:|:-:|:-:|:-:|:-:|\n",
    "| Average Embedding  |   |   |   |   |\n",
    "| Average Embedding (Pre-trained)  |   |   |   |   |\n",
    "| Average Embedding (Pre-trained) + X hidden layers    |   |   |   |   |\n",
    "\n",
    "\n",
    "Please discuss why your best performing model is better than the rest."
   ]
  },
  {
   "cell_type": "code",
   "execution_count": null,
   "metadata": {
    "scrolled": true
   },
   "outputs": [],
   "source": [
    "row_names=[\"Average Embedding\",\"Average Embedding (Pre-trained)\",\"Average Embedding (Pre-trained) + 3 hidden layers\"]\n",
    "column_names=[\"Accuracy %\",\"Precision\",\"Recall\",\"F1-Score\"]\n",
    "Full_results= pd.DataFrame(scores, index=row_names, columns=column_names)\n",
    "Full_results"
   ]
  },
  {
   "cell_type": "code",
   "execution_count": null,
   "metadata": {},
   "outputs": [],
   "source": [
    "print(\"Runtime of notebook is:\",time.time()-start1)"
   ]
  },
  {
   "cell_type": "code",
   "execution_count": null,
   "metadata": {},
   "outputs": [],
   "source": []
  },
  {
   "cell_type": "markdown",
   "metadata": {},
   "source": [
    "This is a well known phenomenon. A good discussion can be found in the Deep Residual Learning for Image Recognition, especially Figure 1. The short summary is that when a neural network is very deep for a given problem, it tends to try and recreate the identity. This is because the first portion of the network has found an effective set of weights that optimize the objective, and now the latter portion of the neural network is essentially adding noise. So the latter portion will attempt to create an identity function, which is terrible because you're trying to make an identity function from a nonlinear set of activations. As an analogy, it's like approximating a line with polynomials of degree >1: you get a wavy mess. The above paper proposes ResNet, which is a deep neural network that allows you to skip over activations, which significantly improves the quality of deeper neural nets."
   ]
  },
  {
   "cell_type": "code",
   "execution_count": null,
   "metadata": {},
   "outputs": [],
   "source": []
  }
 ],
 "metadata": {
  "kernelspec": {
   "display_name": "Python 3 (ipykernel)",
   "language": "python",
   "name": "python3"
  },
  "language_info": {
   "codemirror_mode": {
    "name": "ipython",
    "version": 3
   },
   "file_extension": ".py",
   "mimetype": "text/x-python",
   "name": "python",
   "nbconvert_exporter": "python",
   "pygments_lexer": "ipython3",
   "version": "3.8.12"
  }
 },
 "nbformat": 4,
 "nbformat_minor": 4
}
