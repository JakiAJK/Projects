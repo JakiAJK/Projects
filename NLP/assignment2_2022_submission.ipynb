{
 "cells": [
  {
   "cell_type": "markdown",
   "metadata": {
    "id": "4fL1wdtpZOoj"
   },
   "source": [
    "# [COM6513] Assignment 2: Topic Classification with a Feedforward Network\n",
    "\n",
    "\n",
    "### Instructor: Nikos Aletras\n",
    "\n",
    "\n",
    "The goal of this assignment is to develop a Feedforward neural network for topic classification. \n",
    "\n",
    "\n",
    "\n",
    "For that purpose, you will implement:\n",
    "\n",
    "- Text processing methods for transforming raw text data into input vectors for your network  (**1 mark**)\n",
    "\n",
    "\n",
    "- A Feedforward network consisting of:\n",
    "    - **One-hot** input layer mapping words into an **Embedding weight matrix** (**1 mark**)\n",
    "    - **One hidden layer** computing the mean embedding vector of all words in input followed by a **ReLU activation function** (**1 mark**)\n",
    "    - **Output layer** with a **softmax** activation. (**1 mark**)\n",
    "\n",
    "\n",
    "- The Stochastic Gradient Descent (SGD) algorithm with **back-propagation** to learn the weights of your Neural network. Your algorithm should:\n",
    "    - Use (and minimise) the **Categorical Cross-entropy loss** function (**1 mark**)\n",
    "    - Perform a **Forward pass** to compute intermediate outputs (**3 marks**)\n",
    "    - Perform a **Backward pass** to compute gradients and update all sets of weights (**6 marks**)\n",
    "    - Implement and use **Dropout** after each hidden layer for regularisation (**2 marks**)\n",
    "\n",
    "\n",
    "\n",
    "- Discuss how did you choose hyperparameters? You can tune the learning rate (hint: choose small values), embedding size {e.g. 50, 300, 500}, the dropout rate {e.g. 0.2, 0.5} and the learning rate. Please use tables or graphs to show training and validation performance for each hyperparameter combination  (**2 marks**). \n",
    "\n",
    "\n",
    "\n",
    "- After training a model, plot the learning process (i.e. training and validation loss in each epoch) using a line plot and report accuracy. Does your model overfit, underfit or is about right? (**1 mark**).\n",
    "\n",
    "\n",
    "\n",
    "- Re-train your network by using pre-trained embeddings ([GloVe](https://nlp.stanford.edu/projects/glove/)) trained on large corpora. Instead of randomly initialising the embedding weights matrix, you should initialise it with the pre-trained weights. During training, you should not update them (i.e. weight freezing) and backprop should stop before computing gradients for updating embedding weights. Report results by performing hyperparameter tuning and plotting the learning process. Do you get better performance? (**3 marks**).\n",
    "\n",
    "\n",
    "\n",
    "- Extend you Feedforward network by adding more hidden layers (e.g. one more or two). How does it affect the performance? Note: You need to repeat hyperparameter tuning, but the number of combinations grows exponentially. Therefore, you need to choose a subset of all possible combinations (**4 marks**)\n",
    "\n",
    "\n",
    "- Provide well documented and commented code describing all of your choices. In general, you are free to make decisions about text processing (e.g. punctuation, numbers, vocabulary size) and hyperparameter values. We expect to see justifications and discussion for all of your choices (**2 marks**). \n",
    "\n",
    "\n",
    "\n",
    "- Provide efficient solutions by using Numpy arrays when possible. Executing the whole notebook with your code should not take more than 10 minutes on any standard computer (e.g. Intel Core i5 CPU, 8 or 16GB RAM) excluding hyperparameter tuning runs and loading the pretrained vectors. You can find tips in Lab 1 (**2 marks**). \n",
    "\n",
    "\n",
    "\n",
    "### Data \n",
    "\n",
    "The data you will use for the task is a subset of the [AG News Corpus](http://groups.di.unipi.it/~gulli/AG_corpus_of_news_articles.html) and you can find it in the `./data_topic` folder in CSV format:\n",
    "\n",
    "- `data_topic/train.csv`: contains 2,400 news articles, 800 for each class to be used for training.\n",
    "- `data_topic/dev.csv`: contains 150 news articles, 50 for each class to be used for hyperparameter selection and monitoring the training process.\n",
    "- `data_topic/test.csv`: contains 900 news articles, 300 for each class to be used for testing.\n",
    "\n",
    "### Pre-trained Embeddings\n",
    "\n",
    "You can download pre-trained GloVe embeddings trained on Common Crawl (840B tokens, 2.2M vocab, cased, 300d vectors, 2.03 GB download) from [here](http://nlp.stanford.edu/data/glove.840B.300d.zip). No need to unzip, the file is large.\n",
    "\n",
    "### Save Memory\n",
    "\n",
    "To save RAM, when you finish each experiment you can delete the weights of your network using `del W` followed by Python's garbage collector `gc.collect()`\n",
    "\n",
    "\n"
   ]
  },
  {
   "cell_type": "markdown",
   "metadata": {
    "id": "YX9D2H-yZOow"
   },
   "source": [
    "### Submission Instructions\n",
    "\n",
    "You should submit a Jupyter Notebook file (assignment2.ipynb) and an exported PDF version (you can do it from Jupyter: `File->Download as->PDF via Latex`).\n",
    "\n",
    "\n",
    "You are advised to follow the code structure given in this notebook by completing all given funtions. You can also write any auxilliary/helper functions (and arguments for the functions) that you might need but note that you can provide a full solution without any such functions. Similarly, you can just use only the packages imported below but you are free to use any functionality from the [Python Standard Library](https://docs.python.org/3/library/index.html), NumPy, SciPy (excluding built-in softmax funtcions) and Pandas. You are **not allowed to use any third-party library** such as Scikit-learn (apart from metric functions already provided), NLTK, Spacy, Keras, Pytorch etc.. You should mention if you've used Windows to write and test your code because we mostly use Unix based machines for marking (e.g. Ubuntu, MacOS). \n",
    "\n",
    "There is no single correct answer on what your accuracy should be, but correct implementations usually achieve F1-scores around 80\\% or higher. The quality of the analysis of the results is as important as the accuracy itself. \n",
    "\n",
    "This assignment will be marked out of 30. It is worth 30\\% of your final grade in the module.\n",
    "\n",
    "The deadline for this assignment is **23:59 on Mon, 9 May 2022** and it needs to be submitted via Blackboard. Standard departmental penalties for lateness will be applied. We use a range of strategies to **detect [unfair means](https://www.sheffield.ac.uk/ssid/unfair-means/index)**, including Turnitin which helps detect plagiarism. Use of unfair means would result in getting a failing grade.\n",
    "\n"
   ]
  },
  {
   "cell_type": "code",
   "execution_count": 1,
   "metadata": {
    "id": "VH5AmLnfZOoy",
    "scrolled": true
   },
   "outputs": [],
   "source": [
    "import pandas as pd\n",
    "import numpy as np\n",
    "from collections import Counter\n",
    "import re\n",
    "import matplotlib.pyplot as plt\n",
    "from sklearn.metrics import accuracy_score, precision_score, recall_score, f1_score\n",
    "import random\n",
    "from time import localtime, strftime\n",
    "from scipy.stats import spearmanr,pearsonr\n",
    "import zipfile\n",
    "import gc\n",
    "import time\n",
    "# fixing random seed for reproducibility\n",
    "random.seed(210116270)\n",
    "np.random.seed(210116270)\n",
    "\n",
    "import warnings\n",
    "\n",
    "#suppress warnings like RunTime error\n",
    "warnings.filterwarnings('ignore')\n",
    "start1=time.time()"
   ]
  },
  {
   "cell_type": "markdown",
   "metadata": {
    "id": "6sl2EqK2ZOo1"
   },
   "source": [
    "## Transform Raw texts into training and development data\n",
    "\n",
    "First, you need to load the training, development and test sets from their corresponding CSV files (tip: you can use Pandas dataframes)."
   ]
  },
  {
   "cell_type": "code",
   "execution_count": 2,
   "metadata": {
    "id": "zfC-TqA7ZOo2",
    "scrolled": true
   },
   "outputs": [],
   "source": [
    "train_set = pd.read_csv(\"Assignment 2/data_topic/train.csv\", header=None)\n",
    "test_set = pd.read_csv(\"Assignment 2/data_topic/test.csv\", header=None)\n",
    "dev_set = pd.read_csv(\"Assignment 2/data_topic/dev.csv\", header=None)"
   ]
  },
  {
   "cell_type": "code",
   "execution_count": 3,
   "metadata": {
    "id": "5Tj0hglrZOo2",
    "scrolled": true
   },
   "outputs": [],
   "source": [
    "train_set_list=list(train_set.iloc[:,1])\n",
    "test_set_list=list(test_set.iloc[:,1])\n",
    "dev_set_list=list(dev_set.iloc[:,1])"
   ]
  },
  {
   "cell_type": "markdown",
   "metadata": {
    "id": "DCwf4mZSZOo3"
   },
   "source": [
    "# Create input representations\n",
    "\n",
    "\n",
    "To train your Feedforward network, you first need to obtain input representations given a vocabulary. One-hot encoding requires large memory capacity. Therefore, we will instead represent documents as lists of vocabulary indices (each word corresponds to a vocabulary index). \n",
    "\n",
    "\n",
    "## Text Pre-Processing Pipeline\n",
    "\n",
    "To obtain a vocabulary of words. You should: \n",
    "- tokenise all texts into a list of unigrams (tip: you can re-use the functions from Assignment 1) \n",
    "- remove stop words (using the one provided or one of your preference) \n",
    "- remove unigrams appearing in less than K documents\n",
    "- use the remaining to create a vocabulary of the top-N most frequent unigrams in the entire corpus.\n"
   ]
  },
  {
   "cell_type": "code",
   "execution_count": 4,
   "metadata": {
    "id": "ade29pJqZOo4",
    "scrolled": true
   },
   "outputs": [],
   "source": [
    "stop_words = ['a','in','on','at','and','or', \n",
    "              'to', 'the', 'of', 'an', 'by', \n",
    "              'as', 'is', 'was', 'were', 'been', 'be', \n",
    "              'are','for', 'this', 'that', 'these', 'those', 'you', 'i', 'if',\n",
    "             'it', 'he', 'she', 'we', 'they', 'will', 'have', 'has',\n",
    "              'do', 'did', 'can', 'could', 'who', 'which', 'what',\n",
    "              'but', 'not', 'there', 'no', 'does', 'not', 'so', 've', 'their',\n",
    "             'his', 'her', 'they', 'them', 'from', 'with', 'its']\n"
   ]
  },
  {
   "cell_type": "markdown",
   "metadata": {
    "id": "bglRlnLDZOo5"
   },
   "source": [
    "### Unigram extraction from a document\n",
    "\n",
    "You first need to implement the `extract_ngrams` function. It takes as input:\n",
    "- `x_raw`: a string corresponding to the raw text of a document\n",
    "- `ngram_range`: a tuple of two integers denoting the type of ngrams you want to extract, e.g. (1,2) denotes extracting unigrams and bigrams.\n",
    "- `token_pattern`: a string to be used within a regular expression to extract all tokens. Note that data is already tokenised so you could opt for a simple white space tokenisation.\n",
    "- `stop_words`: a list of stop words\n",
    "- `vocab`: a given vocabulary. It should be used to extract specific features.\n",
    "\n",
    "and returns:\n",
    "\n",
    "- a list of all extracted features.\n"
   ]
  },
  {
   "cell_type": "code",
   "execution_count": 5,
   "metadata": {
    "id": "Mr1nitgcZOo6",
    "scrolled": true
   },
   "outputs": [],
   "source": [
    "def extract_ngrams(x_raw, ngram_range=(1,1), token_pattern=r'\\b[A-Za-z][A-Za-z]+\\b', \n",
    "                   stop_words=[], vocab=set()):\n",
    "    x_raw=x_raw.lower()\n",
    "    x=[]\n",
    "    start= ngram_range[0]\n",
    "    end= ngram_range[1]\n",
    "    split_text=re.findall(token_pattern,x_raw)  # finds all words and number and combination and excludes special signs\n",
    "    unigrams = [word for word in split_text if not word in stop_words]    # remove stopwords\n",
    "        \n",
    "    for n in range(start,end+1):  # calculate n grams\n",
    "        if n==1:\n",
    "            x.append(unigrams)\n",
    "        if n>1:    # depending on choice of n, ngrams are created\n",
    "            ngrams=[]\n",
    "            n_grams= [unigrams[i:i+n] for i in range(len(unigrams)-n+1)]   # picks sequence of words\n",
    "            for i in range(len(n_grams)): \n",
    "                ngrams.append(' '.join(n_grams[i])) # joins into a sentence e.g. ['natural','language'] to ['natural language']\n",
    "            x.append(ngrams)   # add to main list with all ngrams\n",
    "    x = [item for sub_list in x for item in sub_list]    # unlist items and make a single list   \n",
    "    \n",
    "    if len(vocab)>0: # only returns ngrmas which are present in vocab\n",
    "        x= [word for word in x if word in vocab]\n",
    "    return x\n",
    "#(extract_ngrams(train_set_list[0], stop_words=stop_words, token_pattern= r'\\b[A-Za-z][A-Za-z]+\\b', vocab=vocabulary))"
   ]
  },
  {
   "cell_type": "markdown",
   "metadata": {
    "id": "9pi2OZuOZOo6"
   },
   "source": [
    "### Create a vocabulary of n-grams\n",
    "\n",
    "Then the `get_vocab` function will be used to (1) create a vocabulary of ngrams; (2) count the document frequencies of ngrams; (3) their raw frequency. It takes as input:\n",
    "- `X_raw`: a list of strings each corresponding to the raw text of a document\n",
    "- `ngram_range`: a tuple of two integers denoting the type of ngrams you want to extract, e.g. (1,2) denotes extracting unigrams and bigrams.\n",
    "- `token_pattern`: a string to be used within a regular expression to extract all tokens. Note that data is already tokenised so you could opt for a simple white space tokenisation.\n",
    "- `stop_words`: a list of stop words\n",
    "- `min_df`: keep ngrams with a minimum document frequency.\n",
    "- `keep_topN`: keep top-N more frequent ngrams.\n",
    "\n",
    "and returns:\n",
    "\n",
    "- `vocab`: a set of the n-grams that will be used as features.\n",
    "- `df`: a Counter (or dict) that contains ngrams as keys and their corresponding document frequency as values.\n",
    "- `ngram_counts`: counts of each ngram in vocab\n"
   ]
  },
  {
   "cell_type": "code",
   "execution_count": 6,
   "metadata": {
    "id": "TRn_tSK9ZOo7",
    "scrolled": true
   },
   "outputs": [],
   "source": [
    "def get_vocab(X_raw, ngram_range=(1,1), token_pattern=r'\\b[A-Za-z][A-Za-z]+\\b',\n",
    "              min_df=0, keep_topN=0, \n",
    "              stop_words=[]):\n",
    "    df=dict()\n",
    "    ngram_counts=dict()\n",
    "    for i in range(len(X_raw)):\n",
    "        ngrams_list = extract_ngrams(X_raw[i], ngram_range=ngram_range, stop_words=stop_words, token_pattern=token_pattern)\n",
    "        \n",
    "        # seperate all elements by \",\" so that we get individual elements to be Counted\n",
    "        ngram_freq_dict= dict(Counter(word for ngram in ngrams_list for word in ngram.split(\",\")))\n",
    "        \n",
    "        for word in ngram_freq_dict.keys():    # calculate ngram counts\n",
    "            if word not in ngram_counts: ngram_counts[word]=ngram_freq_dict[word]\n",
    "            else: ngram_counts[word]+=ngram_freq_dict[word]\n",
    "            \n",
    "        for word in set(ngrams_list):  # calculate document frequency of words\n",
    "            if word in df: df[word]+=1\n",
    "            else: df[word]=1\n",
    "            \n",
    "    for word in list(df.keys()):  # delete words which dont occur often in corpus\n",
    "        if df[word]<min_df:\n",
    "            del df[word]\n",
    "            \n",
    "    if keep_topN>0 and keep_topN<len(df.keys()): # if keep top N grams is required\n",
    "        sorted_df_dict=dict(sorted(df.items(), key=lambda item: item[1], reverse=True))\n",
    "        words_to_remove= list(sorted_df_dict)[keep_topN:]\n",
    "        for w in words_to_remove: del df[w]\n",
    "\n",
    "    # to remove words not in df but in ngram_counts\n",
    "    extra_words = [word for word in ngram_counts if not word in df.keys()] \n",
    "    for word in extra_words: del ngram_counts[word]\n",
    "    \n",
    "    vocab=sorted(list(ngram_counts.keys())) # we make our vocab sorted in alphabetical order\n",
    "    \n",
    "    return vocab, df, ngram_counts"
   ]
  },
  {
   "cell_type": "markdown",
   "metadata": {
    "id": "AjrGZJ31ZOo8"
   },
   "source": [
    "Now you should use `get_vocab` to create your vocabulary and get document and raw frequencies of unigrams:"
   ]
  },
  {
   "cell_type": "code",
   "execution_count": 7,
   "metadata": {
    "colab": {
     "base_uri": "https://localhost:8080/"
    },
    "id": "OdahSqZjZOo8",
    "outputId": "3b132c65-d177-4ddd-b922-0773a376a630",
    "scrolled": true
   },
   "outputs": [
    {
     "name": "stdout",
     "output_type": "stream",
     "text": [
      "8931\n"
     ]
    }
   ],
   "source": [
    "# We consider all terms in the corpus\n",
    "vocabulary, doc_freq, ngram_counts = get_vocab(train_set_list, min_df=0, stop_words=stop_words)\n",
    "print(len(vocabulary))"
   ]
  },
  {
   "cell_type": "markdown",
   "metadata": {
    "id": "OqGEcpXFZOo9"
   },
   "source": [
    "Then, you need to create vocabulary id -> word and word -> vocabulary id dictionaries for reference:"
   ]
  },
  {
   "cell_type": "code",
   "execution_count": 8,
   "metadata": {
    "id": "85-gTwxWZOo-",
    "scrolled": true
   },
   "outputs": [],
   "source": [
    "id2word=enumerate(vocabulary)\n",
    "id_word_dict=dict(id2word)\n",
    "word2id=dict((word,ID) for ID,word in id_word_dict.items())"
   ]
  },
  {
   "cell_type": "code",
   "execution_count": 9,
   "metadata": {
    "colab": {
     "base_uri": "https://localhost:8080/"
    },
    "id": "kz4U4NC0ZOo-",
    "outputId": "a9da6e93-d6c9-4b16-d467-d57333f62909"
   },
   "outputs": [
    {
     "data": {
      "text/plain": [
       "6632"
      ]
     },
     "execution_count": 9,
     "metadata": {},
     "output_type": "execute_result"
    }
   ],
   "source": [
    "word2id['reuters']"
   ]
  },
  {
   "cell_type": "markdown",
   "metadata": {
    "id": "fQrkV0v7ZOo-"
   },
   "source": [
    "### Convert the list of unigrams  into a list of vocabulary indices"
   ]
  },
  {
   "cell_type": "markdown",
   "metadata": {
    "id": "mOHnsDHEZOo_"
   },
   "source": [
    "Storing actual one-hot vectors into memory for all words in the entire data set is prohibitive. Instead, we will store word indices in the vocabulary and look-up the weight matrix. This is equivalent of doing a dot product between an one-hot vector and the weight matrix. \n",
    "\n",
    "First, represent documents in train, dev and test sets as lists of words in the vocabulary:"
   ]
  },
  {
   "cell_type": "code",
   "execution_count": 10,
   "metadata": {
    "id": "z3VjC2iXZOo_",
    "scrolled": true
   },
   "outputs": [],
   "source": [
    "train_ngram_doc=[None]*len(train_set_list) # Creating an empty list to store extracted ngrams\n",
    "for i in range(len(train_set_list)): \n",
    "    train_ngram_doc[i]=extract_ngrams(train_set_list[i], stop_words=stop_words, vocab=vocabulary)\n",
    "    \n",
    "test_ngram_doc=[None]*len(test_set_list) \n",
    "for i in range(len(test_set_list)): \n",
    "    test_ngram_doc[i]=extract_ngrams(test_set_list[i], stop_words=stop_words, vocab=vocabulary)\n",
    "\n",
    "dev_ngram_doc=[None]*len(dev_set_list) \n",
    "for i in range(len(dev_set_list)): \n",
    "    dev_ngram_doc[i]=extract_ngrams(dev_set_list[i], stop_words=stop_words, vocab=vocabulary)"
   ]
  },
  {
   "cell_type": "markdown",
   "metadata": {
    "id": "jPnN5uFuZOpA"
   },
   "source": [
    "Then convert them into lists of indices in the vocabulary:"
   ]
  },
  {
   "cell_type": "code",
   "execution_count": 11,
   "metadata": {
    "id": "vyPT_QBYZOpA",
    "scrolled": true
   },
   "outputs": [],
   "source": [
    "def convert_to_indices(ngram_doc):\n",
    "    vocab_index_doc=ngram_doc.copy()\n",
    "    for i in range(len(ngram_doc)):\n",
    "        index_doc=[]\n",
    "        doc=ngram_doc[i]\n",
    "        for w in doc:\n",
    "            index_doc.append(word2id[w])\n",
    "        vocab_index_doc[i]=np.array(index_doc).T\n",
    "    return (vocab_index_doc)"
   ]
  },
  {
   "cell_type": "code",
   "execution_count": 12,
   "metadata": {
    "id": "DUkSqpmZZOpB"
   },
   "outputs": [],
   "source": [
    "train_index_doc= convert_to_indices(train_ngram_doc)\n",
    "test_index_doc= convert_to_indices(test_ngram_doc)\n",
    "dev_index_doc= convert_to_indices(dev_ngram_doc)"
   ]
  },
  {
   "cell_type": "markdown",
   "metadata": {
    "id": "diItIOIPZOpB"
   },
   "source": [
    "Put the labels `Y` for train, dev and test sets into arrays: "
   ]
  },
  {
   "cell_type": "markdown",
   "metadata": {
    "id": "Or0RZVC8_kFW"
   },
   "source": [
    "### **One-hot encoding labels**\n",
    "We convert the labels from integers to one-hot encoded arrays. This is necessary because we need to ensure that the model finds no correlation between the labels. Eg: average of label 1 and 3 equals label 2.\n",
    "\n",
    "Although our target variable is already label encoded, we prefer one hot encoding because our data is nominal, meaning all labels have equal significance.\n",
    "\n",
    "If our targets were ordinal data, we could have stuck to integers.\n",
    "\n",
    "Hence we convert labels\n",
    "\n",
    "1 to [1,0,0],\n",
    "\n",
    "2 to [0,1,0],\n",
    "\n",
    "3 to [0,0,1]\n",
    "\n",
    "This also helps us when we calculate categorical cross entropy."
   ]
  },
  {
   "cell_type": "code",
   "execution_count": 13,
   "metadata": {
    "id": "EEijQe1yZOpB",
    "scrolled": true
   },
   "outputs": [],
   "source": [
    "labels_train=np.array(train_set.iloc[:,0])\n",
    "labels_test=np.array(test_set.iloc[:,0])\n",
    "labels_dev=np.array(dev_set.iloc[:,0])\n",
    "\n",
    "def one_hot_encode(labels_list):\n",
    "    Y_new = [None]*len(labels_list)\n",
    "    for i in range(len(labels_list)):\n",
    "        Y_vec=[0,0,0]\n",
    "        y=int(labels_list[i])\n",
    "        Y_vec[y-1]=1\n",
    "        Y_new[i]=(np.asarray(Y_vec).reshape(1,3))\n",
    "    return np.asarray(Y_new)\n",
    "\n",
    "Y_train=one_hot_encode(labels_train)\n",
    "Y_dev=one_hot_encode(labels_dev)\n",
    "Y_test=one_hot_encode(labels_test)"
   ]
  },
  {
   "cell_type": "markdown",
   "metadata": {
    "id": "dZV9cd12ZOpB"
   },
   "source": [
    "# Network Architecture\n",
    "\n",
    "Your network should pass each word index into its corresponding embedding by looking-up on the embedding matrix and then compute the first hidden layer $\\mathbf{h}_1$:\n",
    "\n",
    "$$\\mathbf{h}_1 = \\frac{1}{|x|}\\sum_i W^e_i, i \\in x$$\n",
    "\n",
    "where $|x|$ is the number of words in the document and $W^e$ is an embedding matrix $|V|\\times d$, $|V|$ is the size of the vocabulary and $d$ the embedding size.\n",
    "\n",
    "Then $\\mathbf{h}_1$ should be passed through a ReLU activation function:\n",
    "\n",
    "$$\\mathbf{a}_1 = relu(\\mathbf{h}_1)$$\n",
    "\n",
    "Finally the hidden layer is passed to the output layer:\n",
    "\n",
    "\n",
    "$$\\mathbf{y} = \\text{softmax}(\\mathbf{a}_1W) $$ \n",
    "where $W$ is a matrix $d \\times |{\\cal Y}|$, $|{\\cal Y}|$ is the number of classes.\n",
    "\n",
    "During training, $\\mathbf{a}_1$ should be multiplied with a dropout mask vector (elementwise) for regularisation before it is passed to the output layer.\n",
    "\n",
    "You can extend to a deeper architecture by passing a hidden layer to another one:\n",
    "\n",
    "$$\\mathbf{h_i} = \\mathbf{a}_{i-1}W_i $$\n",
    "\n",
    "$$\\mathbf{a_i} = relu(\\mathbf{h_i}) $$\n",
    "\n"
   ]
  },
  {
   "cell_type": "markdown",
   "metadata": {
    "id": "n-mfPYEGZOpC"
   },
   "source": [
    "# Network Training\n",
    "\n",
    "First we need to define the parameters of our network by initiliasing the weight matrices. For that purpose, you should implement the `network_weights` function that takes as input:\n",
    "\n",
    "- `vocab_size`: the size of the vocabulary\n",
    "- `embedding_dim`: the size of the word embeddings\n",
    "- `hidden_dim`: a list of the sizes of any subsequent hidden layers. Empty if there are no hidden layers between the average embedding and the output layer \n",
    "- `num_classes`: the number of the classes for the output layer\n",
    "\n",
    "and returns:\n",
    "\n",
    "- `W`: a dictionary mapping from layer index (e.g. 0 for the embedding matrix) to the corresponding weight matrix initialised with small random numbers (hint: use numpy.random.uniform with from -0.1 to 0.1)\n",
    "\n",
    "Make sure that the dimensionality of each weight matrix is compatible with the previous and next weight matrix, otherwise you won't be able to perform forward and backward passes. Consider also using np.float32 precision to save memory."
   ]
  },
  {
   "cell_type": "code",
   "execution_count": 14,
   "metadata": {
    "id": "CjedMV-0ZOpC",
    "scrolled": true
   },
   "outputs": [],
   "source": [
    "np.random.seed(210116270)\n",
    "def network_weights(vocab_size=1000, embedding_dim=300, \n",
    "                    hidden_dim=[], num_classes=3, init_val = 0.4): # initial values between -0.4 and 0.4\n",
    "    \n",
    "    W={}\n",
    "    W[0] = np.random.uniform(-init_val,init_val,size=(vocab_size,embedding_dim))  # weights for embedding layer\n",
    "    N=len(hidden_dim)\n",
    "    for i in range(N): # weights for hidden layers\n",
    "        W[i+1]= np.random.uniform(-init_val,init_val,size=(W[i].shape[1],hidden_dim[i]))\n",
    "    W[N+1]= np.random.uniform(-init_val,init_val,size=(W[N].shape[1],num_classes))   # final weights\n",
    "    return W\n",
    "    "
   ]
  },
  {
   "cell_type": "code",
   "execution_count": 15,
   "metadata": {
    "colab": {
     "base_uri": "https://localhost:8080/"
    },
    "id": "wYxCrQrjZOpC",
    "outputId": "ead721c8-f6b4-4e23-9c08-91832d2ff860",
    "scrolled": true
   },
   "outputs": [
    {
     "name": "stdout",
     "output_type": "stream",
     "text": [
      "(30, 14)\n",
      "(14, 9)\n",
      "(9, 7)\n",
      "(7, 4)\n",
      "(4, 2)\n"
     ]
    }
   ],
   "source": [
    "W = network_weights(vocab_size=30,embedding_dim=14,hidden_dim=[9,7,4], num_classes=2)\n",
    "for i in range(len(W)):\n",
    "    print(W[i].shape)"
   ]
  },
  {
   "cell_type": "markdown",
   "metadata": {
    "id": "mSPe5_4VZOpD"
   },
   "source": [
    "Then you need to develop a `softmax` function (same as in Assignment 1) to be used in the output layer. \n",
    "\n",
    "It takes as input `z` (array of real numbers) and returns `sig` (the softmax of `z`)\n",
    "\n"
   ]
  },
  {
   "cell_type": "code",
   "execution_count": 16,
   "metadata": {
    "id": "u8LEmR0eZOpD"
   },
   "outputs": [],
   "source": [
    "# np.exp(z) is not stable, because it contains infitiny. Hence we scale down the values and still preserve the order\n",
    "def softmax(z):\n",
    "    k = np.exp(z - np.max(z))\n",
    "    sig = k / k.sum()\n",
    "    return sig\n",
    "\n",
    "def softmax_2(z):\n",
    "    k= np.exp(z)\n",
    "    sig= k/np.sum(k)\n",
    "    return sig"
   ]
  },
  {
   "cell_type": "code",
   "execution_count": 17,
   "metadata": {
    "colab": {
     "base_uri": "https://localhost:8080/"
    },
    "id": "vqUNhCHcEkwT",
    "outputId": "c9a982fe-c894-41fa-e020-4ff01667d912"
   },
   "outputs": [
    {
     "name": "stdout",
     "output_type": "stream",
     "text": [
      "For smaller values and z = [4, 1, -2]\n",
      "Stable softmax - [0.95033021 0.04731416 0.00235563]\n",
      "Normal softmax - [0.95033021 0.04731416 0.00235563]\n",
      "================================\n",
      "For larger values and z = [-100, 900, 550]\n",
      "Stable softmax - [0.0000000e+000 1.0000000e+000 9.9295904e-153]\n",
      "Normal softmax - [ 0. nan  0.]\n"
     ]
    }
   ],
   "source": [
    "# We can see there's no difference between proper softmax(named softmax_2) and stable softmax for small values\n",
    "vec=[4,1,-2]\n",
    "print(\"For smaller values and z =\",vec)\n",
    "print(\"Stable softmax -\",softmax(vec))\n",
    "print(\"Normal softmax -\",softmax_2(vec))\n",
    "print(\"================================\")\n",
    "# But for larger values, normal softmax produces Nan(not a number)\n",
    "vec2=[-100,900,550]\n",
    "print(\"For larger values and z =\",vec2)\n",
    "print(\"Stable softmax -\",softmax(vec2))\n",
    "print(\"Normal softmax -\",softmax_2(vec2))"
   ]
  },
  {
   "cell_type": "markdown",
   "metadata": {
    "id": "d-B_GrgYZOpD"
   },
   "source": [
    "Now you need to implement the categorical cross entropy loss by slightly modifying the function from Assignment 1 to depend only on the true label `y` and the class probabilities vector `y_preds`:\n"
   ]
  },
  {
   "cell_type": "code",
   "execution_count": 18,
   "metadata": {
    "id": "XM-TY2_qZOpD",
    "scrolled": true
   },
   "outputs": [],
   "source": [
    "def categorical_loss(y, y_preds):\n",
    "    y=y.reshape(-1,1)\n",
    "    y_preds=y_preds.reshape(-1,1)\n",
    "    loss=0\n",
    "    for i in range(len(y)):\n",
    "        loss+= - y[i] * np.log(y_preds[i])\n",
    "    return loss"
   ]
  },
  {
   "cell_type": "markdown",
   "metadata": {
    "id": "Garu6pPDZOpE"
   },
   "source": [
    "Then, implement the `relu` function to introduce non-linearity after each hidden layer of your network \n",
    "(during the forward pass): \n",
    "\n",
    "$$relu(z_i)= max(z_i,0)$$\n",
    "\n",
    "and the `relu_derivative` function to compute its derivative (used in the backward pass):\n",
    "\n",
    "  \n",
    "  relu_derivative($z_i$)=0, if $z_i$<=0, 1 otherwise.\n",
    "  \n",
    "\n",
    "\n",
    "Note that both functions take as input a vector $z$ \n",
    "\n",
    "Hint use .copy() to avoid in place changes in array z"
   ]
  },
  {
   "cell_type": "code",
   "execution_count": 19,
   "metadata": {
    "id": "rvi_qVBuZOpE",
    "scrolled": true
   },
   "outputs": [],
   "source": [
    "def relu(z):\n",
    "    val=np.maximum(0,z)\n",
    "    return val\n",
    "\n",
    "def relu_derivative(z):\n",
    "    if type(z)!= list:\n",
    "        z=z.T\n",
    "    dz=[]\n",
    "    for value in z:\n",
    "        dz.append(0) if value<=0 else dz.append(1)\n",
    "    return dz\n"
   ]
  },
  {
   "cell_type": "markdown",
   "metadata": {
    "id": "NjUTXBwBZOpE"
   },
   "source": [
    "During training you should also apply a dropout mask element-wise after the activation function (i.e. vector of ones with a random percentage set to zero). The `dropout_mask` function takes as input:\n",
    "\n",
    "- `size`: the size of the vector that we want to apply dropout\n",
    "- `dropout_rate`: the percentage of elements that will be randomly set to zeros\n",
    "\n",
    "and returns:\n",
    "\n",
    "- `dropout_vec`: a vector with binary values (0 or 1)"
   ]
  },
  {
   "cell_type": "code",
   "execution_count": 20,
   "metadata": {
    "id": "gCPgXFxTZOpF",
    "scrolled": true
   },
   "outputs": [],
   "source": [
    "def dropout_mask(size, dropout_rate):\n",
    "    vec=np.ones(shape=size)\n",
    "    k= int(size * dropout_rate)\n",
    "    vec[:k]=0\n",
    "    p = np.random.permutation(len(vec))\n",
    "    d_vec = vec[p]\n",
    "    dropout_vec = d_vec.reshape(1,-1)\n",
    "    return dropout_vec  "
   ]
  },
  {
   "cell_type": "code",
   "execution_count": 21,
   "metadata": {
    "colab": {
     "base_uri": "https://localhost:8080/"
    },
    "id": "14F7hFFMZOpF",
    "outputId": "8f373073-c9fb-42da-8884-f892d69a5b85",
    "scrolled": true
   },
   "outputs": [
    {
     "name": "stdout",
     "output_type": "stream",
     "text": [
      "[[0. 1. 1. 1. 1. 1. 1. 0. 1. 1.]]\n"
     ]
    }
   ],
   "source": [
    "print(dropout_mask(10, 0.2))"
   ]
  },
  {
   "cell_type": "markdown",
   "metadata": {
    "id": "dNPFMQ9cZOpF"
   },
   "source": [
    "Now you need to implement the `forward_pass` function that passes the input x through the network up to the output layer for computing the probability for each class using the weight matrices in `W`. The ReLU activation function should be applied on each hidden layer. \n",
    "\n",
    "- `x`: a list of vocabulary indices each corresponding to a word in the document (input)\n",
    "- `W`: a list of weight matrices connecting each part of the network, e.g. for a network with a hidden and an output layer: W[0] is the weight matrix that connects the input to the first hidden layer, W[1] is the weight matrix that connects the hidden layer to the output layer.\n",
    "- `dropout_rate`: the dropout rate that is used to generate a random dropout mask vector applied after each hidden layer for regularisation.\n",
    "\n",
    "and returns:\n",
    "\n",
    "- `out_vals`: a dictionary of output values from each layer: h (the vector before the activation function), a (the resulting vector after passing h from the activation function), its dropout mask vector; and the prediction vector (probability for each class) from the output layer."
   ]
  },
  {
   "cell_type": "code",
   "execution_count": 22,
   "metadata": {
    "id": "tncUucs9ZOpF",
    "scrolled": true
   },
   "outputs": [],
   "source": [
    "def forward_pass(x, W, dropout_rate=0.2):\n",
    "    val=0\n",
    "    a_vecs, h_vecs, dropout_vecs=[],[],[]\n",
    "    \n",
    "    for index in x: val+= W[0][index]     # summation of all weights for taking average next\n",
    "    h1= (1/len(x))*val        # embedding layer\n",
    "    a1= relu(h1).reshape(1,-1)       #activation\n",
    "    d1= dropout_mask(a1.shape[1],dropout_rate)\n",
    "    a1= np.multiply(a1,d1)         # apply dropout\n",
    "    dropout_vecs.append(d1)\n",
    "    a_vecs.append(a1)\n",
    "    h_vecs.append(h1)\n",
    "    k= len(W)\n",
    "    for i in range(k-2):\n",
    "        h_i= np.dot(a_vecs[i],W[i+1])\n",
    "        a_i= relu(h_i).reshape(1,-1)\n",
    "        d_i= dropout_mask(a_i.shape[1],dropout_rate)\n",
    "        a_i= np.multiply(a_i,d_i)\n",
    "        \n",
    "        a_vecs.append(a_i)\n",
    "        h_vecs.append(h_i)\n",
    "        dropout_vecs.append(d_i)\n",
    "    # Representation if no hidden layer is present\n",
    "    #h2=np.dot(a1,W[1])\n",
    "    #a2=relu(h2).reshape(1,-1) #relu(h2).reshape(1,-1)\n",
    "    #d2= dropout_mask(a2.shape[1],dropout_rate)\n",
    "    #a2= np.multiply(a2,d2)\n",
    "    h_l= np.dot(a_vecs[-1],W[k-1])    # h last, or output layer\n",
    "    a_l= softmax(h_l).reshape(1,-1)   # last layer after softmax activation\n",
    "    h_vecs.append(h_l)\n",
    "    a_vecs.append(a_l)\n",
    "    out_vals = {}\n",
    "    \n",
    "    # For 1 hidden layer\n",
    "    #h_vecs = [h1,h2,h3]\n",
    "    #a_vecs = [a1,a2,a3]\n",
    "    #dropout_vecs = [d1,d2]\n",
    "    out_vals['h']= h_vecs\n",
    "    out_vals['a']= a_vecs\n",
    "    out_vals['d']= dropout_vecs \n",
    "    out_vals['y']= np.argmax(a_l)+1\n",
    "    \n",
    "    return out_vals\n",
    "    "
   ]
  },
  {
   "cell_type": "markdown",
   "metadata": {
    "id": "Gh9LXnzdZOpG"
   },
   "source": [
    "The `backward_pass` function computes the gradients and updates the weights for each matrix in the network from the output to the input. It takes as input \n",
    "\n",
    "- `x`: a list of vocabulary indices each corresponding to a word in the document (input)\n",
    "- `y`: the true label\n",
    "- `W`: a list of weight matrices connecting each part of the network, e.g. for a network with a hidden and an output layer: W[0] is the weight matrix that connects the input to the first hidden layer, W[1] is the weight matrix that connects the hidden layer to the output layer.\n",
    "- `out_vals`: a dictionary of output values from a forward pass.\n",
    "- `learning_rate`: the learning rate for updating the weights.\n",
    "- `freeze_emb`: boolean value indicating whether the embedding weights will be updated.\n",
    "\n",
    "and returns:\n",
    "\n",
    "- `W`: the updated weights of the network.\n",
    "\n",
    "Hint: the gradients on the output layer are similar to the multiclass logistic regression."
   ]
  },
  {
   "cell_type": "code",
   "execution_count": 23,
   "metadata": {
    "id": "LDq-x3D-ZOpG",
    "scrolled": true
   },
   "outputs": [],
   "source": [
    "def backward_pass(x, y, W, out_vals, lr=0.001, freeze_emb=False):\n",
    "    h_vecs=out_vals['h']\n",
    "    a_vecs=out_vals['a']\n",
    "    d_vecs=out_vals['d']\n",
    "    k= len(W)\n",
    "    dh_list, dw_list=[],[]  # dw list contains weight update for weights\n",
    "    dh_last=a_vecs[k-1]-y  #error\n",
    "    da_last=np.multiply(a_vecs[k-2],d_vecs[k-2])  # derevative of dropout\n",
    "    dw_last=np.dot(da_last.T,dh_last)       # last set of weights\n",
    "    \n",
    "    dw_list.append(dw_last)\n",
    "    dh_list.append(dh_last)\n",
    "\n",
    "    for i in range(k-2): # first and last layer updated differently, so we remove 2 from k\n",
    "        dh_i=np.multiply( np.dot(dh_list[-1] , W[k-1-i].T), \n",
    "                         relu_derivative(h_vecs[k-2-i]))\n",
    "        da_i=np.multiply(a_vecs[k-3-i],d_vecs[k-3-i])\n",
    "        dw_i=np.multiply(da_i.T , dh_i)\n",
    "        dh_list.append(dh_i)\n",
    "        dw_list.append(dw_i)\n",
    "        \n",
    "    dh1=np.multiply(np.dot(dh_list[-1],W[1].T), relu_derivative(h_vecs[0])) # embedding layer derevative\n",
    "    \n",
    "    #weights update\n",
    "    if freeze_emb==False: # only for embedding layer\n",
    "        for i in x:  # update weights in index of indices\n",
    "            W[0][i]= W[0][i] - lr*dh1\n",
    "            \n",
    "    for i in range(k-1): # k-1 because W[0] is already updated\n",
    "        # -1-i because we appended the dw's in reverse order. dw for last weights was appended first\n",
    "        W[i+1]-=lr*dw_list[-1-i]  \n",
    "    \n",
    "    return W\n",
    "\n",
    "\n",
    "# General representation if only 1 extra hidden layer present i.e., W1,W2 and W3\n",
    "##    h_vecs=out_vals['h']\n",
    "##    a_vecs=out_vals['a']\n",
    "##    d_vecs=out_vals['d']\n",
    "##    dh3=a_vecs[2]-y #  a3-y\n",
    "##    da3=np.multiply(a_vecs[1],d_vecs[1])\n",
    "##    dw3=np.dot(da3.T,dh3)\n",
    "##    dh2=np.multiply(np.dot(dh3,W[2].T), relu_derivative(h_vecs[1]))\n",
    "##    da2=np.multiply(a_vecs[0],d_vecs[0])\n",
    "##    dw2=np.dot(da2.T,dh2)\n",
    "##    dh1=np.multiply(np.dot(dh2,W[1].T), relu_derivative(h_vecs[0]))\n",
    "##    W[0]-= lr*dw1*dh1\n",
    "##    W[1]-= lr*dw2\n",
    "##    W[2]-= lr*dw3\n",
    "##    return W_new"
   ]
  },
  {
   "cell_type": "markdown",
   "metadata": {
    "id": "0MnnICwYZOpH"
   },
   "source": [
    "Finally you need to modify SGD to support back-propagation by using the `forward_pass` and `backward_pass` functions.\n",
    "\n",
    "The `SGD` function takes as input:\n",
    "\n",
    "- `X_tr`: array of training data (vectors)\n",
    "- `Y_tr`: labels of `X_tr`\n",
    "- `W`: the weights of the network (dictionary)\n",
    "- `X_dev`: array of development (i.e. validation) data (vectors)\n",
    "- `Y_dev`: labels of `X_dev`\n",
    "- `lr`: learning rate\n",
    "- `dropout`: regularisation strength\n",
    "- `epochs`: number of full passes over the training data\n",
    "- `tolerance`: stop training if the difference between the current and previous validation loss is smaller than a threshold\n",
    "- `freeze_emb`: boolean value indicating whether the embedding weights will be updated (to be used by the backward pass function).\n",
    "- `print_progress`: flag for printing the training progress (train/validation loss)\n",
    "\n",
    "\n",
    "and returns:\n",
    "\n",
    "- `weights`: the weights learned\n",
    "- `training_loss_history`: an array with the average losses of the whole training set after each epoch\n",
    "- `validation_loss_history`: an array with the average losses of the whole development set after each epoch"
   ]
  },
  {
   "cell_type": "code",
   "execution_count": 24,
   "metadata": {
    "id": "Qr9wKDzCZOpH",
    "scrolled": true
   },
   "outputs": [],
   "source": [
    "def SGD(X_tr, Y_tr, W, X_dev=[], Y_dev=[], lr=0.001, \n",
    "        dropout=0.2, epochs=10, tolerance=1e-04, freeze_emb=False, \n",
    "        print_progress=False, plot_fig=False):\n",
    "    \n",
    "    training_loss_history,validation_loss_history=[],[]\n",
    "    f1_scores_train,f1_scores_val=[],[]\n",
    "    for epoch_num in range(epochs):\n",
    "        combined=list(zip(X_tr,Y_tr)) # To shuffle both datasets in a same way\n",
    "        np.random.shuffle(combined)\n",
    "        X,Y= zip(*combined) # X and Y are new randomised dataset\n",
    "        \n",
    "        running_loss=0                      # calculate training loss\n",
    "        t1,t2,t3=0,0,0                      # to compute time taken\n",
    "        \n",
    "        for i in range(len(Y)):                 # we update weight for every datapoint\n",
    "            X_row= X[i]                       # select row\n",
    "            t1+=time.time()\n",
    "            vals=forward_pass(X_row, W, dropout)\n",
    "            t2+=time.time()\n",
    "            y_pred=vals['a'][-1]\n",
    "            W=backward_pass(X_row,Y[i],W,vals,lr=lr, freeze_emb=freeze_emb)\n",
    "            t3+=time.time()\n",
    "            running_loss+= (categorical_loss(Y[i],y_pred))\n",
    "            \n",
    "        dev_loss= np.mean([ (categorical_loss(y,(forward_pass(x, W, dropout_rate=0.0)['a'][-1]))) \n",
    "            for x,y in zip(X_dev,Y_dev)])\n",
    "        training_loss_history.append(running_loss/len(X))\n",
    "        validation_loss_history.append(dev_loss)\n",
    "        \n",
    "        preds_tr = [(forward_pass(x, W, dropout_rate=0.0)['y']) \n",
    "                        for x,y in zip(train_index_doc,labels_train)]\n",
    "        f1_scores_train.append(f1_score(labels_train,preds_tr,average='macro'))\n",
    "        \n",
    "        preds_de = [(forward_pass(x, W, dropout_rate=0.0)['y']) \n",
    "                         for x,y in zip(dev_index_doc,labels_dev)]\n",
    "        f1_scores_val.append(f1_score(labels_dev,preds_de,average='macro'))\n",
    "        if print_progress : \n",
    "            print(\"\"\"Epoch {} | Training loss: {:.3f} | Validation loss: {:.3f} | Train F1 score: {:.2f} |\n",
    "            Val F1 score: {:.2f} | Forward pass time:{:.3f}s | Backwardward pass time:{:.3f}s |\n",
    "            Total time for epoch:{:.3f}s\"\"\"\n",
    "                  .format(epoch_num+1 , training_loss_history[epoch_num][0] , \n",
    "                          validation_loss_history[epoch_num],f1_scores_train[-1],\n",
    "                          f1_scores_val[-1], t2-t1, t3-t2, t3-t1))\n",
    "            \n",
    "        if epoch_num>1 and (abs(validation_loss_history[epoch_num-1]-validation_loss_history[epoch_num])\n",
    "                            <tolerance):\n",
    "            if print_progress : \n",
    "                print(\"-------------------------------------------------------\")\n",
    "                print(\"Training stop after {} epochs as tolerance reached\".format(epoch_num+1))\n",
    "            break\n",
    "            \n",
    "    if plot_fig:\n",
    "        plot_graphs(training_loss_history,validation_loss_history,f1_scores_train,f1_scores_val)\n",
    "        \n",
    "    return W, training_loss_history, validation_loss_history\n",
    "\n",
    "def plot_graphs(train_losses,val_losses,train_f1,val_f1):\n",
    "    fig1 = plt.figure()                # Make a figure\n",
    "    ax1 = fig1.add_subplot()           # Add the new axis\n",
    "    epochs_range=list(range(1,len(train_losses)+1,1))\n",
    "    ax1.plot(epochs_range,train_f1,'--y+', label='F1 train scores')\n",
    "    ax1.plot(epochs_range,val_f1,'--g*', label='F1 val scores')\n",
    "    ax1.legend(bbox_to_anchor=(1.4, 1.05)) # move legend\n",
    "    plt.xlabel(\"Epochs\")\n",
    "    plt.ylabel(\"F1 score\")\n",
    "    ax2 = ax1.twinx()                  # new Y axis\n",
    "    ax2.plot(epochs_range,train_losses,'r', label='training Loss')\n",
    "    ax2.plot(epochs_range,val_losses,'b-', label='validation Loss')\n",
    "    plt.ylabel(\"Categorical Loss\")\n",
    "    plt.legend(bbox_to_anchor=(1.4, 0.15))\n",
    "    plt.title(\"Loss and F1 score after each epoch\")\n",
    "    plt.show()\n",
    "\n",
    "end1=time.time()"
   ]
  },
  {
   "cell_type": "markdown",
   "metadata": {
    "id": "fN0eVxnCZOpH"
   },
   "source": [
    "Now you are ready to train and evaluate your neural net. First, you need to define your network using the `network_weights` function followed by SGD with backprop:"
   ]
  },
  {
   "cell_type": "code",
   "execution_count": 25,
   "metadata": {
    "colab": {
     "base_uri": "https://localhost:8080/",
     "height": 1000
    },
    "id": "XCrl4SGrZOpI",
    "outputId": "78a2e5eb-7f38-4b11-f4a1-b595b1cc5086"
   },
   "outputs": [
    {
     "name": "stdout",
     "output_type": "stream",
     "text": [
      "The best parameters for Dev Loss 0.244 computed over validation data is, lr=0.0100, dropout=0.4, embd_dim=500.0\n"
     ]
    },
    {
     "data": {
      "text/html": [
       "<div>\n",
       "<style scoped>\n",
       "    .dataframe tbody tr th:only-of-type {\n",
       "        vertical-align: middle;\n",
       "    }\n",
       "\n",
       "    .dataframe tbody tr th {\n",
       "        vertical-align: top;\n",
       "    }\n",
       "\n",
       "    .dataframe thead th {\n",
       "        text-align: right;\n",
       "    }\n",
       "</style>\n",
       "<table border=\"1\" class=\"dataframe\">\n",
       "  <thead>\n",
       "    <tr style=\"text-align: right;\">\n",
       "      <th></th>\n",
       "      <th>Dev Loss</th>\n",
       "      <th>F1 score</th>\n",
       "      <th>Learning Rate</th>\n",
       "      <th>Dropout Rate</th>\n",
       "      <th>Dimension</th>\n",
       "    </tr>\n",
       "  </thead>\n",
       "  <tbody>\n",
       "    <tr>\n",
       "      <th>0</th>\n",
       "      <td>1.040169</td>\n",
       "      <td>0.535594</td>\n",
       "      <td>0.001000</td>\n",
       "      <td>0.3</td>\n",
       "      <td>50.0</td>\n",
       "    </tr>\n",
       "    <tr>\n",
       "      <th>1</th>\n",
       "      <td>0.945851</td>\n",
       "      <td>0.719854</td>\n",
       "      <td>0.001000</td>\n",
       "      <td>0.3</td>\n",
       "      <td>150.0</td>\n",
       "    </tr>\n",
       "    <tr>\n",
       "      <th>2</th>\n",
       "      <td>0.835579</td>\n",
       "      <td>0.791490</td>\n",
       "      <td>0.001000</td>\n",
       "      <td>0.3</td>\n",
       "      <td>300.0</td>\n",
       "    </tr>\n",
       "    <tr>\n",
       "      <th>3</th>\n",
       "      <td>0.741842</td>\n",
       "      <td>0.806853</td>\n",
       "      <td>0.001000</td>\n",
       "      <td>0.3</td>\n",
       "      <td>500.0</td>\n",
       "    </tr>\n",
       "    <tr>\n",
       "      <th>4</th>\n",
       "      <td>1.021475</td>\n",
       "      <td>0.456891</td>\n",
       "      <td>0.001000</td>\n",
       "      <td>0.4</td>\n",
       "      <td>50.0</td>\n",
       "    </tr>\n",
       "    <tr>\n",
       "      <th>5</th>\n",
       "      <td>0.933887</td>\n",
       "      <td>0.699621</td>\n",
       "      <td>0.001000</td>\n",
       "      <td>0.4</td>\n",
       "      <td>150.0</td>\n",
       "    </tr>\n",
       "    <tr>\n",
       "      <th>6</th>\n",
       "      <td>0.836870</td>\n",
       "      <td>0.745719</td>\n",
       "      <td>0.001000</td>\n",
       "      <td>0.4</td>\n",
       "      <td>300.0</td>\n",
       "    </tr>\n",
       "    <tr>\n",
       "      <th>7</th>\n",
       "      <td>0.730556</td>\n",
       "      <td>0.846531</td>\n",
       "      <td>0.001000</td>\n",
       "      <td>0.4</td>\n",
       "      <td>500.0</td>\n",
       "    </tr>\n",
       "    <tr>\n",
       "      <th>8</th>\n",
       "      <td>1.038539</td>\n",
       "      <td>0.582306</td>\n",
       "      <td>0.001000</td>\n",
       "      <td>0.5</td>\n",
       "      <td>50.0</td>\n",
       "    </tr>\n",
       "    <tr>\n",
       "      <th>9</th>\n",
       "      <td>0.940053</td>\n",
       "      <td>0.725405</td>\n",
       "      <td>0.001000</td>\n",
       "      <td>0.5</td>\n",
       "      <td>150.0</td>\n",
       "    </tr>\n",
       "    <tr>\n",
       "      <th>10</th>\n",
       "      <td>0.815347</td>\n",
       "      <td>0.785601</td>\n",
       "      <td>0.001000</td>\n",
       "      <td>0.5</td>\n",
       "      <td>300.0</td>\n",
       "    </tr>\n",
       "    <tr>\n",
       "      <th>11</th>\n",
       "      <td>0.705290</td>\n",
       "      <td>0.807441</td>\n",
       "      <td>0.001000</td>\n",
       "      <td>0.5</td>\n",
       "      <td>500.0</td>\n",
       "    </tr>\n",
       "    <tr>\n",
       "      <th>12</th>\n",
       "      <td>0.610165</td>\n",
       "      <td>0.846977</td>\n",
       "      <td>0.003162</td>\n",
       "      <td>0.3</td>\n",
       "      <td>50.0</td>\n",
       "    </tr>\n",
       "    <tr>\n",
       "      <th>13</th>\n",
       "      <td>0.479151</td>\n",
       "      <td>0.867345</td>\n",
       "      <td>0.003162</td>\n",
       "      <td>0.3</td>\n",
       "      <td>150.0</td>\n",
       "    </tr>\n",
       "    <tr>\n",
       "      <th>14</th>\n",
       "      <td>0.426300</td>\n",
       "      <td>0.888117</td>\n",
       "      <td>0.003162</td>\n",
       "      <td>0.3</td>\n",
       "      <td>300.0</td>\n",
       "    </tr>\n",
       "    <tr>\n",
       "      <th>15</th>\n",
       "      <td>0.369284</td>\n",
       "      <td>0.887464</td>\n",
       "      <td>0.003162</td>\n",
       "      <td>0.3</td>\n",
       "      <td>500.0</td>\n",
       "    </tr>\n",
       "    <tr>\n",
       "      <th>16</th>\n",
       "      <td>0.606607</td>\n",
       "      <td>0.879828</td>\n",
       "      <td>0.003162</td>\n",
       "      <td>0.4</td>\n",
       "      <td>50.0</td>\n",
       "    </tr>\n",
       "    <tr>\n",
       "      <th>17</th>\n",
       "      <td>0.483769</td>\n",
       "      <td>0.853969</td>\n",
       "      <td>0.003162</td>\n",
       "      <td>0.4</td>\n",
       "      <td>150.0</td>\n",
       "    </tr>\n",
       "    <tr>\n",
       "      <th>18</th>\n",
       "      <td>0.425016</td>\n",
       "      <td>0.867404</td>\n",
       "      <td>0.003162</td>\n",
       "      <td>0.4</td>\n",
       "      <td>300.0</td>\n",
       "    </tr>\n",
       "    <tr>\n",
       "      <th>19</th>\n",
       "      <td>0.379448</td>\n",
       "      <td>0.888251</td>\n",
       "      <td>0.003162</td>\n",
       "      <td>0.4</td>\n",
       "      <td>500.0</td>\n",
       "    </tr>\n",
       "    <tr>\n",
       "      <th>20</th>\n",
       "      <td>0.654894</td>\n",
       "      <td>0.859064</td>\n",
       "      <td>0.003162</td>\n",
       "      <td>0.5</td>\n",
       "      <td>50.0</td>\n",
       "    </tr>\n",
       "    <tr>\n",
       "      <th>21</th>\n",
       "      <td>0.471735</td>\n",
       "      <td>0.887073</td>\n",
       "      <td>0.003162</td>\n",
       "      <td>0.5</td>\n",
       "      <td>150.0</td>\n",
       "    </tr>\n",
       "    <tr>\n",
       "      <th>22</th>\n",
       "      <td>0.389870</td>\n",
       "      <td>0.887621</td>\n",
       "      <td>0.003162</td>\n",
       "      <td>0.5</td>\n",
       "      <td>300.0</td>\n",
       "    </tr>\n",
       "    <tr>\n",
       "      <th>23</th>\n",
       "      <td>0.351381</td>\n",
       "      <td>0.874694</td>\n",
       "      <td>0.003162</td>\n",
       "      <td>0.5</td>\n",
       "      <td>500.0</td>\n",
       "    </tr>\n",
       "    <tr>\n",
       "      <th>24</th>\n",
       "      <td>0.254143</td>\n",
       "      <td>0.907594</td>\n",
       "      <td>0.010000</td>\n",
       "      <td>0.3</td>\n",
       "      <td>50.0</td>\n",
       "    </tr>\n",
       "    <tr>\n",
       "      <th>25</th>\n",
       "      <td>0.254969</td>\n",
       "      <td>0.888036</td>\n",
       "      <td>0.010000</td>\n",
       "      <td>0.3</td>\n",
       "      <td>150.0</td>\n",
       "    </tr>\n",
       "    <tr>\n",
       "      <th>26</th>\n",
       "      <td>0.270090</td>\n",
       "      <td>0.920787</td>\n",
       "      <td>0.010000</td>\n",
       "      <td>0.3</td>\n",
       "      <td>300.0</td>\n",
       "    </tr>\n",
       "    <tr>\n",
       "      <th>27</th>\n",
       "      <td>0.282015</td>\n",
       "      <td>0.887830</td>\n",
       "      <td>0.010000</td>\n",
       "      <td>0.3</td>\n",
       "      <td>500.0</td>\n",
       "    </tr>\n",
       "    <tr>\n",
       "      <th>28</th>\n",
       "      <td>0.252780</td>\n",
       "      <td>0.907865</td>\n",
       "      <td>0.010000</td>\n",
       "      <td>0.4</td>\n",
       "      <td>50.0</td>\n",
       "    </tr>\n",
       "    <tr>\n",
       "      <th>29</th>\n",
       "      <td>0.257501</td>\n",
       "      <td>0.907643</td>\n",
       "      <td>0.010000</td>\n",
       "      <td>0.4</td>\n",
       "      <td>150.0</td>\n",
       "    </tr>\n",
       "    <tr>\n",
       "      <th>30</th>\n",
       "      <td>0.275758</td>\n",
       "      <td>0.907594</td>\n",
       "      <td>0.010000</td>\n",
       "      <td>0.4</td>\n",
       "      <td>300.0</td>\n",
       "    </tr>\n",
       "    <tr>\n",
       "      <th>31</th>\n",
       "      <td>0.243885</td>\n",
       "      <td>0.920722</td>\n",
       "      <td>0.010000</td>\n",
       "      <td>0.4</td>\n",
       "      <td>500.0</td>\n",
       "    </tr>\n",
       "    <tr>\n",
       "      <th>32</th>\n",
       "      <td>0.276212</td>\n",
       "      <td>0.907865</td>\n",
       "      <td>0.010000</td>\n",
       "      <td>0.5</td>\n",
       "      <td>50.0</td>\n",
       "    </tr>\n",
       "    <tr>\n",
       "      <th>33</th>\n",
       "      <td>0.270231</td>\n",
       "      <td>0.894696</td>\n",
       "      <td>0.010000</td>\n",
       "      <td>0.5</td>\n",
       "      <td>150.0</td>\n",
       "    </tr>\n",
       "    <tr>\n",
       "      <th>34</th>\n",
       "      <td>0.283587</td>\n",
       "      <td>0.901245</td>\n",
       "      <td>0.010000</td>\n",
       "      <td>0.5</td>\n",
       "      <td>300.0</td>\n",
       "    </tr>\n",
       "    <tr>\n",
       "      <th>35</th>\n",
       "      <td>0.277404</td>\n",
       "      <td>0.901367</td>\n",
       "      <td>0.010000</td>\n",
       "      <td>0.5</td>\n",
       "      <td>500.0</td>\n",
       "    </tr>\n",
       "  </tbody>\n",
       "</table>\n",
       "</div>"
      ],
      "text/plain": [
       "    Dev Loss  F1 score  Learning Rate  Dropout Rate  Dimension\n",
       "0   1.040169  0.535594       0.001000           0.3       50.0\n",
       "1   0.945851  0.719854       0.001000           0.3      150.0\n",
       "2   0.835579  0.791490       0.001000           0.3      300.0\n",
       "3   0.741842  0.806853       0.001000           0.3      500.0\n",
       "4   1.021475  0.456891       0.001000           0.4       50.0\n",
       "5   0.933887  0.699621       0.001000           0.4      150.0\n",
       "6   0.836870  0.745719       0.001000           0.4      300.0\n",
       "7   0.730556  0.846531       0.001000           0.4      500.0\n",
       "8   1.038539  0.582306       0.001000           0.5       50.0\n",
       "9   0.940053  0.725405       0.001000           0.5      150.0\n",
       "10  0.815347  0.785601       0.001000           0.5      300.0\n",
       "11  0.705290  0.807441       0.001000           0.5      500.0\n",
       "12  0.610165  0.846977       0.003162           0.3       50.0\n",
       "13  0.479151  0.867345       0.003162           0.3      150.0\n",
       "14  0.426300  0.888117       0.003162           0.3      300.0\n",
       "15  0.369284  0.887464       0.003162           0.3      500.0\n",
       "16  0.606607  0.879828       0.003162           0.4       50.0\n",
       "17  0.483769  0.853969       0.003162           0.4      150.0\n",
       "18  0.425016  0.867404       0.003162           0.4      300.0\n",
       "19  0.379448  0.888251       0.003162           0.4      500.0\n",
       "20  0.654894  0.859064       0.003162           0.5       50.0\n",
       "21  0.471735  0.887073       0.003162           0.5      150.0\n",
       "22  0.389870  0.887621       0.003162           0.5      300.0\n",
       "23  0.351381  0.874694       0.003162           0.5      500.0\n",
       "24  0.254143  0.907594       0.010000           0.3       50.0\n",
       "25  0.254969  0.888036       0.010000           0.3      150.0\n",
       "26  0.270090  0.920787       0.010000           0.3      300.0\n",
       "27  0.282015  0.887830       0.010000           0.3      500.0\n",
       "28  0.252780  0.907865       0.010000           0.4       50.0\n",
       "29  0.257501  0.907643       0.010000           0.4      150.0\n",
       "30  0.275758  0.907594       0.010000           0.4      300.0\n",
       "31  0.243885  0.920722       0.010000           0.4      500.0\n",
       "32  0.276212  0.907865       0.010000           0.5       50.0\n",
       "33  0.270231  0.894696       0.010000           0.5      150.0\n",
       "34  0.283587  0.901245       0.010000           0.5      300.0\n",
       "35  0.277404  0.901367       0.010000           0.5      500.0"
      ]
     },
     "execution_count": 25,
     "metadata": {},
     "output_type": "execute_result"
    }
   ],
   "source": [
    "lr_options=np.logspace(start=-3,stop=-2,num=3)\n",
    "dropout_opts=np.linspace(start=0.3,stop=0.5,num=3)\n",
    "dim_opts=[50,150,300,500]\n",
    "# A matrix to store info for each option\n",
    "scores_matrix1= np.empty(shape=(len(lr_options)*len(dropout_opts)*len(dim_opts), 5)) \n",
    "index=0 # index for above matrix\n",
    "for i in lr_options:\n",
    "    for j in dropout_opts:\n",
    "        for k in dim_opts:\n",
    "            W1_init = network_weights(vocab_size=len(vocabulary),embedding_dim=k,\n",
    "                    hidden_dim=[], num_classes=3)\n",
    "            w, tl, dl = SGD(train_index_doc, Y_train, W1_init,\n",
    "                            X_dev=dev_index_doc, \n",
    "                            Y_dev=Y_dev,\n",
    "                            lr=i, dropout=j,\n",
    "                            freeze_emb=False,\n",
    "                            tolerance=1e-04,\n",
    "                            epochs=10)\n",
    "            preds_de = [(forward_pass(x, w, dropout_rate=0.0)['y']) \n",
    "                for x,y in zip(dev_index_doc,labels_dev)]\n",
    "            f1_measure= f1_score(labels_dev,preds_de,average='macro')\n",
    "            scores_matrix1[index,:]= dl[-1], f1_measure, i, j, k   # loss in last epoch, f1 score, lr, dropout, dimension\n",
    "            index+= 1\n",
    "best_params=scores_matrix1[np.argmin(scores_matrix1,axis=0)[0]]    # lowest Cross Entropy loss after 10 epochs\n",
    "lowest_CE_loss = best_params[0]                                     # loss value\n",
    "best_lr1= best_params[2]                                    #best learning rate\n",
    "best_dropout1= best_params[3]                               #best dropout rate\n",
    "best_dim1= best_params[4]                                   #best embedding dimension\n",
    "\n",
    "print('The best parameters for Dev Loss {:.3f} computed over validation data is, lr={:.4f}, dropout={}, embd_dim={}'\n",
    "      .format(lowest_CE_loss,(best_lr1),best_dropout1,best_dim1))\n",
    "pd.DataFrame(scores_matrix1, columns = ['Dev Loss','F1 score', 'Learning Rate', 'Dropout Rate','Dimension'])"
   ]
  },
  {
   "cell_type": "code",
   "execution_count": 26,
   "metadata": {
    "colab": {
     "base_uri": "https://localhost:8080/",
     "height": 677
    },
    "id": "Iol5NJvlZOpI",
    "outputId": "fd88d99a-0455-4b68-a0fe-8518c55cd6c5"
   },
   "outputs": [
    {
     "name": "stdout",
     "output_type": "stream",
     "text": [
      "Shape W0 (8931, 500)\n",
      "Shape W1 (500, 3)\n",
      "Epoch 1 | Training loss: 0.920 | Validation loss: 0.700 | Train F1 score: 0.88 |\n",
      "            Val F1 score: 0.87 | Forward pass time:0.511s | Backwardward pass time:1.442s |\n",
      "            Total time for epoch:1.953s\n",
      "Epoch 2 | Training loss: 0.635 | Validation loss: 0.492 | Train F1 score: 0.92 |\n",
      "            Val F1 score: 0.88 | Forward pass time:0.473s | Backwardward pass time:1.258s |\n",
      "            Total time for epoch:1.731s\n",
      "Epoch 3 | Training loss: 0.467 | Validation loss: 0.384 | Train F1 score: 0.93 |\n",
      "            Val F1 score: 0.89 | Forward pass time:0.460s | Backwardward pass time:1.368s |\n",
      "            Total time for epoch:1.828s\n",
      "Epoch 4 | Training loss: 0.364 | Validation loss: 0.333 | Train F1 score: 0.95 |\n",
      "            Val F1 score: 0.90 | Forward pass time:0.447s | Backwardward pass time:1.382s |\n",
      "            Total time for epoch:1.830s\n",
      "Epoch 5 | Training loss: 0.295 | Validation loss: 0.295 | Train F1 score: 0.96 |\n",
      "            Val F1 score: 0.91 | Forward pass time:0.480s | Backwardward pass time:1.341s |\n",
      "            Total time for epoch:1.821s\n",
      "Epoch 6 | Training loss: 0.241 | Validation loss: 0.278 | Train F1 score: 0.96 |\n",
      "            Val F1 score: 0.91 | Forward pass time:0.448s | Backwardward pass time:1.267s |\n",
      "            Total time for epoch:1.714s\n",
      "Epoch 7 | Training loss: 0.206 | Validation loss: 0.265 | Train F1 score: 0.97 |\n",
      "            Val F1 score: 0.91 | Forward pass time:0.463s | Backwardward pass time:1.423s |\n",
      "            Total time for epoch:1.886s\n",
      "Epoch 8 | Training loss: 0.175 | Validation loss: 0.253 | Train F1 score: 0.98 |\n",
      "            Val F1 score: 0.91 | Forward pass time:0.474s | Backwardward pass time:1.234s |\n",
      "            Total time for epoch:1.708s\n",
      "Epoch 9 | Training loss: 0.151 | Validation loss: 0.254 | Train F1 score: 0.98 |\n",
      "            Val F1 score: 0.91 | Forward pass time:0.518s | Backwardward pass time:1.251s |\n",
      "            Total time for epoch:1.769s\n",
      "Epoch 10 | Training loss: 0.130 | Validation loss: 0.248 | Train F1 score: 0.99 |\n",
      "            Val F1 score: 0.91 | Forward pass time:0.445s | Backwardward pass time:1.267s |\n",
      "            Total time for epoch:1.712s\n"
     ]
    },
    {
     "data": {
      "image/png": "[encoded data removed]",
      "text/plain": [
       "<Figure size 432x288 with 2 Axes>"
      ]
     },
     "metadata": {
      "needs_background": "light"
     },
     "output_type": "display_data"
    }
   ],
   "source": [
    "W1_init = network_weights(vocab_size=len(vocabulary),embedding_dim=int(best_dim1),\n",
    "                    hidden_dim=[], num_classes=3)\n",
    "for i in range(len(W1_init)):\n",
    "    print('Shape W'+str(i), W1_init[i].shape)\n",
    "\n",
    "W1, loss_tr1, dev_loss1 = SGD(train_index_doc, Y_train,\n",
    "                            W1_init,\n",
    "                            X_dev=dev_index_doc, \n",
    "                            Y_dev=Y_dev,\n",
    "                            lr=best_lr1, \n",
    "                            dropout=best_dropout1,\n",
    "                            freeze_emb=False,\n",
    "                            tolerance=1e-04,\n",
    "                            print_progress=True,\n",
    "                            epochs=10,\n",
    "                            plot_fig=True)\n"
   ]
  },
  {
   "cell_type": "code",
   "execution_count": 27,
   "metadata": {
    "colab": {
     "base_uri": "https://localhost:8080/",
     "height": 295
    },
    "id": "jIlj6-n9ZOpJ",
    "outputId": "9eb3e929-fa8e-46cd-9cc4-7773a35053c3"
   },
   "outputs": [
    {
     "data": {
      "image/png": "[encoded data removed]",
      "text/plain": [
       "<Figure size 432x288 with 1 Axes>"
      ]
     },
     "metadata": {
      "needs_background": "light"
     },
     "output_type": "display_data"
    }
   ],
   "source": [
    "def plot_graph(train_losses,dev_losses):\n",
    "    epochs_list=list(range(1,len(train_losses)+1,1))\n",
    "    plt.plot(epochs_list, train_losses,'r-', label='training loss')\n",
    "    plt.plot(epochs_list, dev_losses,'b', label='development loss')\n",
    "    plt.xlabel(\"Epochs\")\n",
    "    plt.ylabel(\"Categorical CE Loss\") \n",
    "    plt.title(\"Epoch vs Loss\")\n",
    "    plt.legend()\n",
    "    plt.show()\n",
    "\n",
    "plot_graph(loss_tr1,dev_loss1)"
   ]
  },
  {
   "cell_type": "markdown",
   "metadata": {
    "id": "aBFkxJKXZOpJ"
   },
   "source": [
    "As per the plot of training and develpoment losses history above, it can be noted that the loss after 10 epochs for trainset is a lot lower than devset. Because the loss for training set is lower than that of losses of developement set, we say that the model is overfitting as the learned parameters are favouring training data. If the development loss was nearly equal to training loss, the model would have been a good fit. Also, the accuracy score of the model on train data is 99% while on development data, its around 91%, so we can say that the model is overfitting."
   ]
  },
  {
   "cell_type": "code",
   "execution_count": 28,
   "metadata": {
    "id": "IPsMvdfGZOpJ"
   },
   "outputs": [],
   "source": [
    "def compute_scores(X_test,y_test,W):\n",
    "    preds_te = [(forward_pass(x, W, dropout_rate=0.0)['y']) \n",
    "            for x,y in zip(X_test,y_test)]\n",
    "    a=accuracy_score(labels_test,preds_te)*100\n",
    "    p=precision_score(labels_test,preds_te,average='macro')\n",
    "    r=recall_score(labels_test,preds_te,average='macro')\n",
    "    f=f1_score(labels_test,preds_te,average='macro')\n",
    "    return a,p,r,f"
   ]
  },
  {
   "cell_type": "markdown",
   "metadata": {
    "id": "VBBHJpTTZOpJ"
   },
   "source": [
    "Compute accuracy, precision, recall and F1-Score:"
   ]
  },
  {
   "cell_type": "code",
   "execution_count": 29,
   "metadata": {
    "colab": {
     "base_uri": "https://localhost:8080/"
    },
    "id": "3gjMtbpjZOpK",
    "outputId": "509d328e-714e-4554-9e70-562fb52805f7",
    "scrolled": true
   },
   "outputs": [
    {
     "name": "stdout",
     "output_type": "stream",
     "text": [
      "Evaluation metrics for test data\n",
      "Accuracy: 0.8588888888888889\n",
      "Precision: 0.8614034286106286\n",
      "Recall: 0.8588888888888889\n",
      "F1-Score: 0.8587680521455766\n"
     ]
    }
   ],
   "source": [
    "preds_te = [(forward_pass(x, W1, dropout_rate=0.0)['y']) \n",
    "            for x,y in zip(test_index_doc,labels_test)]\n",
    "\n",
    "print(\"Evaluation metrics for test data\")\n",
    "print('Accuracy:', accuracy_score(labels_test,preds_te))\n",
    "print('Precision:', precision_score(labels_test,preds_te,average='macro'))\n",
    "print('Recall:', recall_score(labels_test,preds_te,average='macro'))\n",
    "print('F1-Score:', f1_score(labels_test,preds_te,average='macro'))\n",
    "scores= np.zeros(shape=(3,4))\n",
    "scores[0,:]=compute_scores(test_index_doc,labels_test,W1)"
   ]
  },
  {
   "cell_type": "markdown",
   "metadata": {
    "id": "YIPUk5haZOpL"
   },
   "source": [
    "### Discuss how did you choose model hyperparameters ? "
   ]
  },
  {
   "cell_type": "markdown",
   "metadata": {
    "id": "UB7KaJrFUNuS"
   },
   "source": [
    "At first, a wide range of values were chosen(1x10^-9 to 0.1) for learning rate, values from (0.1 to 0.9) for dropout rate and values in multiple of 50 for embedding dimension. Based on initial runs, the sweet spot was noted and the range of values were toned down narrowly such that the computation time remained low. The number of epochs for hyperparamter tuning was kept the same at 10 epochs.\n",
    "\n",
    "For the above model, the selection of hyperparameters was made using the lowest binary loss in last epoch. Later the best learning rate, dropout percentage and embedding dimension were chosen from possible values and the model was again trained to print the progress, plot graphs and find the accuracy metrics."
   ]
  },
  {
   "cell_type": "markdown",
   "metadata": {
    "id": "aVubNe9oZOpM"
   },
   "source": [
    "# Use Pre-trained Embeddings\n",
    "\n",
    "Now re-train the network using GloVe pre-trained embeddings. You need to modify the `backward_pass` function above to stop computing gradients and updating weights of the embedding matrix.\n",
    "\n",
    "Use the function below to obtain the embedding martix for your vocabulary. Generally, that should work without any problem. If you get errors, you can modify it."
   ]
  },
  {
   "cell_type": "code",
   "execution_count": 30,
   "metadata": {
    "id": "uXKNekUCZOpM"
   },
   "outputs": [],
   "source": [
    "start2=time.time()\n",
    "\n",
    "def get_glove_embeddings(f_zip, f_txt, word2id, emb_size=300):\n",
    "    \n",
    "    w_emb = np.zeros((len(word2id), emb_size))\n",
    "    \n",
    "    with zipfile.ZipFile(f_zip) as z:\n",
    "        with z.open(f_txt) as f:\n",
    "            for line in f:\n",
    "                line = line.decode('utf-8')\n",
    "                word = line.split()[0]\n",
    "                     \n",
    "                if word in vocabulary:\n",
    "                    emb = np.array(line.strip('\\n').split()[1:]).astype(np.float32)\n",
    "                    w_emb[word2id[word]] +=emb\n",
    "    return w_emb\n",
    "\n",
    "w_glove = get_glove_embeddings(\"Assignment 2/glove.840B.300d.zip\",\"glove.840B.300d.txt\",word2id)\n",
    "end2=time.time()"
   ]
  },
  {
   "cell_type": "markdown",
   "metadata": {
    "id": "DP-sqcSmZOpM"
   },
   "source": [
    "First, initialise the weights of your network using the `network_weights` function. Second, replace the weigths of the embedding matrix with `w_glove`. Finally, train the network by freezing the embedding weights: "
   ]
  },
  {
   "cell_type": "code",
   "execution_count": 31,
   "metadata": {
    "colab": {
     "base_uri": "https://localhost:8080/",
     "height": 568
    },
    "id": "KHOuuDDsZOpN",
    "outputId": "6c068559-0abc-436f-f35c-8195dd2dcafa"
   },
   "outputs": [
    {
     "name": "stdout",
     "output_type": "stream",
     "text": [
      "The best parameters for Dev Loss 0.133 computed over validation data is, lr=0.3162, dropout=0.3\n"
     ]
    },
    {
     "data": {
      "text/html": [
       "<div>\n",
       "<style scoped>\n",
       "    .dataframe tbody tr th:only-of-type {\n",
       "        vertical-align: middle;\n",
       "    }\n",
       "\n",
       "    .dataframe tbody tr th {\n",
       "        vertical-align: top;\n",
       "    }\n",
       "\n",
       "    .dataframe thead th {\n",
       "        text-align: right;\n",
       "    }\n",
       "</style>\n",
       "<table border=\"1\" class=\"dataframe\">\n",
       "  <thead>\n",
       "    <tr style=\"text-align: right;\">\n",
       "      <th></th>\n",
       "      <th>Dev Loss</th>\n",
       "      <th>F1 score</th>\n",
       "      <th>Learning Rate</th>\n",
       "      <th>Dropout Rate</th>\n",
       "    </tr>\n",
       "  </thead>\n",
       "  <tbody>\n",
       "    <tr>\n",
       "      <th>0</th>\n",
       "      <td>0.384416</td>\n",
       "      <td>0.900992</td>\n",
       "      <td>0.003162</td>\n",
       "      <td>0.2</td>\n",
       "    </tr>\n",
       "    <tr>\n",
       "      <th>1</th>\n",
       "      <td>0.383362</td>\n",
       "      <td>0.920333</td>\n",
       "      <td>0.003162</td>\n",
       "      <td>0.3</td>\n",
       "    </tr>\n",
       "    <tr>\n",
       "      <th>2</th>\n",
       "      <td>0.393747</td>\n",
       "      <td>0.906539</td>\n",
       "      <td>0.003162</td>\n",
       "      <td>0.4</td>\n",
       "    </tr>\n",
       "    <tr>\n",
       "      <th>3</th>\n",
       "      <td>0.442116</td>\n",
       "      <td>0.880889</td>\n",
       "      <td>0.003162</td>\n",
       "      <td>0.5</td>\n",
       "    </tr>\n",
       "    <tr>\n",
       "      <th>4</th>\n",
       "      <td>0.211729</td>\n",
       "      <td>0.946768</td>\n",
       "      <td>0.014678</td>\n",
       "      <td>0.2</td>\n",
       "    </tr>\n",
       "    <tr>\n",
       "      <th>5</th>\n",
       "      <td>0.224112</td>\n",
       "      <td>0.933704</td>\n",
       "      <td>0.014678</td>\n",
       "      <td>0.3</td>\n",
       "    </tr>\n",
       "    <tr>\n",
       "      <th>6</th>\n",
       "      <td>0.199420</td>\n",
       "      <td>0.940241</td>\n",
       "      <td>0.014678</td>\n",
       "      <td>0.4</td>\n",
       "    </tr>\n",
       "    <tr>\n",
       "      <th>7</th>\n",
       "      <td>0.220169</td>\n",
       "      <td>0.933135</td>\n",
       "      <td>0.014678</td>\n",
       "      <td>0.5</td>\n",
       "    </tr>\n",
       "    <tr>\n",
       "      <th>8</th>\n",
       "      <td>0.171153</td>\n",
       "      <td>0.933909</td>\n",
       "      <td>0.068129</td>\n",
       "      <td>0.2</td>\n",
       "    </tr>\n",
       "    <tr>\n",
       "      <th>9</th>\n",
       "      <td>0.143826</td>\n",
       "      <td>0.946923</td>\n",
       "      <td>0.068129</td>\n",
       "      <td>0.3</td>\n",
       "    </tr>\n",
       "    <tr>\n",
       "      <th>10</th>\n",
       "      <td>0.155041</td>\n",
       "      <td>0.953709</td>\n",
       "      <td>0.068129</td>\n",
       "      <td>0.4</td>\n",
       "    </tr>\n",
       "    <tr>\n",
       "      <th>11</th>\n",
       "      <td>0.150635</td>\n",
       "      <td>0.940064</td>\n",
       "      <td>0.068129</td>\n",
       "      <td>0.5</td>\n",
       "    </tr>\n",
       "    <tr>\n",
       "      <th>12</th>\n",
       "      <td>0.236328</td>\n",
       "      <td>0.913683</td>\n",
       "      <td>0.316228</td>\n",
       "      <td>0.2</td>\n",
       "    </tr>\n",
       "    <tr>\n",
       "      <th>13</th>\n",
       "      <td>0.133250</td>\n",
       "      <td>0.953131</td>\n",
       "      <td>0.316228</td>\n",
       "      <td>0.3</td>\n",
       "    </tr>\n",
       "    <tr>\n",
       "      <th>14</th>\n",
       "      <td>0.172014</td>\n",
       "      <td>0.914153</td>\n",
       "      <td>0.316228</td>\n",
       "      <td>0.4</td>\n",
       "    </tr>\n",
       "    <tr>\n",
       "      <th>15</th>\n",
       "      <td>0.199052</td>\n",
       "      <td>0.927237</td>\n",
       "      <td>0.316228</td>\n",
       "      <td>0.5</td>\n",
       "    </tr>\n",
       "  </tbody>\n",
       "</table>\n",
       "</div>"
      ],
      "text/plain": [
       "    Dev Loss  F1 score  Learning Rate  Dropout Rate\n",
       "0   0.384416  0.900992       0.003162           0.2\n",
       "1   0.383362  0.920333       0.003162           0.3\n",
       "2   0.393747  0.906539       0.003162           0.4\n",
       "3   0.442116  0.880889       0.003162           0.5\n",
       "4   0.211729  0.946768       0.014678           0.2\n",
       "5   0.224112  0.933704       0.014678           0.3\n",
       "6   0.199420  0.940241       0.014678           0.4\n",
       "7   0.220169  0.933135       0.014678           0.5\n",
       "8   0.171153  0.933909       0.068129           0.2\n",
       "9   0.143826  0.946923       0.068129           0.3\n",
       "10  0.155041  0.953709       0.068129           0.4\n",
       "11  0.150635  0.940064       0.068129           0.5\n",
       "12  0.236328  0.913683       0.316228           0.2\n",
       "13  0.133250  0.953131       0.316228           0.3\n",
       "14  0.172014  0.914153       0.316228           0.4\n",
       "15  0.199052  0.927237       0.316228           0.5"
      ]
     },
     "execution_count": 31,
     "metadata": {},
     "output_type": "execute_result"
    }
   ],
   "source": [
    "lr_options=np.logspace(start=-2.5,stop=-0.5,num=4)\n",
    "dropout_opts=np.linspace(start=0.2,stop=0.5,num=4)\n",
    "scores_matrix2= np.empty(shape=(len(lr_options)*len(dropout_opts), 4)) # A matrix to store info for each option\n",
    "index=0 # index for above matrix\n",
    "for i in lr_options:\n",
    "    for j in dropout_opts:\n",
    "        W2_init = network_weights(vocab_size=len(vocabulary),embedding_dim=300,\n",
    "                    hidden_dim=[], num_classes=3)\n",
    "        W2_init[0]=w_glove # replace the weigths of the embedding matrix with w_glove\n",
    "        w, tl, dl = SGD(train_index_doc, Y_train, W2_init,\n",
    "                            X_dev=dev_index_doc, \n",
    "                            Y_dev=Y_dev,\n",
    "                            lr=i, dropout=j,\n",
    "                            freeze_emb=True,\n",
    "                            tolerance=1e-04,\n",
    "                            epochs=10)\n",
    "        preds_de = [(forward_pass(x, w, dropout_rate=0.0)['y']) \n",
    "            for x,y in zip(dev_index_doc,labels_dev)]\n",
    "        f1_measure= f1_score(labels_dev,preds_de,average='macro')\n",
    "        scores_matrix2[index,:]= dl[-1], f1_measure, i, j   # loss in last epoch, f1 score, lr, dropout\n",
    "        index+= 1\n",
    "        \n",
    "best_params=scores_matrix2[np.argmin(scores_matrix2 ,axis=0)[0]]    # lowest Cross Entropy loss after 10 epochs\n",
    "lowest_CE_loss = best_params[0]                                     #loss value\n",
    "best_lr2= best_params[2]                                    #best learning rate\n",
    "best_dropout2= best_params[3]                                    #best dropout rate\n",
    "\n",
    "print('The best parameters for Dev Loss {:.3f} computed over validation data is, lr={:.4f}, dropout={}'\n",
    "      .format(lowest_CE_loss,(best_lr2),best_dropout2))\n",
    "pd.DataFrame(scores_matrix2, columns = ['Dev Loss','F1 score', 'Learning Rate', 'Dropout Rate'])"
   ]
  },
  {
   "cell_type": "code",
   "execution_count": 32,
   "metadata": {
    "colab": {
     "base_uri": "https://localhost:8080/",
     "height": 677
    },
    "id": "bDvD-MnmZOpN",
    "outputId": "0541bcef-2b73-4afd-d6bd-874d5464a20d"
   },
   "outputs": [
    {
     "name": "stdout",
     "output_type": "stream",
     "text": [
      "Shape W0 (8931, 300)\n",
      "Shape W1 (300, 3)\n",
      "Epoch 1 | Training loss: 0.499 | Validation loss: 0.205 | Train F1 score: 0.90 |\n",
      "            Val F1 score: 0.93 | Forward pass time:0.530s | Backwardward pass time:0.852s |\n",
      "            Total time for epoch:1.382s\n",
      "Epoch 2 | Training loss: 0.377 | Validation loss: 0.139 | Train F1 score: 0.91 |\n",
      "            Val F1 score: 0.95 | Forward pass time:0.452s | Backwardward pass time:0.705s |\n",
      "            Total time for epoch:1.157s\n",
      "Epoch 3 | Training loss: 0.372 | Validation loss: 0.232 | Train F1 score: 0.88 |\n",
      "            Val F1 score: 0.92 | Forward pass time:0.508s | Backwardward pass time:0.786s |\n",
      "            Total time for epoch:1.294s\n",
      "Epoch 4 | Training loss: 0.361 | Validation loss: 0.152 | Train F1 score: 0.92 |\n",
      "            Val F1 score: 0.95 | Forward pass time:0.406s | Backwardward pass time:0.595s |\n",
      "            Total time for epoch:1.001s\n",
      "Epoch 5 | Training loss: 0.359 | Validation loss: 0.140 | Train F1 score: 0.92 |\n",
      "            Val F1 score: 0.95 | Forward pass time:0.463s | Backwardward pass time:0.667s |\n",
      "            Total time for epoch:1.130s\n",
      "Epoch 6 | Training loss: 0.343 | Validation loss: 0.155 | Train F1 score: 0.92 |\n",
      "            Val F1 score: 0.95 | Forward pass time:0.405s | Backwardward pass time:0.565s |\n",
      "            Total time for epoch:0.971s\n",
      "Epoch 7 | Training loss: 0.351 | Validation loss: 0.146 | Train F1 score: 0.92 |\n",
      "            Val F1 score: 0.94 | Forward pass time:0.361s | Backwardward pass time:0.614s |\n",
      "            Total time for epoch:0.976s\n",
      "Epoch 8 | Training loss: 0.326 | Validation loss: 0.146 | Train F1 score: 0.92 |\n",
      "            Val F1 score: 0.95 | Forward pass time:0.422s | Backwardward pass time:0.624s |\n",
      "            Total time for epoch:1.046s\n",
      "Epoch 9 | Training loss: 0.333 | Validation loss: 0.294 | Train F1 score: 0.89 |\n",
      "            Val F1 score: 0.87 | Forward pass time:0.412s | Backwardward pass time:0.640s |\n",
      "            Total time for epoch:1.052s\n",
      "Epoch 10 | Training loss: 0.339 | Validation loss: 0.177 | Train F1 score: 0.92 |\n",
      "            Val F1 score: 0.91 | Forward pass time:0.404s | Backwardward pass time:0.593s |\n",
      "            Total time for epoch:0.998s\n"
     ]
    },
    {
     "data": {
      "image/png": "[encoded data removed]",
      "text/plain": [
       "<Figure size 432x288 with 2 Axes>"
      ]
     },
     "metadata": {
      "needs_background": "light"
     },
     "output_type": "display_data"
    }
   ],
   "source": [
    "W2_init = network_weights(vocab_size=len(vocabulary),embedding_dim=300,\n",
    "                    hidden_dim=[], num_classes=3)\n",
    "W2_init[0]=w_glove\n",
    "for i in range(len(W2_init)):\n",
    "    print('Shape W'+str(i), W2_init[i].shape)\n",
    "    \n",
    "W2, loss_tr2, dev_loss2 = SGD(train_index_doc, Y_train,\n",
    "                            W2_init,\n",
    "                            X_dev=dev_index_doc, \n",
    "                            Y_dev=Y_dev,\n",
    "                            lr=best_lr2, \n",
    "                            dropout=best_dropout2,\n",
    "                            freeze_emb=True,\n",
    "                            tolerance=1e-04,\n",
    "                            print_progress=True,\n",
    "                            epochs=10,\n",
    "                            plot_fig=True)\n"
   ]
  },
  {
   "cell_type": "code",
   "execution_count": 33,
   "metadata": {
    "id": "o-nMU3DEZOpN"
   },
   "outputs": [
    {
     "data": {
      "image/png": "[encoded data removed]",
      "text/plain": [
       "<Figure size 432x288 with 1 Axes>"
      ]
     },
     "metadata": {
      "needs_background": "light"
     },
     "output_type": "display_data"
    }
   ],
   "source": [
    "plot_graph(loss_tr2,dev_loss2)"
   ]
  },
  {
   "cell_type": "markdown",
   "metadata": {},
   "source": [
    "As per the plot of training and develpoment losses history above, it can be noted that the loss after 10 epochs for trainset is higher than devset. This might be because the model already has pre-learnt weights, so the classification of data and accuracy on all datasets should be nearly same and might be determined by the extra set of weights between embedding layer and output layer. But the dropout layer in training phase causes many misclassifications and hence theres a high error in trainset, whereas for development set, the loss is calculated by using no dropout layer.  \n",
    "If the development loss was really lower than training loss, the model would have been overfitting, but this is not the case above. Hence, we can say that the model has performed expectedly and is a good fit."
   ]
  },
  {
   "cell_type": "code",
   "execution_count": 34,
   "metadata": {
    "colab": {
     "base_uri": "https://localhost:8080/"
    },
    "id": "21Lu_Kd8ZOpO",
    "outputId": "1a168d06-2a2e-491d-cb9b-d0c258fb34b7",
    "scrolled": true
   },
   "outputs": [
    {
     "name": "stdout",
     "output_type": "stream",
     "text": [
      "Evaluation metrics for test data\n",
      "Accuracy: 0.89\n",
      "Precision: 0.8896481046542432\n",
      "Recall: 0.89\n",
      "F1-Score: 0.8896999375546489\n"
     ]
    }
   ],
   "source": [
    "preds_te = [(forward_pass(x, W2, dropout_rate=0.0)['y']) \n",
    "            for x,y in zip(test_index_doc,labels_test)]\n",
    "print(\"Evaluation metrics for test data\")\n",
    "\n",
    "print('Accuracy:', accuracy_score(labels_test,preds_te))\n",
    "print('Precision:', precision_score(labels_test,preds_te,average='macro'))\n",
    "print('Recall:', recall_score(labels_test,preds_te,average='macro'))\n",
    "print('F1-Score:', f1_score(labels_test,preds_te,average='macro'))\n",
    "scores[1,:]=compute_scores(test_index_doc,labels_test,W2)"
   ]
  },
  {
   "cell_type": "markdown",
   "metadata": {
    "id": "YHDPy0A1ZOpP"
   },
   "source": [
    "### Discuss how did you choose model hyperparameters ? "
   ]
  },
  {
   "cell_type": "markdown",
   "metadata": {
    "id": "aQT1V_nUgj6_"
   },
   "source": [
    "At first, a wide range of values were chosen(1x10^-9 to 0.1) for learning rate and values from (0.1 to 0.9) for dropout rate. Based on initial runs, the sweet spot was noted and the range of values were toned down narrowly such that the computation time remained low. The number of epochs for hyperparamter tuning was kept the same at 10 epochs.\n",
    "\n",
    "For the above model, the selection of hyperparameters was made using the lowest binary loss in last epoch. Later the best learning rate and dropout percentage were chosen from possible values and the model was again trained to print the progress, plot graphs and find the accuracy metrics."
   ]
  },
  {
   "cell_type": "markdown",
   "metadata": {
    "id": "ZWm4tctNZOpP"
   },
   "source": [
    "# Extend to support deeper architectures \n",
    "\n",
    "Extend the network to support back-propagation for more hidden layers. You need to modify the `backward_pass` function above to compute gradients and update the weights between intermediate hidden layers. Finally, train and evaluate a network with a deeper architecture. Do deeper architectures increase performance?"
   ]
  },
  {
   "cell_type": "code",
   "execution_count": 35,
   "metadata": {
    "colab": {
     "base_uri": "https://localhost:8080/",
     "height": 443
    },
    "id": "EMVeQ7EGZOpP",
    "outputId": "70326425-864e-4c37-c8b5-932bdd94ae3c"
   },
   "outputs": [
    {
     "name": "stdout",
     "output_type": "stream",
     "text": [
      "The best parameters for Dev Loss 0.212 computed over validation data is, lr=0.0100, dropout=0.3\n"
     ]
    },
    {
     "data": {
      "text/html": [
       "<div>\n",
       "<style scoped>\n",
       "    .dataframe tbody tr th:only-of-type {\n",
       "        vertical-align: middle;\n",
       "    }\n",
       "\n",
       "    .dataframe tbody tr th {\n",
       "        vertical-align: top;\n",
       "    }\n",
       "\n",
       "    .dataframe thead th {\n",
       "        text-align: right;\n",
       "    }\n",
       "</style>\n",
       "<table border=\"1\" class=\"dataframe\">\n",
       "  <thead>\n",
       "    <tr style=\"text-align: right;\">\n",
       "      <th></th>\n",
       "      <th>Dev Loss</th>\n",
       "      <th>F1 score</th>\n",
       "      <th>Learning Rate</th>\n",
       "      <th>Dropout</th>\n",
       "    </tr>\n",
       "  </thead>\n",
       "  <tbody>\n",
       "    <tr>\n",
       "      <th>0</th>\n",
       "      <td>0.212475</td>\n",
       "      <td>0.932660</td>\n",
       "      <td>0.010000</td>\n",
       "      <td>0.3</td>\n",
       "    </tr>\n",
       "    <tr>\n",
       "      <th>1</th>\n",
       "      <td>1.688669</td>\n",
       "      <td>0.541312</td>\n",
       "      <td>0.010000</td>\n",
       "      <td>0.4</td>\n",
       "    </tr>\n",
       "    <tr>\n",
       "      <th>2</th>\n",
       "      <td>3.647328</td>\n",
       "      <td>0.375661</td>\n",
       "      <td>0.010000</td>\n",
       "      <td>0.5</td>\n",
       "    </tr>\n",
       "    <tr>\n",
       "      <th>3</th>\n",
       "      <td>0.342973</td>\n",
       "      <td>0.919720</td>\n",
       "      <td>0.004642</td>\n",
       "      <td>0.3</td>\n",
       "    </tr>\n",
       "    <tr>\n",
       "      <th>4</th>\n",
       "      <td>0.730853</td>\n",
       "      <td>0.926342</td>\n",
       "      <td>0.004642</td>\n",
       "      <td>0.4</td>\n",
       "    </tr>\n",
       "    <tr>\n",
       "      <th>5</th>\n",
       "      <td>5.363662</td>\n",
       "      <td>0.490208</td>\n",
       "      <td>0.004642</td>\n",
       "      <td>0.5</td>\n",
       "    </tr>\n",
       "    <tr>\n",
       "      <th>6</th>\n",
       "      <td>0.309493</td>\n",
       "      <td>0.886335</td>\n",
       "      <td>0.002154</td>\n",
       "      <td>0.3</td>\n",
       "    </tr>\n",
       "    <tr>\n",
       "      <th>7</th>\n",
       "      <td>0.927400</td>\n",
       "      <td>0.620528</td>\n",
       "      <td>0.002154</td>\n",
       "      <td>0.4</td>\n",
       "    </tr>\n",
       "    <tr>\n",
       "      <th>8</th>\n",
       "      <td>1.042223</td>\n",
       "      <td>0.500186</td>\n",
       "      <td>0.002154</td>\n",
       "      <td>0.5</td>\n",
       "    </tr>\n",
       "    <tr>\n",
       "      <th>9</th>\n",
       "      <td>0.338832</td>\n",
       "      <td>0.854757</td>\n",
       "      <td>0.001000</td>\n",
       "      <td>0.3</td>\n",
       "    </tr>\n",
       "    <tr>\n",
       "      <th>10</th>\n",
       "      <td>0.672013</td>\n",
       "      <td>0.730149</td>\n",
       "      <td>0.001000</td>\n",
       "      <td>0.4</td>\n",
       "    </tr>\n",
       "    <tr>\n",
       "      <th>11</th>\n",
       "      <td>0.944828</td>\n",
       "      <td>0.472425</td>\n",
       "      <td>0.001000</td>\n",
       "      <td>0.5</td>\n",
       "    </tr>\n",
       "  </tbody>\n",
       "</table>\n",
       "</div>"
      ],
      "text/plain": [
       "    Dev Loss  F1 score  Learning Rate  Dropout\n",
       "0   0.212475  0.932660       0.010000      0.3\n",
       "1   1.688669  0.541312       0.010000      0.4\n",
       "2   3.647328  0.375661       0.010000      0.5\n",
       "3   0.342973  0.919720       0.004642      0.3\n",
       "4   0.730853  0.926342       0.004642      0.4\n",
       "5   5.363662  0.490208       0.004642      0.5\n",
       "6   0.309493  0.886335       0.002154      0.3\n",
       "7   0.927400  0.620528       0.002154      0.4\n",
       "8   1.042223  0.500186       0.002154      0.5\n",
       "9   0.338832  0.854757       0.001000      0.3\n",
       "10  0.672013  0.730149       0.001000      0.4\n",
       "11  0.944828  0.472425       0.001000      0.5"
      ]
     },
     "execution_count": 35,
     "metadata": {},
     "output_type": "execute_result"
    }
   ],
   "source": [
    "np.random.seed(210116270)\n",
    "hidden_dimensions=[130,40,9] # 3 extra hidden layers\n",
    "lr_options=np.logspace(start=-2,stop=-3,num=4)\n",
    "dropout_opts=np.linspace(start=0.3,stop=0.5,num=3)\n",
    "scores_matrix3= np.empty(shape=(len(lr_options)*len(dropout_opts), 4)) # A matrix to store info for each option\n",
    "index=0 # index for above matrix\n",
    "\n",
    "for i in lr_options:\n",
    "    for j in dropout_opts:\n",
    "        W3_init = network_weights(vocab_size=len(vocabulary),embedding_dim=300,\n",
    "                    hidden_dim=hidden_dimensions, num_classes=3)\n",
    "        W3_init[0]=w_glove\n",
    "        w, tl, dl = SGD(train_index_doc, Y_train, W3_init,\n",
    "                            X_dev=dev_index_doc, \n",
    "                            Y_dev=Y_dev,\n",
    "                            lr=i, dropout=j,\n",
    "                            freeze_emb=True,\n",
    "                            tolerance=1e-04,\n",
    "                            epochs=10)\n",
    "        preds_de = [(forward_pass(x, w, dropout_rate=0.0)['y']) \n",
    "            for x,y in zip(dev_index_doc,labels_dev)]\n",
    "        f1_measure= f1_score(labels_dev,preds_de,average='macro')\n",
    "        scores_matrix3[index,:]= dl[-1], f1_measure, i, j   # loss in last epoch, f1 score, lr, dropout\n",
    "        index+= 1\n",
    "\n",
    "best_params=scores_matrix3[np.argmin(scores_matrix3,axis=0)[0]]    # lowest Cross Entropy loss after 10 epochs\n",
    "lowest_CE_loss = best_params[0]                                     #loss value\n",
    "best_lr3= best_params[2]                                    #best learning rate\n",
    "best_dropout3= best_params[3]                                    #best dropout rate\n",
    "\n",
    "print('The best parameters for Dev Loss {:.3f} computed over validation data is, lr={:.4f}, dropout={}'\n",
    "      .format(lowest_CE_loss,(best_lr3),best_dropout3))\n",
    "pd.DataFrame(scores_matrix3, columns = ['Dev Loss','F1 score', 'Learning Rate', 'Dropout'])"
   ]
  },
  {
   "cell_type": "code",
   "execution_count": 36,
   "metadata": {
    "colab": {
     "base_uri": "https://localhost:8080/",
     "height": 729
    },
    "id": "aeV052c7ZOpP",
    "outputId": "242a2445-de38-4538-a31b-36b9ee075763"
   },
   "outputs": [
    {
     "name": "stdout",
     "output_type": "stream",
     "text": [
      "Shape W0 (8931, 300)\n",
      "Shape W1 (300, 130)\n",
      "Shape W2 (130, 40)\n",
      "Shape W3 (40, 9)\n",
      "Shape W4 (9, 3)\n",
      "Epoch 1 | Training loss: 0.985 | Validation loss: 0.385 | Train F1 score: 0.79 |\n",
      "            Val F1 score: 0.80 | Forward pass time:1.211s | Backwardward pass time:3.114s |\n",
      "            Total time for epoch:4.325s\n",
      "Epoch 2 | Training loss: 0.764 | Validation loss: 1.183 | Train F1 score: 0.79 |\n",
      "            Val F1 score: 0.76 | Forward pass time:1.094s | Backwardward pass time:2.907s |\n",
      "            Total time for epoch:4.000s\n",
      "Epoch 3 | Training loss: 0.645 | Validation loss: 0.263 | Train F1 score: 0.88 |\n",
      "            Val F1 score: 0.94 | Forward pass time:1.390s | Backwardward pass time:3.599s |\n",
      "            Total time for epoch:4.988s\n",
      "Epoch 4 | Training loss: 0.589 | Validation loss: 2.744 | Train F1 score: 0.52 |\n",
      "            Val F1 score: 0.55 | Forward pass time:1.193s | Backwardward pass time:3.120s |\n",
      "            Total time for epoch:4.313s\n",
      "Epoch 5 | Training loss: 0.570 | Validation loss: 0.267 | Train F1 score: 0.90 |\n",
      "            Val F1 score: 0.96 | Forward pass time:1.122s | Backwardward pass time:2.862s |\n",
      "            Total time for epoch:3.984s\n",
      "Epoch 6 | Training loss: 0.561 | Validation loss: 0.139 | Train F1 score: 0.91 |\n",
      "            Val F1 score: 0.95 | Forward pass time:0.865s | Backwardward pass time:2.409s |\n",
      "            Total time for epoch:3.274s\n",
      "Epoch 7 | Training loss: 0.545 | Validation loss: 0.244 | Train F1 score: 0.89 |\n",
      "            Val F1 score: 0.93 | Forward pass time:0.800s | Backwardward pass time:2.333s |\n",
      "            Total time for epoch:3.133s\n",
      "Epoch 8 | Training loss: 0.528 | Validation loss: 0.351 | Train F1 score: 0.91 |\n",
      "            Val F1 score: 0.95 | Forward pass time:1.195s | Backwardward pass time:3.100s |\n",
      "            Total time for epoch:4.294s\n",
      "Epoch 9 | Training loss: 0.507 | Validation loss: 0.646 | Train F1 score: 0.53 |\n",
      "            Val F1 score: 0.56 | Forward pass time:1.463s | Backwardward pass time:3.637s |\n",
      "            Total time for epoch:5.100s\n",
      "Epoch 10 | Training loss: 0.542 | Validation loss: 0.509 | Train F1 score: 0.91 |\n",
      "            Val F1 score: 0.93 | Forward pass time:0.800s | Backwardward pass time:2.319s |\n",
      "            Total time for epoch:3.119s\n"
     ]
    },
    {
     "data": {
      "image/png": "[encoded data removed]",
      "text/plain": [
       "<Figure size 432x288 with 2 Axes>"
      ]
     },
     "metadata": {
      "needs_background": "light"
     },
     "output_type": "display_data"
    }
   ],
   "source": [
    "W3_init = network_weights(vocab_size=len(vocabulary),embedding_dim=300,\n",
    "                    hidden_dim=hidden_dimensions, num_classes=3)\n",
    "W3_init[0]=w_glove\n",
    "for i in range(len(W3_init)):\n",
    "    print('Shape W'+str(i), W3_init[i].shape)\n",
    "W3, loss_tr3, dev_loss3 = SGD(train_index_doc, Y_train,\n",
    "                            W3_init,\n",
    "                            X_dev=dev_index_doc, \n",
    "                            Y_dev=Y_dev,\n",
    "                            lr=best_lr3, \n",
    "                            dropout=best_dropout3,\n",
    "                            freeze_emb=True,\n",
    "                            tolerance=1e-04,\n",
    "                            print_progress=True,\n",
    "                            epochs=10,\n",
    "                            plot_fig=True)\n"
   ]
  },
  {
   "cell_type": "code",
   "execution_count": 37,
   "metadata": {
    "id": "NgLPQdLIZOpQ"
   },
   "outputs": [
    {
     "data": {
      "image/png": "[encoded data removed]",
      "text/plain": [
       "<Figure size 432x288 with 1 Axes>"
      ]
     },
     "metadata": {
      "needs_background": "light"
     },
     "output_type": "display_data"
    }
   ],
   "source": [
    "plot_graph(loss_tr3,dev_loss3)"
   ]
  },
  {
   "cell_type": "markdown",
   "metadata": {},
   "source": [
    "As per the plot of training and develpoment losses history above, it can be noted that the loss after 10 epochs for trainset is higher than devset. But it can be noted that the difference in loss is not that high, and a look at f1 scores point out a difference of just 2% in favour of validation set, which is expected as the model has weights pre learnt and the model is just trying to find additional features between the various hidden layer and output layer. If the development loss was really lower than training loss, the model would have been overfitting. Hence, we can say that the model has performed expectedly and is a good fit."
   ]
  },
  {
   "cell_type": "code",
   "execution_count": 38,
   "metadata": {
    "colab": {
     "base_uri": "https://localhost:8080/"
    },
    "id": "ieffKsc2ZOpQ",
    "outputId": "f00e663d-b309-4489-fcf1-4674538d400a",
    "scrolled": true
   },
   "outputs": [
    {
     "name": "stdout",
     "output_type": "stream",
     "text": [
      "Evaluation metrics for test data\n",
      "Accuracy: 0.9011111111111111\n",
      "Precision: 0.90146087748672\n",
      "Recall: 0.9011111111111111\n",
      "F1-Score: 0.9001778338353109\n"
     ]
    }
   ],
   "source": [
    "preds_te = [(forward_pass(x, W3, dropout_rate=0.0)['y']) \n",
    "            for x,y in zip(test_index_doc,labels_test)]\n",
    "print(\"Evaluation metrics for test data\")\n",
    "\n",
    "print('Accuracy:', accuracy_score(labels_test,preds_te))\n",
    "print('Precision:', precision_score(labels_test,preds_te,average='macro'))\n",
    "print('Recall:', recall_score(labels_test,preds_te,average='macro'))\n",
    "print('F1-Score:', f1_score(labels_test,preds_te,average='macro'))\n",
    "scores[2,:]=compute_scores(test_index_doc,labels_test,W3)\n"
   ]
  },
  {
   "cell_type": "markdown",
   "metadata": {
    "id": "yiFwGYGDZOpR"
   },
   "source": [
    "### Discuss how did you choose model hyperparameters ? "
   ]
  },
  {
   "cell_type": "markdown",
   "metadata": {
    "id": "iAyV38rCg00V"
   },
   "source": [
    "At first, a wide range of values were chosen(1x10^-9 to 0.1) for learning rate and values from (0.1 to 0.9) for dropout rate. Based on initial runs, the sweet spot was noted and the range of values were toned down narrowly such that the computation time remained low. The number of epochs for hyperparamter tuning was kept the same at 10 epochs.\n",
    "\n",
    "For the above model, the selection of hyperparameters was made using the lowest binary loss in last epoch. Later the best learning rate and dropout percentage were chosen from possible values and the model was again trained to print the progress, plot graphs and find the accuracy metrics."
   ]
  },
  {
   "cell_type": "markdown",
   "metadata": {
    "id": "RPNzP92MZOpR"
   },
   "source": [
    "## Full Results\n",
    "\n",
    "#### Add your final results here:\n",
    "\n"
   ]
  },
  {
   "cell_type": "code",
   "execution_count": 39,
   "metadata": {
    "colab": {
     "base_uri": "https://localhost:8080/",
     "height": 143
    },
    "id": "rk0ktkTCZOpR",
    "outputId": "aafd0901-0f1f-4c27-bcbe-bbd1c4eb5d32",
    "scrolled": true
   },
   "outputs": [
    {
     "data": {
      "text/html": [
       "<div>\n",
       "<style scoped>\n",
       "    .dataframe tbody tr th:only-of-type {\n",
       "        vertical-align: middle;\n",
       "    }\n",
       "\n",
       "    .dataframe tbody tr th {\n",
       "        vertical-align: top;\n",
       "    }\n",
       "\n",
       "    .dataframe thead th {\n",
       "        text-align: right;\n",
       "    }\n",
       "</style>\n",
       "<table border=\"1\" class=\"dataframe\">\n",
       "  <thead>\n",
       "    <tr style=\"text-align: right;\">\n",
       "      <th></th>\n",
       "      <th>Accuracy %</th>\n",
       "      <th>Precision</th>\n",
       "      <th>Recall</th>\n",
       "      <th>F1-Score</th>\n",
       "    </tr>\n",
       "  </thead>\n",
       "  <tbody>\n",
       "    <tr>\n",
       "      <th>Average Embedding</th>\n",
       "      <td>85.888889</td>\n",
       "      <td>0.861403</td>\n",
       "      <td>0.858889</td>\n",
       "      <td>0.858768</td>\n",
       "    </tr>\n",
       "    <tr>\n",
       "      <th>Average Embedding (Pre-trained)</th>\n",
       "      <td>89.000000</td>\n",
       "      <td>0.889648</td>\n",
       "      <td>0.890000</td>\n",
       "      <td>0.889700</td>\n",
       "    </tr>\n",
       "    <tr>\n",
       "      <th>Average Embedding (Pre-trained) + 3 hidden layers</th>\n",
       "      <td>90.111111</td>\n",
       "      <td>0.901461</td>\n",
       "      <td>0.901111</td>\n",
       "      <td>0.900178</td>\n",
       "    </tr>\n",
       "  </tbody>\n",
       "</table>\n",
       "</div>"
      ],
      "text/plain": [
       "                                                   Accuracy %  Precision  \\\n",
       "Average Embedding                                   85.888889   0.861403   \n",
       "Average Embedding (Pre-trained)                     89.000000   0.889648   \n",
       "Average Embedding (Pre-trained) + 3 hidden layers   90.111111   0.901461   \n",
       "\n",
       "                                                     Recall  F1-Score  \n",
       "Average Embedding                                  0.858889  0.858768  \n",
       "Average Embedding (Pre-trained)                    0.890000  0.889700  \n",
       "Average Embedding (Pre-trained) + 3 hidden layers  0.901111  0.900178  "
      ]
     },
     "execution_count": 39,
     "metadata": {},
     "output_type": "execute_result"
    }
   ],
   "source": [
    "row_names=[\"Average Embedding\",\"Average Embedding (Pre-trained)\",\"Average Embedding (Pre-trained) + 3 hidden layers\"]\n",
    "column_names=[\"Accuracy %\",\"Precision\",\"Recall\",\"F1-Score\"]\n",
    "Full_results= pd.DataFrame(scores, index=row_names, columns=column_names)\n",
    "Full_results"
   ]
  },
  {
   "cell_type": "markdown",
   "metadata": {
    "id": "y5vJ6zUxZOpS"
   },
   "source": [
    "#### Please discuss why your best performing model is better than the rest."
   ]
  },
  {
   "cell_type": "markdown",
   "metadata": {
    "id": "YGPDms-cZOpS"
   },
   "source": [
    "My best performing model is the model containing pre-trained average embedding and 3 hidden layers. But the accuracy improvement over the model with just pre-trained embedding is very minute and a change of number of hidden dimension can sometimes cause the model with extra hidden layers to perform worse than the pre-trained average embedding. This is because deeper neural networks need not necessarily produce better results than shallow neural networks. In a nutshell, when a neural network is deep, it tries to reproduce the identity. This is because the first part of the neural network has established an effective set of weights for achieving the goal(pre trained average embedding), and the next parts are now just adding noise. So the last parts will try to generate an identity function, which will fail miserably because we're trying to create an identity function from a nonlinear set of activations. It is similar to approximate a line using polynomials of degree >1 and hence generating a wavy mess which does no good for predictions. \n",
    "\n",
    "But in above case, the hidden dimensions for deeper network were chosen after much trail and error and there was a slight increase in the accuracy compared to pre trained average embedding.\n",
    "\n",
    "Reference- https://stats.stackexchange.com/questions/288037/more-shallow-network-outperformed-a-deeper-one-in-accuracy"
   ]
  },
  {
   "cell_type": "code",
   "execution_count": 40,
   "metadata": {
    "id": "1Lr4yGrEZOpS"
   },
   "outputs": [],
   "source": [
    "tot_time= time.time()-start1\n",
    "ex_time=end2-start2+end1-start1"
   ]
  },
  {
   "cell_type": "code",
   "execution_count": 41,
   "metadata": {},
   "outputs": [
    {
     "name": "stdout",
     "output_type": "stream",
     "text": [
      "Runtime of notebook excluding hyperparameter tuning is 514.68 seconds\n",
      "Runtime for hyperparameter tuning is 1509.61 seconds\n",
      "Runtime of full notebook is 2024.28 seconds\n"
     ]
    }
   ],
   "source": [
    "print(\"Runtime of notebook excluding hyperparameter tuning is {:.2f} seconds\".format(ex_time))\n",
    "print(\"Runtime for hyperparameter tuning is {:.2f} seconds\".format(tot_time-ex_time))\n",
    "print(\"Runtime of full notebook is {:.2f} seconds\".format(tot_time))"
   ]
  },
  {
   "cell_type": "code",
   "execution_count": null,
   "metadata": {},
   "outputs": [],
   "source": []
  }
 ],
 "metadata": {
  "accelerator": "TPU",
  "colab": {
   "name": "assignment2-2022.ipynb",
   "provenance": []
  },
  "kernelspec": {
   "display_name": "Python 3 (ipykernel)",
   "language": "python",
   "name": "python3"
  },
  "language_info": {
   "codemirror_mode": {
    "name": "ipython",
    "version": 3
   },
   "file_extension": ".py",
   "mimetype": "text/x-python",
   "name": "python",
   "nbconvert_exporter": "python",
   "pygments_lexer": "ipython3",
   "version": "3.8.12"
  }
 },
 "nbformat": 4,
 "nbformat_minor": 4
}
